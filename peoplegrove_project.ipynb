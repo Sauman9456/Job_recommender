{
  "nbformat": 4,
  "nbformat_minor": 0,
  "metadata": {
    "colab": {
      "name": "peoplegrove2.ipynb",
      "provenance": [],
      "collapsed_sections": [
        "WTQM_JN5o41n",
        "8AyT88PtzlqL",
        "fZ_vk8sI1Ses",
        "2eL8jfQc0AUx",
        "Jh2KUYrH05FD",
        "jdrMlSTX5jiD",
        "eXLj3vJk3qOO",
        "yM6O7JFy7uvi",
        "7hfvOtFG8HDw",
        "L56ZCMIh8c5I",
        "1K6UDQko8q-L",
        "urfd2NL1-TcW"
      ],
      "authorship_tag": "ABX9TyMjzd24KCXh9t6xhgkHyrWC",
      "include_colab_link": true
    },
    "kernelspec": {
      "name": "python3",
      "display_name": "Python 3"
    },
    "language_info": {
      "name": "python"
    },
    "accelerator": "GPU",
    "widgets": {
      "application/vnd.jupyter.widget-state+json": {
        "320d1600f36e4e51af6057470ecc34ec": {
          "model_module": "@jupyter-widgets/controls",
          "model_name": "HBoxModel",
          "model_module_version": "1.5.0",
          "state": {
            "_view_name": "HBoxView",
            "_dom_classes": [],
            "_model_name": "HBoxModel",
            "_view_module": "@jupyter-widgets/controls",
            "_model_module_version": "1.5.0",
            "_view_count": null,
            "_view_module_version": "1.5.0",
            "box_style": "",
            "layout": "IPY_MODEL_154e269bbb6a4e9c83c1847e005d61db",
            "_model_module": "@jupyter-widgets/controls",
            "children": [
              "IPY_MODEL_e2eadec88c5f490497892bcb4a5c851f",
              "IPY_MODEL_e08577e460044e178b3f4c6e6f57a92d",
              "IPY_MODEL_b5b002338624491aaeca4feb9c3c1de2"
            ]
          }
        },
        "154e269bbb6a4e9c83c1847e005d61db": {
          "model_module": "@jupyter-widgets/base",
          "model_name": "LayoutModel",
          "model_module_version": "1.2.0",
          "state": {
            "_view_name": "LayoutView",
            "grid_template_rows": null,
            "right": null,
            "justify_content": null,
            "_view_module": "@jupyter-widgets/base",
            "overflow": null,
            "_model_module_version": "1.2.0",
            "_view_count": null,
            "flex_flow": null,
            "width": null,
            "min_width": null,
            "border": null,
            "align_items": null,
            "bottom": null,
            "_model_module": "@jupyter-widgets/base",
            "top": null,
            "grid_column": null,
            "overflow_y": null,
            "overflow_x": null,
            "grid_auto_flow": null,
            "grid_area": null,
            "grid_template_columns": null,
            "flex": null,
            "_model_name": "LayoutModel",
            "justify_items": null,
            "grid_row": null,
            "max_height": null,
            "align_content": null,
            "visibility": null,
            "align_self": null,
            "height": null,
            "min_height": null,
            "padding": null,
            "grid_auto_rows": null,
            "grid_gap": null,
            "max_width": null,
            "order": null,
            "_view_module_version": "1.2.0",
            "grid_template_areas": null,
            "object_position": null,
            "object_fit": null,
            "grid_auto_columns": null,
            "margin": null,
            "display": null,
            "left": null
          }
        },
        "e2eadec88c5f490497892bcb4a5c851f": {
          "model_module": "@jupyter-widgets/controls",
          "model_name": "HTMLModel",
          "model_module_version": "1.5.0",
          "state": {
            "_view_name": "HTMLView",
            "style": "IPY_MODEL_ab2dcf75807b466da84fdad6f7bc9c25",
            "_dom_classes": [],
            "description": "",
            "_model_name": "HTMLModel",
            "placeholder": "​",
            "_view_module": "@jupyter-widgets/controls",
            "_model_module_version": "1.5.0",
            "value": "Downloading: 100%",
            "_view_count": null,
            "_view_module_version": "1.5.0",
            "description_tooltip": null,
            "_model_module": "@jupyter-widgets/controls",
            "layout": "IPY_MODEL_85443db927784c65b74154de0909e63c"
          }
        },
        "e08577e460044e178b3f4c6e6f57a92d": {
          "model_module": "@jupyter-widgets/controls",
          "model_name": "FloatProgressModel",
          "model_module_version": "1.5.0",
          "state": {
            "_view_name": "ProgressView",
            "style": "IPY_MODEL_9acf62d0c7a547c99a7023e44f34b2f1",
            "_dom_classes": [],
            "description": "",
            "_model_name": "FloatProgressModel",
            "bar_style": "success",
            "max": 1175,
            "_view_module": "@jupyter-widgets/controls",
            "_model_module_version": "1.5.0",
            "value": 1175,
            "_view_count": null,
            "_view_module_version": "1.5.0",
            "orientation": "horizontal",
            "min": 0,
            "description_tooltip": null,
            "_model_module": "@jupyter-widgets/controls",
            "layout": "IPY_MODEL_0352448caf104d419b99266e521eddee"
          }
        },
        "b5b002338624491aaeca4feb9c3c1de2": {
          "model_module": "@jupyter-widgets/controls",
          "model_name": "HTMLModel",
          "model_module_version": "1.5.0",
          "state": {
            "_view_name": "HTMLView",
            "style": "IPY_MODEL_66755fb1f0c141179771f2da91a2c726",
            "_dom_classes": [],
            "description": "",
            "_model_name": "HTMLModel",
            "placeholder": "​",
            "_view_module": "@jupyter-widgets/controls",
            "_model_module_version": "1.5.0",
            "value": " 1.18k/1.18k [00:00&lt;00:00, 33.5kB/s]",
            "_view_count": null,
            "_view_module_version": "1.5.0",
            "description_tooltip": null,
            "_model_module": "@jupyter-widgets/controls",
            "layout": "IPY_MODEL_82c1535b36e64599ad179d284f4140a8"
          }
        },
        "ab2dcf75807b466da84fdad6f7bc9c25": {
          "model_module": "@jupyter-widgets/controls",
          "model_name": "DescriptionStyleModel",
          "model_module_version": "1.5.0",
          "state": {
            "_view_name": "StyleView",
            "_model_name": "DescriptionStyleModel",
            "description_width": "",
            "_view_module": "@jupyter-widgets/base",
            "_model_module_version": "1.5.0",
            "_view_count": null,
            "_view_module_version": "1.2.0",
            "_model_module": "@jupyter-widgets/controls"
          }
        },
        "85443db927784c65b74154de0909e63c": {
          "model_module": "@jupyter-widgets/base",
          "model_name": "LayoutModel",
          "model_module_version": "1.2.0",
          "state": {
            "_view_name": "LayoutView",
            "grid_template_rows": null,
            "right": null,
            "justify_content": null,
            "_view_module": "@jupyter-widgets/base",
            "overflow": null,
            "_model_module_version": "1.2.0",
            "_view_count": null,
            "flex_flow": null,
            "width": null,
            "min_width": null,
            "border": null,
            "align_items": null,
            "bottom": null,
            "_model_module": "@jupyter-widgets/base",
            "top": null,
            "grid_column": null,
            "overflow_y": null,
            "overflow_x": null,
            "grid_auto_flow": null,
            "grid_area": null,
            "grid_template_columns": null,
            "flex": null,
            "_model_name": "LayoutModel",
            "justify_items": null,
            "grid_row": null,
            "max_height": null,
            "align_content": null,
            "visibility": null,
            "align_self": null,
            "height": null,
            "min_height": null,
            "padding": null,
            "grid_auto_rows": null,
            "grid_gap": null,
            "max_width": null,
            "order": null,
            "_view_module_version": "1.2.0",
            "grid_template_areas": null,
            "object_position": null,
            "object_fit": null,
            "grid_auto_columns": null,
            "margin": null,
            "display": null,
            "left": null
          }
        },
        "9acf62d0c7a547c99a7023e44f34b2f1": {
          "model_module": "@jupyter-widgets/controls",
          "model_name": "ProgressStyleModel",
          "model_module_version": "1.5.0",
          "state": {
            "_view_name": "StyleView",
            "_model_name": "ProgressStyleModel",
            "description_width": "",
            "_view_module": "@jupyter-widgets/base",
            "_model_module_version": "1.5.0",
            "_view_count": null,
            "_view_module_version": "1.2.0",
            "bar_color": null,
            "_model_module": "@jupyter-widgets/controls"
          }
        },
        "0352448caf104d419b99266e521eddee": {
          "model_module": "@jupyter-widgets/base",
          "model_name": "LayoutModel",
          "model_module_version": "1.2.0",
          "state": {
            "_view_name": "LayoutView",
            "grid_template_rows": null,
            "right": null,
            "justify_content": null,
            "_view_module": "@jupyter-widgets/base",
            "overflow": null,
            "_model_module_version": "1.2.0",
            "_view_count": null,
            "flex_flow": null,
            "width": null,
            "min_width": null,
            "border": null,
            "align_items": null,
            "bottom": null,
            "_model_module": "@jupyter-widgets/base",
            "top": null,
            "grid_column": null,
            "overflow_y": null,
            "overflow_x": null,
            "grid_auto_flow": null,
            "grid_area": null,
            "grid_template_columns": null,
            "flex": null,
            "_model_name": "LayoutModel",
            "justify_items": null,
            "grid_row": null,
            "max_height": null,
            "align_content": null,
            "visibility": null,
            "align_self": null,
            "height": null,
            "min_height": null,
            "padding": null,
            "grid_auto_rows": null,
            "grid_gap": null,
            "max_width": null,
            "order": null,
            "_view_module_version": "1.2.0",
            "grid_template_areas": null,
            "object_position": null,
            "object_fit": null,
            "grid_auto_columns": null,
            "margin": null,
            "display": null,
            "left": null
          }
        },
        "66755fb1f0c141179771f2da91a2c726": {
          "model_module": "@jupyter-widgets/controls",
          "model_name": "DescriptionStyleModel",
          "model_module_version": "1.5.0",
          "state": {
            "_view_name": "StyleView",
            "_model_name": "DescriptionStyleModel",
            "description_width": "",
            "_view_module": "@jupyter-widgets/base",
            "_model_module_version": "1.5.0",
            "_view_count": null,
            "_view_module_version": "1.2.0",
            "_model_module": "@jupyter-widgets/controls"
          }
        },
        "82c1535b36e64599ad179d284f4140a8": {
          "model_module": "@jupyter-widgets/base",
          "model_name": "LayoutModel",
          "model_module_version": "1.2.0",
          "state": {
            "_view_name": "LayoutView",
            "grid_template_rows": null,
            "right": null,
            "justify_content": null,
            "_view_module": "@jupyter-widgets/base",
            "overflow": null,
            "_model_module_version": "1.2.0",
            "_view_count": null,
            "flex_flow": null,
            "width": null,
            "min_width": null,
            "border": null,
            "align_items": null,
            "bottom": null,
            "_model_module": "@jupyter-widgets/base",
            "top": null,
            "grid_column": null,
            "overflow_y": null,
            "overflow_x": null,
            "grid_auto_flow": null,
            "grid_area": null,
            "grid_template_columns": null,
            "flex": null,
            "_model_name": "LayoutModel",
            "justify_items": null,
            "grid_row": null,
            "max_height": null,
            "align_content": null,
            "visibility": null,
            "align_self": null,
            "height": null,
            "min_height": null,
            "padding": null,
            "grid_auto_rows": null,
            "grid_gap": null,
            "max_width": null,
            "order": null,
            "_view_module_version": "1.2.0",
            "grid_template_areas": null,
            "object_position": null,
            "object_fit": null,
            "grid_auto_columns": null,
            "margin": null,
            "display": null,
            "left": null
          }
        },
        "4705216c94f7427bae86d857af3be887": {
          "model_module": "@jupyter-widgets/controls",
          "model_name": "HBoxModel",
          "model_module_version": "1.5.0",
          "state": {
            "_view_name": "HBoxView",
            "_dom_classes": [],
            "_model_name": "HBoxModel",
            "_view_module": "@jupyter-widgets/controls",
            "_model_module_version": "1.5.0",
            "_view_count": null,
            "_view_module_version": "1.5.0",
            "box_style": "",
            "layout": "IPY_MODEL_279e97f3749b4e9eb243539fc5caa8e4",
            "_model_module": "@jupyter-widgets/controls",
            "children": [
              "IPY_MODEL_d72b73c528ec410586c77f95b8a0f39d",
              "IPY_MODEL_489a191fd3954656b8327b7379d226dd",
              "IPY_MODEL_81b2be84f5c844a6a6982bcb4bdc43ad"
            ]
          }
        },
        "279e97f3749b4e9eb243539fc5caa8e4": {
          "model_module": "@jupyter-widgets/base",
          "model_name": "LayoutModel",
          "model_module_version": "1.2.0",
          "state": {
            "_view_name": "LayoutView",
            "grid_template_rows": null,
            "right": null,
            "justify_content": null,
            "_view_module": "@jupyter-widgets/base",
            "overflow": null,
            "_model_module_version": "1.2.0",
            "_view_count": null,
            "flex_flow": null,
            "width": null,
            "min_width": null,
            "border": null,
            "align_items": null,
            "bottom": null,
            "_model_module": "@jupyter-widgets/base",
            "top": null,
            "grid_column": null,
            "overflow_y": null,
            "overflow_x": null,
            "grid_auto_flow": null,
            "grid_area": null,
            "grid_template_columns": null,
            "flex": null,
            "_model_name": "LayoutModel",
            "justify_items": null,
            "grid_row": null,
            "max_height": null,
            "align_content": null,
            "visibility": null,
            "align_self": null,
            "height": null,
            "min_height": null,
            "padding": null,
            "grid_auto_rows": null,
            "grid_gap": null,
            "max_width": null,
            "order": null,
            "_view_module_version": "1.2.0",
            "grid_template_areas": null,
            "object_position": null,
            "object_fit": null,
            "grid_auto_columns": null,
            "margin": null,
            "display": null,
            "left": null
          }
        },
        "d72b73c528ec410586c77f95b8a0f39d": {
          "model_module": "@jupyter-widgets/controls",
          "model_name": "HTMLModel",
          "model_module_version": "1.5.0",
          "state": {
            "_view_name": "HTMLView",
            "style": "IPY_MODEL_9bd11c1b9fdc41d2bc2e6bb30bc36c0e",
            "_dom_classes": [],
            "description": "",
            "_model_name": "HTMLModel",
            "placeholder": "​",
            "_view_module": "@jupyter-widgets/controls",
            "_model_module_version": "1.5.0",
            "value": "Downloading: 100%",
            "_view_count": null,
            "_view_module_version": "1.5.0",
            "description_tooltip": null,
            "_model_module": "@jupyter-widgets/controls",
            "layout": "IPY_MODEL_a09392452bfa420ba94444171279310c"
          }
        },
        "489a191fd3954656b8327b7379d226dd": {
          "model_module": "@jupyter-widgets/controls",
          "model_name": "FloatProgressModel",
          "model_module_version": "1.5.0",
          "state": {
            "_view_name": "ProgressView",
            "style": "IPY_MODEL_c6f3b19412b7444db593ff91756bf77d",
            "_dom_classes": [],
            "description": "",
            "_model_name": "FloatProgressModel",
            "bar_style": "success",
            "max": 10138,
            "_view_module": "@jupyter-widgets/controls",
            "_model_module_version": "1.5.0",
            "value": 10138,
            "_view_count": null,
            "_view_module_version": "1.5.0",
            "orientation": "horizontal",
            "min": 0,
            "description_tooltip": null,
            "_model_module": "@jupyter-widgets/controls",
            "layout": "IPY_MODEL_8bab481f6006421f9e2d83a48ebe5b23"
          }
        },
        "81b2be84f5c844a6a6982bcb4bdc43ad": {
          "model_module": "@jupyter-widgets/controls",
          "model_name": "HTMLModel",
          "model_module_version": "1.5.0",
          "state": {
            "_view_name": "HTMLView",
            "style": "IPY_MODEL_ef83f4df37884797b062af174f71c596",
            "_dom_classes": [],
            "description": "",
            "_model_name": "HTMLModel",
            "placeholder": "​",
            "_view_module": "@jupyter-widgets/controls",
            "_model_module_version": "1.5.0",
            "value": " 10.1k/10.1k [00:00&lt;00:00, 358kB/s]",
            "_view_count": null,
            "_view_module_version": "1.5.0",
            "description_tooltip": null,
            "_model_module": "@jupyter-widgets/controls",
            "layout": "IPY_MODEL_72fb3842d6594dae9ce425fff0122cb9"
          }
        },
        "9bd11c1b9fdc41d2bc2e6bb30bc36c0e": {
          "model_module": "@jupyter-widgets/controls",
          "model_name": "DescriptionStyleModel",
          "model_module_version": "1.5.0",
          "state": {
            "_view_name": "StyleView",
            "_model_name": "DescriptionStyleModel",
            "description_width": "",
            "_view_module": "@jupyter-widgets/base",
            "_model_module_version": "1.5.0",
            "_view_count": null,
            "_view_module_version": "1.2.0",
            "_model_module": "@jupyter-widgets/controls"
          }
        },
        "a09392452bfa420ba94444171279310c": {
          "model_module": "@jupyter-widgets/base",
          "model_name": "LayoutModel",
          "model_module_version": "1.2.0",
          "state": {
            "_view_name": "LayoutView",
            "grid_template_rows": null,
            "right": null,
            "justify_content": null,
            "_view_module": "@jupyter-widgets/base",
            "overflow": null,
            "_model_module_version": "1.2.0",
            "_view_count": null,
            "flex_flow": null,
            "width": null,
            "min_width": null,
            "border": null,
            "align_items": null,
            "bottom": null,
            "_model_module": "@jupyter-widgets/base",
            "top": null,
            "grid_column": null,
            "overflow_y": null,
            "overflow_x": null,
            "grid_auto_flow": null,
            "grid_area": null,
            "grid_template_columns": null,
            "flex": null,
            "_model_name": "LayoutModel",
            "justify_items": null,
            "grid_row": null,
            "max_height": null,
            "align_content": null,
            "visibility": null,
            "align_self": null,
            "height": null,
            "min_height": null,
            "padding": null,
            "grid_auto_rows": null,
            "grid_gap": null,
            "max_width": null,
            "order": null,
            "_view_module_version": "1.2.0",
            "grid_template_areas": null,
            "object_position": null,
            "object_fit": null,
            "grid_auto_columns": null,
            "margin": null,
            "display": null,
            "left": null
          }
        },
        "c6f3b19412b7444db593ff91756bf77d": {
          "model_module": "@jupyter-widgets/controls",
          "model_name": "ProgressStyleModel",
          "model_module_version": "1.5.0",
          "state": {
            "_view_name": "StyleView",
            "_model_name": "ProgressStyleModel",
            "description_width": "",
            "_view_module": "@jupyter-widgets/base",
            "_model_module_version": "1.5.0",
            "_view_count": null,
            "_view_module_version": "1.2.0",
            "bar_color": null,
            "_model_module": "@jupyter-widgets/controls"
          }
        },
        "8bab481f6006421f9e2d83a48ebe5b23": {
          "model_module": "@jupyter-widgets/base",
          "model_name": "LayoutModel",
          "model_module_version": "1.2.0",
          "state": {
            "_view_name": "LayoutView",
            "grid_template_rows": null,
            "right": null,
            "justify_content": null,
            "_view_module": "@jupyter-widgets/base",
            "overflow": null,
            "_model_module_version": "1.2.0",
            "_view_count": null,
            "flex_flow": null,
            "width": null,
            "min_width": null,
            "border": null,
            "align_items": null,
            "bottom": null,
            "_model_module": "@jupyter-widgets/base",
            "top": null,
            "grid_column": null,
            "overflow_y": null,
            "overflow_x": null,
            "grid_auto_flow": null,
            "grid_area": null,
            "grid_template_columns": null,
            "flex": null,
            "_model_name": "LayoutModel",
            "justify_items": null,
            "grid_row": null,
            "max_height": null,
            "align_content": null,
            "visibility": null,
            "align_self": null,
            "height": null,
            "min_height": null,
            "padding": null,
            "grid_auto_rows": null,
            "grid_gap": null,
            "max_width": null,
            "order": null,
            "_view_module_version": "1.2.0",
            "grid_template_areas": null,
            "object_position": null,
            "object_fit": null,
            "grid_auto_columns": null,
            "margin": null,
            "display": null,
            "left": null
          }
        },
        "ef83f4df37884797b062af174f71c596": {
          "model_module": "@jupyter-widgets/controls",
          "model_name": "DescriptionStyleModel",
          "model_module_version": "1.5.0",
          "state": {
            "_view_name": "StyleView",
            "_model_name": "DescriptionStyleModel",
            "description_width": "",
            "_view_module": "@jupyter-widgets/base",
            "_model_module_version": "1.5.0",
            "_view_count": null,
            "_view_module_version": "1.2.0",
            "_model_module": "@jupyter-widgets/controls"
          }
        },
        "72fb3842d6594dae9ce425fff0122cb9": {
          "model_module": "@jupyter-widgets/base",
          "model_name": "LayoutModel",
          "model_module_version": "1.2.0",
          "state": {
            "_view_name": "LayoutView",
            "grid_template_rows": null,
            "right": null,
            "justify_content": null,
            "_view_module": "@jupyter-widgets/base",
            "overflow": null,
            "_model_module_version": "1.2.0",
            "_view_count": null,
            "flex_flow": null,
            "width": null,
            "min_width": null,
            "border": null,
            "align_items": null,
            "bottom": null,
            "_model_module": "@jupyter-widgets/base",
            "top": null,
            "grid_column": null,
            "overflow_y": null,
            "overflow_x": null,
            "grid_auto_flow": null,
            "grid_area": null,
            "grid_template_columns": null,
            "flex": null,
            "_model_name": "LayoutModel",
            "justify_items": null,
            "grid_row": null,
            "max_height": null,
            "align_content": null,
            "visibility": null,
            "align_self": null,
            "height": null,
            "min_height": null,
            "padding": null,
            "grid_auto_rows": null,
            "grid_gap": null,
            "max_width": null,
            "order": null,
            "_view_module_version": "1.2.0",
            "grid_template_areas": null,
            "object_position": null,
            "object_fit": null,
            "grid_auto_columns": null,
            "margin": null,
            "display": null,
            "left": null
          }
        },
        "f26cd28f5ec34b12babe67a9b7cbec5f": {
          "model_module": "@jupyter-widgets/controls",
          "model_name": "HBoxModel",
          "model_module_version": "1.5.0",
          "state": {
            "_view_name": "HBoxView",
            "_dom_classes": [],
            "_model_name": "HBoxModel",
            "_view_module": "@jupyter-widgets/controls",
            "_model_module_version": "1.5.0",
            "_view_count": null,
            "_view_module_version": "1.5.0",
            "box_style": "",
            "layout": "IPY_MODEL_3e8179b19a7e4bf48c221de4730387ad",
            "_model_module": "@jupyter-widgets/controls",
            "children": [
              "IPY_MODEL_9c380a8548af497fba57b930f14cd9ea",
              "IPY_MODEL_3664f552145d4d7c8a50e66b8a0c64f8",
              "IPY_MODEL_7b1435e3d6dd4627ae3289dc76a1182f"
            ]
          }
        },
        "3e8179b19a7e4bf48c221de4730387ad": {
          "model_module": "@jupyter-widgets/base",
          "model_name": "LayoutModel",
          "model_module_version": "1.2.0",
          "state": {
            "_view_name": "LayoutView",
            "grid_template_rows": null,
            "right": null,
            "justify_content": null,
            "_view_module": "@jupyter-widgets/base",
            "overflow": null,
            "_model_module_version": "1.2.0",
            "_view_count": null,
            "flex_flow": null,
            "width": null,
            "min_width": null,
            "border": null,
            "align_items": null,
            "bottom": null,
            "_model_module": "@jupyter-widgets/base",
            "top": null,
            "grid_column": null,
            "overflow_y": null,
            "overflow_x": null,
            "grid_auto_flow": null,
            "grid_area": null,
            "grid_template_columns": null,
            "flex": null,
            "_model_name": "LayoutModel",
            "justify_items": null,
            "grid_row": null,
            "max_height": null,
            "align_content": null,
            "visibility": null,
            "align_self": null,
            "height": null,
            "min_height": null,
            "padding": null,
            "grid_auto_rows": null,
            "grid_gap": null,
            "max_width": null,
            "order": null,
            "_view_module_version": "1.2.0",
            "grid_template_areas": null,
            "object_position": null,
            "object_fit": null,
            "grid_auto_columns": null,
            "margin": null,
            "display": null,
            "left": null
          }
        },
        "9c380a8548af497fba57b930f14cd9ea": {
          "model_module": "@jupyter-widgets/controls",
          "model_name": "HTMLModel",
          "model_module_version": "1.5.0",
          "state": {
            "_view_name": "HTMLView",
            "style": "IPY_MODEL_405af813a01049da8a71932cc99e7343",
            "_dom_classes": [],
            "description": "",
            "_model_name": "HTMLModel",
            "placeholder": "​",
            "_view_module": "@jupyter-widgets/controls",
            "_model_module_version": "1.5.0",
            "value": "Downloading: 100%",
            "_view_count": null,
            "_view_module_version": "1.5.0",
            "description_tooltip": null,
            "_model_module": "@jupyter-widgets/controls",
            "layout": "IPY_MODEL_fbdf0b77f6e04eee8af5e66056ed4de1"
          }
        },
        "3664f552145d4d7c8a50e66b8a0c64f8": {
          "model_module": "@jupyter-widgets/controls",
          "model_name": "FloatProgressModel",
          "model_module_version": "1.5.0",
          "state": {
            "_view_name": "ProgressView",
            "style": "IPY_MODEL_95098a0d777b4f45883227e733bbc08e",
            "_dom_classes": [],
            "description": "",
            "_model_name": "FloatProgressModel",
            "bar_style": "success",
            "max": 571,
            "_view_module": "@jupyter-widgets/controls",
            "_model_module_version": "1.5.0",
            "value": 571,
            "_view_count": null,
            "_view_module_version": "1.5.0",
            "orientation": "horizontal",
            "min": 0,
            "description_tooltip": null,
            "_model_module": "@jupyter-widgets/controls",
            "layout": "IPY_MODEL_3c582382a0874d9ba51ca2dd3c8a77df"
          }
        },
        "7b1435e3d6dd4627ae3289dc76a1182f": {
          "model_module": "@jupyter-widgets/controls",
          "model_name": "HTMLModel",
          "model_module_version": "1.5.0",
          "state": {
            "_view_name": "HTMLView",
            "style": "IPY_MODEL_5a7e0194cf0d4cb8a4fd2d30c80f235c",
            "_dom_classes": [],
            "description": "",
            "_model_name": "HTMLModel",
            "placeholder": "​",
            "_view_module": "@jupyter-widgets/controls",
            "_model_module_version": "1.5.0",
            "value": " 571/571 [00:00&lt;00:00, 12.8kB/s]",
            "_view_count": null,
            "_view_module_version": "1.5.0",
            "description_tooltip": null,
            "_model_module": "@jupyter-widgets/controls",
            "layout": "IPY_MODEL_f14939a1c3a1471c90be945d251e6937"
          }
        },
        "405af813a01049da8a71932cc99e7343": {
          "model_module": "@jupyter-widgets/controls",
          "model_name": "DescriptionStyleModel",
          "model_module_version": "1.5.0",
          "state": {
            "_view_name": "StyleView",
            "_model_name": "DescriptionStyleModel",
            "description_width": "",
            "_view_module": "@jupyter-widgets/base",
            "_model_module_version": "1.5.0",
            "_view_count": null,
            "_view_module_version": "1.2.0",
            "_model_module": "@jupyter-widgets/controls"
          }
        },
        "fbdf0b77f6e04eee8af5e66056ed4de1": {
          "model_module": "@jupyter-widgets/base",
          "model_name": "LayoutModel",
          "model_module_version": "1.2.0",
          "state": {
            "_view_name": "LayoutView",
            "grid_template_rows": null,
            "right": null,
            "justify_content": null,
            "_view_module": "@jupyter-widgets/base",
            "overflow": null,
            "_model_module_version": "1.2.0",
            "_view_count": null,
            "flex_flow": null,
            "width": null,
            "min_width": null,
            "border": null,
            "align_items": null,
            "bottom": null,
            "_model_module": "@jupyter-widgets/base",
            "top": null,
            "grid_column": null,
            "overflow_y": null,
            "overflow_x": null,
            "grid_auto_flow": null,
            "grid_area": null,
            "grid_template_columns": null,
            "flex": null,
            "_model_name": "LayoutModel",
            "justify_items": null,
            "grid_row": null,
            "max_height": null,
            "align_content": null,
            "visibility": null,
            "align_self": null,
            "height": null,
            "min_height": null,
            "padding": null,
            "grid_auto_rows": null,
            "grid_gap": null,
            "max_width": null,
            "order": null,
            "_view_module_version": "1.2.0",
            "grid_template_areas": null,
            "object_position": null,
            "object_fit": null,
            "grid_auto_columns": null,
            "margin": null,
            "display": null,
            "left": null
          }
        },
        "95098a0d777b4f45883227e733bbc08e": {
          "model_module": "@jupyter-widgets/controls",
          "model_name": "ProgressStyleModel",
          "model_module_version": "1.5.0",
          "state": {
            "_view_name": "StyleView",
            "_model_name": "ProgressStyleModel",
            "description_width": "",
            "_view_module": "@jupyter-widgets/base",
            "_model_module_version": "1.5.0",
            "_view_count": null,
            "_view_module_version": "1.2.0",
            "bar_color": null,
            "_model_module": "@jupyter-widgets/controls"
          }
        },
        "3c582382a0874d9ba51ca2dd3c8a77df": {
          "model_module": "@jupyter-widgets/base",
          "model_name": "LayoutModel",
          "model_module_version": "1.2.0",
          "state": {
            "_view_name": "LayoutView",
            "grid_template_rows": null,
            "right": null,
            "justify_content": null,
            "_view_module": "@jupyter-widgets/base",
            "overflow": null,
            "_model_module_version": "1.2.0",
            "_view_count": null,
            "flex_flow": null,
            "width": null,
            "min_width": null,
            "border": null,
            "align_items": null,
            "bottom": null,
            "_model_module": "@jupyter-widgets/base",
            "top": null,
            "grid_column": null,
            "overflow_y": null,
            "overflow_x": null,
            "grid_auto_flow": null,
            "grid_area": null,
            "grid_template_columns": null,
            "flex": null,
            "_model_name": "LayoutModel",
            "justify_items": null,
            "grid_row": null,
            "max_height": null,
            "align_content": null,
            "visibility": null,
            "align_self": null,
            "height": null,
            "min_height": null,
            "padding": null,
            "grid_auto_rows": null,
            "grid_gap": null,
            "max_width": null,
            "order": null,
            "_view_module_version": "1.2.0",
            "grid_template_areas": null,
            "object_position": null,
            "object_fit": null,
            "grid_auto_columns": null,
            "margin": null,
            "display": null,
            "left": null
          }
        },
        "5a7e0194cf0d4cb8a4fd2d30c80f235c": {
          "model_module": "@jupyter-widgets/controls",
          "model_name": "DescriptionStyleModel",
          "model_module_version": "1.5.0",
          "state": {
            "_view_name": "StyleView",
            "_model_name": "DescriptionStyleModel",
            "description_width": "",
            "_view_module": "@jupyter-widgets/base",
            "_model_module_version": "1.5.0",
            "_view_count": null,
            "_view_module_version": "1.2.0",
            "_model_module": "@jupyter-widgets/controls"
          }
        },
        "f14939a1c3a1471c90be945d251e6937": {
          "model_module": "@jupyter-widgets/base",
          "model_name": "LayoutModel",
          "model_module_version": "1.2.0",
          "state": {
            "_view_name": "LayoutView",
            "grid_template_rows": null,
            "right": null,
            "justify_content": null,
            "_view_module": "@jupyter-widgets/base",
            "overflow": null,
            "_model_module_version": "1.2.0",
            "_view_count": null,
            "flex_flow": null,
            "width": null,
            "min_width": null,
            "border": null,
            "align_items": null,
            "bottom": null,
            "_model_module": "@jupyter-widgets/base",
            "top": null,
            "grid_column": null,
            "overflow_y": null,
            "overflow_x": null,
            "grid_auto_flow": null,
            "grid_area": null,
            "grid_template_columns": null,
            "flex": null,
            "_model_name": "LayoutModel",
            "justify_items": null,
            "grid_row": null,
            "max_height": null,
            "align_content": null,
            "visibility": null,
            "align_self": null,
            "height": null,
            "min_height": null,
            "padding": null,
            "grid_auto_rows": null,
            "grid_gap": null,
            "max_width": null,
            "order": null,
            "_view_module_version": "1.2.0",
            "grid_template_areas": null,
            "object_position": null,
            "object_fit": null,
            "grid_auto_columns": null,
            "margin": null,
            "display": null,
            "left": null
          }
        },
        "47c72b0933b543f9925c105b37afcf66": {
          "model_module": "@jupyter-widgets/controls",
          "model_name": "HBoxModel",
          "model_module_version": "1.5.0",
          "state": {
            "_view_name": "HBoxView",
            "_dom_classes": [],
            "_model_name": "HBoxModel",
            "_view_module": "@jupyter-widgets/controls",
            "_model_module_version": "1.5.0",
            "_view_count": null,
            "_view_module_version": "1.5.0",
            "box_style": "",
            "layout": "IPY_MODEL_73cda005f65148a8bfff77a52d7d783c",
            "_model_module": "@jupyter-widgets/controls",
            "children": [
              "IPY_MODEL_5519c7f4d0df40c29c86bb954fe1993d",
              "IPY_MODEL_049418be50e54262b3a902e35ad1ae49",
              "IPY_MODEL_3026dad996404c5a90e184cc052f5219"
            ]
          }
        },
        "73cda005f65148a8bfff77a52d7d783c": {
          "model_module": "@jupyter-widgets/base",
          "model_name": "LayoutModel",
          "model_module_version": "1.2.0",
          "state": {
            "_view_name": "LayoutView",
            "grid_template_rows": null,
            "right": null,
            "justify_content": null,
            "_view_module": "@jupyter-widgets/base",
            "overflow": null,
            "_model_module_version": "1.2.0",
            "_view_count": null,
            "flex_flow": null,
            "width": null,
            "min_width": null,
            "border": null,
            "align_items": null,
            "bottom": null,
            "_model_module": "@jupyter-widgets/base",
            "top": null,
            "grid_column": null,
            "overflow_y": null,
            "overflow_x": null,
            "grid_auto_flow": null,
            "grid_area": null,
            "grid_template_columns": null,
            "flex": null,
            "_model_name": "LayoutModel",
            "justify_items": null,
            "grid_row": null,
            "max_height": null,
            "align_content": null,
            "visibility": null,
            "align_self": null,
            "height": null,
            "min_height": null,
            "padding": null,
            "grid_auto_rows": null,
            "grid_gap": null,
            "max_width": null,
            "order": null,
            "_view_module_version": "1.2.0",
            "grid_template_areas": null,
            "object_position": null,
            "object_fit": null,
            "grid_auto_columns": null,
            "margin": null,
            "display": null,
            "left": null
          }
        },
        "5519c7f4d0df40c29c86bb954fe1993d": {
          "model_module": "@jupyter-widgets/controls",
          "model_name": "HTMLModel",
          "model_module_version": "1.5.0",
          "state": {
            "_view_name": "HTMLView",
            "style": "IPY_MODEL_5a34e7b405c649c2a58777e1cb819efb",
            "_dom_classes": [],
            "description": "",
            "_model_name": "HTMLModel",
            "placeholder": "​",
            "_view_module": "@jupyter-widgets/controls",
            "_model_module_version": "1.5.0",
            "value": "Downloading: 100%",
            "_view_count": null,
            "_view_module_version": "1.5.0",
            "description_tooltip": null,
            "_model_module": "@jupyter-widgets/controls",
            "layout": "IPY_MODEL_0ac703a808604275926383e6f3e71833"
          }
        },
        "049418be50e54262b3a902e35ad1ae49": {
          "model_module": "@jupyter-widgets/controls",
          "model_name": "FloatProgressModel",
          "model_module_version": "1.5.0",
          "state": {
            "_view_name": "ProgressView",
            "style": "IPY_MODEL_606b0dacce3a4236bcaef10069b26a9d",
            "_dom_classes": [],
            "description": "",
            "_model_name": "FloatProgressModel",
            "bar_style": "success",
            "max": 116,
            "_view_module": "@jupyter-widgets/controls",
            "_model_module_version": "1.5.0",
            "value": 116,
            "_view_count": null,
            "_view_module_version": "1.5.0",
            "orientation": "horizontal",
            "min": 0,
            "description_tooltip": null,
            "_model_module": "@jupyter-widgets/controls",
            "layout": "IPY_MODEL_3bd45bb55f4147a9923daba14340be61"
          }
        },
        "3026dad996404c5a90e184cc052f5219": {
          "model_module": "@jupyter-widgets/controls",
          "model_name": "HTMLModel",
          "model_module_version": "1.5.0",
          "state": {
            "_view_name": "HTMLView",
            "style": "IPY_MODEL_6b171283d4594d409e494d4cf4a3125e",
            "_dom_classes": [],
            "description": "",
            "_model_name": "HTMLModel",
            "placeholder": "​",
            "_view_module": "@jupyter-widgets/controls",
            "_model_module_version": "1.5.0",
            "value": " 116/116 [00:00&lt;00:00, 3.41kB/s]",
            "_view_count": null,
            "_view_module_version": "1.5.0",
            "description_tooltip": null,
            "_model_module": "@jupyter-widgets/controls",
            "layout": "IPY_MODEL_dbc69d012d494e1b83ad39c6c59cd5b2"
          }
        },
        "5a34e7b405c649c2a58777e1cb819efb": {
          "model_module": "@jupyter-widgets/controls",
          "model_name": "DescriptionStyleModel",
          "model_module_version": "1.5.0",
          "state": {
            "_view_name": "StyleView",
            "_model_name": "DescriptionStyleModel",
            "description_width": "",
            "_view_module": "@jupyter-widgets/base",
            "_model_module_version": "1.5.0",
            "_view_count": null,
            "_view_module_version": "1.2.0",
            "_model_module": "@jupyter-widgets/controls"
          }
        },
        "0ac703a808604275926383e6f3e71833": {
          "model_module": "@jupyter-widgets/base",
          "model_name": "LayoutModel",
          "model_module_version": "1.2.0",
          "state": {
            "_view_name": "LayoutView",
            "grid_template_rows": null,
            "right": null,
            "justify_content": null,
            "_view_module": "@jupyter-widgets/base",
            "overflow": null,
            "_model_module_version": "1.2.0",
            "_view_count": null,
            "flex_flow": null,
            "width": null,
            "min_width": null,
            "border": null,
            "align_items": null,
            "bottom": null,
            "_model_module": "@jupyter-widgets/base",
            "top": null,
            "grid_column": null,
            "overflow_y": null,
            "overflow_x": null,
            "grid_auto_flow": null,
            "grid_area": null,
            "grid_template_columns": null,
            "flex": null,
            "_model_name": "LayoutModel",
            "justify_items": null,
            "grid_row": null,
            "max_height": null,
            "align_content": null,
            "visibility": null,
            "align_self": null,
            "height": null,
            "min_height": null,
            "padding": null,
            "grid_auto_rows": null,
            "grid_gap": null,
            "max_width": null,
            "order": null,
            "_view_module_version": "1.2.0",
            "grid_template_areas": null,
            "object_position": null,
            "object_fit": null,
            "grid_auto_columns": null,
            "margin": null,
            "display": null,
            "left": null
          }
        },
        "606b0dacce3a4236bcaef10069b26a9d": {
          "model_module": "@jupyter-widgets/controls",
          "model_name": "ProgressStyleModel",
          "model_module_version": "1.5.0",
          "state": {
            "_view_name": "StyleView",
            "_model_name": "ProgressStyleModel",
            "description_width": "",
            "_view_module": "@jupyter-widgets/base",
            "_model_module_version": "1.5.0",
            "_view_count": null,
            "_view_module_version": "1.2.0",
            "bar_color": null,
            "_model_module": "@jupyter-widgets/controls"
          }
        },
        "3bd45bb55f4147a9923daba14340be61": {
          "model_module": "@jupyter-widgets/base",
          "model_name": "LayoutModel",
          "model_module_version": "1.2.0",
          "state": {
            "_view_name": "LayoutView",
            "grid_template_rows": null,
            "right": null,
            "justify_content": null,
            "_view_module": "@jupyter-widgets/base",
            "overflow": null,
            "_model_module_version": "1.2.0",
            "_view_count": null,
            "flex_flow": null,
            "width": null,
            "min_width": null,
            "border": null,
            "align_items": null,
            "bottom": null,
            "_model_module": "@jupyter-widgets/base",
            "top": null,
            "grid_column": null,
            "overflow_y": null,
            "overflow_x": null,
            "grid_auto_flow": null,
            "grid_area": null,
            "grid_template_columns": null,
            "flex": null,
            "_model_name": "LayoutModel",
            "justify_items": null,
            "grid_row": null,
            "max_height": null,
            "align_content": null,
            "visibility": null,
            "align_self": null,
            "height": null,
            "min_height": null,
            "padding": null,
            "grid_auto_rows": null,
            "grid_gap": null,
            "max_width": null,
            "order": null,
            "_view_module_version": "1.2.0",
            "grid_template_areas": null,
            "object_position": null,
            "object_fit": null,
            "grid_auto_columns": null,
            "margin": null,
            "display": null,
            "left": null
          }
        },
        "6b171283d4594d409e494d4cf4a3125e": {
          "model_module": "@jupyter-widgets/controls",
          "model_name": "DescriptionStyleModel",
          "model_module_version": "1.5.0",
          "state": {
            "_view_name": "StyleView",
            "_model_name": "DescriptionStyleModel",
            "description_width": "",
            "_view_module": "@jupyter-widgets/base",
            "_model_module_version": "1.5.0",
            "_view_count": null,
            "_view_module_version": "1.2.0",
            "_model_module": "@jupyter-widgets/controls"
          }
        },
        "dbc69d012d494e1b83ad39c6c59cd5b2": {
          "model_module": "@jupyter-widgets/base",
          "model_name": "LayoutModel",
          "model_module_version": "1.2.0",
          "state": {
            "_view_name": "LayoutView",
            "grid_template_rows": null,
            "right": null,
            "justify_content": null,
            "_view_module": "@jupyter-widgets/base",
            "overflow": null,
            "_model_module_version": "1.2.0",
            "_view_count": null,
            "flex_flow": null,
            "width": null,
            "min_width": null,
            "border": null,
            "align_items": null,
            "bottom": null,
            "_model_module": "@jupyter-widgets/base",
            "top": null,
            "grid_column": null,
            "overflow_y": null,
            "overflow_x": null,
            "grid_auto_flow": null,
            "grid_area": null,
            "grid_template_columns": null,
            "flex": null,
            "_model_name": "LayoutModel",
            "justify_items": null,
            "grid_row": null,
            "max_height": null,
            "align_content": null,
            "visibility": null,
            "align_self": null,
            "height": null,
            "min_height": null,
            "padding": null,
            "grid_auto_rows": null,
            "grid_gap": null,
            "max_width": null,
            "order": null,
            "_view_module_version": "1.2.0",
            "grid_template_areas": null,
            "object_position": null,
            "object_fit": null,
            "grid_auto_columns": null,
            "margin": null,
            "display": null,
            "left": null
          }
        },
        "67772d4253d243379ba026ad857b9211": {
          "model_module": "@jupyter-widgets/controls",
          "model_name": "HBoxModel",
          "model_module_version": "1.5.0",
          "state": {
            "_view_name": "HBoxView",
            "_dom_classes": [],
            "_model_name": "HBoxModel",
            "_view_module": "@jupyter-widgets/controls",
            "_model_module_version": "1.5.0",
            "_view_count": null,
            "_view_module_version": "1.5.0",
            "box_style": "",
            "layout": "IPY_MODEL_c97c97b7eddb47bfada1819695256ba0",
            "_model_module": "@jupyter-widgets/controls",
            "children": [
              "IPY_MODEL_dd2a7582190747a5bab7b828e83cb432",
              "IPY_MODEL_f749ef79e15b4c62b5a1f67989ddc593",
              "IPY_MODEL_2bed06ebb27448ab972f52610bed53de"
            ]
          }
        },
        "c97c97b7eddb47bfada1819695256ba0": {
          "model_module": "@jupyter-widgets/base",
          "model_name": "LayoutModel",
          "model_module_version": "1.2.0",
          "state": {
            "_view_name": "LayoutView",
            "grid_template_rows": null,
            "right": null,
            "justify_content": null,
            "_view_module": "@jupyter-widgets/base",
            "overflow": null,
            "_model_module_version": "1.2.0",
            "_view_count": null,
            "flex_flow": null,
            "width": null,
            "min_width": null,
            "border": null,
            "align_items": null,
            "bottom": null,
            "_model_module": "@jupyter-widgets/base",
            "top": null,
            "grid_column": null,
            "overflow_y": null,
            "overflow_x": null,
            "grid_auto_flow": null,
            "grid_area": null,
            "grid_template_columns": null,
            "flex": null,
            "_model_name": "LayoutModel",
            "justify_items": null,
            "grid_row": null,
            "max_height": null,
            "align_content": null,
            "visibility": null,
            "align_self": null,
            "height": null,
            "min_height": null,
            "padding": null,
            "grid_auto_rows": null,
            "grid_gap": null,
            "max_width": null,
            "order": null,
            "_view_module_version": "1.2.0",
            "grid_template_areas": null,
            "object_position": null,
            "object_fit": null,
            "grid_auto_columns": null,
            "margin": null,
            "display": null,
            "left": null
          }
        },
        "dd2a7582190747a5bab7b828e83cb432": {
          "model_module": "@jupyter-widgets/controls",
          "model_name": "HTMLModel",
          "model_module_version": "1.5.0",
          "state": {
            "_view_name": "HTMLView",
            "style": "IPY_MODEL_9c28116c43484f80b779451c0f7f5b12",
            "_dom_classes": [],
            "description": "",
            "_model_name": "HTMLModel",
            "placeholder": "​",
            "_view_module": "@jupyter-widgets/controls",
            "_model_module_version": "1.5.0",
            "value": "Downloading: 100%",
            "_view_count": null,
            "_view_module_version": "1.5.0",
            "description_tooltip": null,
            "_model_module": "@jupyter-widgets/controls",
            "layout": "IPY_MODEL_edd22b21ee6147789137d99781dac0aa"
          }
        },
        "f749ef79e15b4c62b5a1f67989ddc593": {
          "model_module": "@jupyter-widgets/controls",
          "model_name": "FloatProgressModel",
          "model_module_version": "1.5.0",
          "state": {
            "_view_name": "ProgressView",
            "style": "IPY_MODEL_18d1a951c59e4dc2833f406af980bb84",
            "_dom_classes": [],
            "description": "",
            "_model_name": "FloatProgressModel",
            "bar_style": "success",
            "max": 39265,
            "_view_module": "@jupyter-widgets/controls",
            "_model_module_version": "1.5.0",
            "value": 39265,
            "_view_count": null,
            "_view_module_version": "1.5.0",
            "orientation": "horizontal",
            "min": 0,
            "description_tooltip": null,
            "_model_module": "@jupyter-widgets/controls",
            "layout": "IPY_MODEL_be3df6c495bd4ac29159c44c391e30db"
          }
        },
        "2bed06ebb27448ab972f52610bed53de": {
          "model_module": "@jupyter-widgets/controls",
          "model_name": "HTMLModel",
          "model_module_version": "1.5.0",
          "state": {
            "_view_name": "HTMLView",
            "style": "IPY_MODEL_d19ac0717d2744b5b9f614c4379b93ad",
            "_dom_classes": [],
            "description": "",
            "_model_name": "HTMLModel",
            "placeholder": "​",
            "_view_module": "@jupyter-widgets/controls",
            "_model_module_version": "1.5.0",
            "value": " 39.3k/39.3k [00:00&lt;00:00, 649kB/s]",
            "_view_count": null,
            "_view_module_version": "1.5.0",
            "description_tooltip": null,
            "_model_module": "@jupyter-widgets/controls",
            "layout": "IPY_MODEL_6c2523e817e143a7bea43559f9aa0d59"
          }
        },
        "9c28116c43484f80b779451c0f7f5b12": {
          "model_module": "@jupyter-widgets/controls",
          "model_name": "DescriptionStyleModel",
          "model_module_version": "1.5.0",
          "state": {
            "_view_name": "StyleView",
            "_model_name": "DescriptionStyleModel",
            "description_width": "",
            "_view_module": "@jupyter-widgets/base",
            "_model_module_version": "1.5.0",
            "_view_count": null,
            "_view_module_version": "1.2.0",
            "_model_module": "@jupyter-widgets/controls"
          }
        },
        "edd22b21ee6147789137d99781dac0aa": {
          "model_module": "@jupyter-widgets/base",
          "model_name": "LayoutModel",
          "model_module_version": "1.2.0",
          "state": {
            "_view_name": "LayoutView",
            "grid_template_rows": null,
            "right": null,
            "justify_content": null,
            "_view_module": "@jupyter-widgets/base",
            "overflow": null,
            "_model_module_version": "1.2.0",
            "_view_count": null,
            "flex_flow": null,
            "width": null,
            "min_width": null,
            "border": null,
            "align_items": null,
            "bottom": null,
            "_model_module": "@jupyter-widgets/base",
            "top": null,
            "grid_column": null,
            "overflow_y": null,
            "overflow_x": null,
            "grid_auto_flow": null,
            "grid_area": null,
            "grid_template_columns": null,
            "flex": null,
            "_model_name": "LayoutModel",
            "justify_items": null,
            "grid_row": null,
            "max_height": null,
            "align_content": null,
            "visibility": null,
            "align_self": null,
            "height": null,
            "min_height": null,
            "padding": null,
            "grid_auto_rows": null,
            "grid_gap": null,
            "max_width": null,
            "order": null,
            "_view_module_version": "1.2.0",
            "grid_template_areas": null,
            "object_position": null,
            "object_fit": null,
            "grid_auto_columns": null,
            "margin": null,
            "display": null,
            "left": null
          }
        },
        "18d1a951c59e4dc2833f406af980bb84": {
          "model_module": "@jupyter-widgets/controls",
          "model_name": "ProgressStyleModel",
          "model_module_version": "1.5.0",
          "state": {
            "_view_name": "StyleView",
            "_model_name": "ProgressStyleModel",
            "description_width": "",
            "_view_module": "@jupyter-widgets/base",
            "_model_module_version": "1.5.0",
            "_view_count": null,
            "_view_module_version": "1.2.0",
            "bar_color": null,
            "_model_module": "@jupyter-widgets/controls"
          }
        },
        "be3df6c495bd4ac29159c44c391e30db": {
          "model_module": "@jupyter-widgets/base",
          "model_name": "LayoutModel",
          "model_module_version": "1.2.0",
          "state": {
            "_view_name": "LayoutView",
            "grid_template_rows": null,
            "right": null,
            "justify_content": null,
            "_view_module": "@jupyter-widgets/base",
            "overflow": null,
            "_model_module_version": "1.2.0",
            "_view_count": null,
            "flex_flow": null,
            "width": null,
            "min_width": null,
            "border": null,
            "align_items": null,
            "bottom": null,
            "_model_module": "@jupyter-widgets/base",
            "top": null,
            "grid_column": null,
            "overflow_y": null,
            "overflow_x": null,
            "grid_auto_flow": null,
            "grid_area": null,
            "grid_template_columns": null,
            "flex": null,
            "_model_name": "LayoutModel",
            "justify_items": null,
            "grid_row": null,
            "max_height": null,
            "align_content": null,
            "visibility": null,
            "align_self": null,
            "height": null,
            "min_height": null,
            "padding": null,
            "grid_auto_rows": null,
            "grid_gap": null,
            "max_width": null,
            "order": null,
            "_view_module_version": "1.2.0",
            "grid_template_areas": null,
            "object_position": null,
            "object_fit": null,
            "grid_auto_columns": null,
            "margin": null,
            "display": null,
            "left": null
          }
        },
        "d19ac0717d2744b5b9f614c4379b93ad": {
          "model_module": "@jupyter-widgets/controls",
          "model_name": "DescriptionStyleModel",
          "model_module_version": "1.5.0",
          "state": {
            "_view_name": "StyleView",
            "_model_name": "DescriptionStyleModel",
            "description_width": "",
            "_view_module": "@jupyter-widgets/base",
            "_model_module_version": "1.5.0",
            "_view_count": null,
            "_view_module_version": "1.2.0",
            "_model_module": "@jupyter-widgets/controls"
          }
        },
        "6c2523e817e143a7bea43559f9aa0d59": {
          "model_module": "@jupyter-widgets/base",
          "model_name": "LayoutModel",
          "model_module_version": "1.2.0",
          "state": {
            "_view_name": "LayoutView",
            "grid_template_rows": null,
            "right": null,
            "justify_content": null,
            "_view_module": "@jupyter-widgets/base",
            "overflow": null,
            "_model_module_version": "1.2.0",
            "_view_count": null,
            "flex_flow": null,
            "width": null,
            "min_width": null,
            "border": null,
            "align_items": null,
            "bottom": null,
            "_model_module": "@jupyter-widgets/base",
            "top": null,
            "grid_column": null,
            "overflow_y": null,
            "overflow_x": null,
            "grid_auto_flow": null,
            "grid_area": null,
            "grid_template_columns": null,
            "flex": null,
            "_model_name": "LayoutModel",
            "justify_items": null,
            "grid_row": null,
            "max_height": null,
            "align_content": null,
            "visibility": null,
            "align_self": null,
            "height": null,
            "min_height": null,
            "padding": null,
            "grid_auto_rows": null,
            "grid_gap": null,
            "max_width": null,
            "order": null,
            "_view_module_version": "1.2.0",
            "grid_template_areas": null,
            "object_position": null,
            "object_fit": null,
            "grid_auto_columns": null,
            "margin": null,
            "display": null,
            "left": null
          }
        },
        "356597ba1ad94d74add5e7165ba852ae": {
          "model_module": "@jupyter-widgets/controls",
          "model_name": "HBoxModel",
          "model_module_version": "1.5.0",
          "state": {
            "_view_name": "HBoxView",
            "_dom_classes": [],
            "_model_name": "HBoxModel",
            "_view_module": "@jupyter-widgets/controls",
            "_model_module_version": "1.5.0",
            "_view_count": null,
            "_view_module_version": "1.5.0",
            "box_style": "",
            "layout": "IPY_MODEL_e52f50d824fe41b98d21c2d55621dca5",
            "_model_module": "@jupyter-widgets/controls",
            "children": [
              "IPY_MODEL_9122fe3d85fb42eb9d51beb78043ae48",
              "IPY_MODEL_66b197904ef94d6ca70a9bbd881b3737",
              "IPY_MODEL_a413c6789e2b45379e14f0e039b7c006"
            ]
          }
        },
        "e52f50d824fe41b98d21c2d55621dca5": {
          "model_module": "@jupyter-widgets/base",
          "model_name": "LayoutModel",
          "model_module_version": "1.2.0",
          "state": {
            "_view_name": "LayoutView",
            "grid_template_rows": null,
            "right": null,
            "justify_content": null,
            "_view_module": "@jupyter-widgets/base",
            "overflow": null,
            "_model_module_version": "1.2.0",
            "_view_count": null,
            "flex_flow": null,
            "width": null,
            "min_width": null,
            "border": null,
            "align_items": null,
            "bottom": null,
            "_model_module": "@jupyter-widgets/base",
            "top": null,
            "grid_column": null,
            "overflow_y": null,
            "overflow_x": null,
            "grid_auto_flow": null,
            "grid_area": null,
            "grid_template_columns": null,
            "flex": null,
            "_model_name": "LayoutModel",
            "justify_items": null,
            "grid_row": null,
            "max_height": null,
            "align_content": null,
            "visibility": null,
            "align_self": null,
            "height": null,
            "min_height": null,
            "padding": null,
            "grid_auto_rows": null,
            "grid_gap": null,
            "max_width": null,
            "order": null,
            "_view_module_version": "1.2.0",
            "grid_template_areas": null,
            "object_position": null,
            "object_fit": null,
            "grid_auto_columns": null,
            "margin": null,
            "display": null,
            "left": null
          }
        },
        "9122fe3d85fb42eb9d51beb78043ae48": {
          "model_module": "@jupyter-widgets/controls",
          "model_name": "HTMLModel",
          "model_module_version": "1.5.0",
          "state": {
            "_view_name": "HTMLView",
            "style": "IPY_MODEL_1b665ba195c541ed8032c0f3f2aebf23",
            "_dom_classes": [],
            "description": "",
            "_model_name": "HTMLModel",
            "placeholder": "​",
            "_view_module": "@jupyter-widgets/controls",
            "_model_module_version": "1.5.0",
            "value": "Downloading: 100%",
            "_view_count": null,
            "_view_module_version": "1.5.0",
            "description_tooltip": null,
            "_model_module": "@jupyter-widgets/controls",
            "layout": "IPY_MODEL_1679071277464c1b9f6fedcdb0010a5a"
          }
        },
        "66b197904ef94d6ca70a9bbd881b3737": {
          "model_module": "@jupyter-widgets/controls",
          "model_name": "FloatProgressModel",
          "model_module_version": "1.5.0",
          "state": {
            "_view_name": "ProgressView",
            "style": "IPY_MODEL_b58a308aa4034194a2d734917addc52d",
            "_dom_classes": [],
            "description": "",
            "_model_name": "FloatProgressModel",
            "bar_style": "success",
            "max": 349,
            "_view_module": "@jupyter-widgets/controls",
            "_model_module_version": "1.5.0",
            "value": 349,
            "_view_count": null,
            "_view_module_version": "1.5.0",
            "orientation": "horizontal",
            "min": 0,
            "description_tooltip": null,
            "_model_module": "@jupyter-widgets/controls",
            "layout": "IPY_MODEL_0078603fe5c144278268aae6f22faee5"
          }
        },
        "a413c6789e2b45379e14f0e039b7c006": {
          "model_module": "@jupyter-widgets/controls",
          "model_name": "HTMLModel",
          "model_module_version": "1.5.0",
          "state": {
            "_view_name": "HTMLView",
            "style": "IPY_MODEL_7500267f8ca64f5a9af306ff45a59a02",
            "_dom_classes": [],
            "description": "",
            "_model_name": "HTMLModel",
            "placeholder": "​",
            "_view_module": "@jupyter-widgets/controls",
            "_model_module_version": "1.5.0",
            "value": " 349/349 [00:00&lt;00:00, 11.1kB/s]",
            "_view_count": null,
            "_view_module_version": "1.5.0",
            "description_tooltip": null,
            "_model_module": "@jupyter-widgets/controls",
            "layout": "IPY_MODEL_1257798fd95f4fe584e70fcbd7254854"
          }
        },
        "1b665ba195c541ed8032c0f3f2aebf23": {
          "model_module": "@jupyter-widgets/controls",
          "model_name": "DescriptionStyleModel",
          "model_module_version": "1.5.0",
          "state": {
            "_view_name": "StyleView",
            "_model_name": "DescriptionStyleModel",
            "description_width": "",
            "_view_module": "@jupyter-widgets/base",
            "_model_module_version": "1.5.0",
            "_view_count": null,
            "_view_module_version": "1.2.0",
            "_model_module": "@jupyter-widgets/controls"
          }
        },
        "1679071277464c1b9f6fedcdb0010a5a": {
          "model_module": "@jupyter-widgets/base",
          "model_name": "LayoutModel",
          "model_module_version": "1.2.0",
          "state": {
            "_view_name": "LayoutView",
            "grid_template_rows": null,
            "right": null,
            "justify_content": null,
            "_view_module": "@jupyter-widgets/base",
            "overflow": null,
            "_model_module_version": "1.2.0",
            "_view_count": null,
            "flex_flow": null,
            "width": null,
            "min_width": null,
            "border": null,
            "align_items": null,
            "bottom": null,
            "_model_module": "@jupyter-widgets/base",
            "top": null,
            "grid_column": null,
            "overflow_y": null,
            "overflow_x": null,
            "grid_auto_flow": null,
            "grid_area": null,
            "grid_template_columns": null,
            "flex": null,
            "_model_name": "LayoutModel",
            "justify_items": null,
            "grid_row": null,
            "max_height": null,
            "align_content": null,
            "visibility": null,
            "align_self": null,
            "height": null,
            "min_height": null,
            "padding": null,
            "grid_auto_rows": null,
            "grid_gap": null,
            "max_width": null,
            "order": null,
            "_view_module_version": "1.2.0",
            "grid_template_areas": null,
            "object_position": null,
            "object_fit": null,
            "grid_auto_columns": null,
            "margin": null,
            "display": null,
            "left": null
          }
        },
        "b58a308aa4034194a2d734917addc52d": {
          "model_module": "@jupyter-widgets/controls",
          "model_name": "ProgressStyleModel",
          "model_module_version": "1.5.0",
          "state": {
            "_view_name": "StyleView",
            "_model_name": "ProgressStyleModel",
            "description_width": "",
            "_view_module": "@jupyter-widgets/base",
            "_model_module_version": "1.5.0",
            "_view_count": null,
            "_view_module_version": "1.2.0",
            "bar_color": null,
            "_model_module": "@jupyter-widgets/controls"
          }
        },
        "0078603fe5c144278268aae6f22faee5": {
          "model_module": "@jupyter-widgets/base",
          "model_name": "LayoutModel",
          "model_module_version": "1.2.0",
          "state": {
            "_view_name": "LayoutView",
            "grid_template_rows": null,
            "right": null,
            "justify_content": null,
            "_view_module": "@jupyter-widgets/base",
            "overflow": null,
            "_model_module_version": "1.2.0",
            "_view_count": null,
            "flex_flow": null,
            "width": null,
            "min_width": null,
            "border": null,
            "align_items": null,
            "bottom": null,
            "_model_module": "@jupyter-widgets/base",
            "top": null,
            "grid_column": null,
            "overflow_y": null,
            "overflow_x": null,
            "grid_auto_flow": null,
            "grid_area": null,
            "grid_template_columns": null,
            "flex": null,
            "_model_name": "LayoutModel",
            "justify_items": null,
            "grid_row": null,
            "max_height": null,
            "align_content": null,
            "visibility": null,
            "align_self": null,
            "height": null,
            "min_height": null,
            "padding": null,
            "grid_auto_rows": null,
            "grid_gap": null,
            "max_width": null,
            "order": null,
            "_view_module_version": "1.2.0",
            "grid_template_areas": null,
            "object_position": null,
            "object_fit": null,
            "grid_auto_columns": null,
            "margin": null,
            "display": null,
            "left": null
          }
        },
        "7500267f8ca64f5a9af306ff45a59a02": {
          "model_module": "@jupyter-widgets/controls",
          "model_name": "DescriptionStyleModel",
          "model_module_version": "1.5.0",
          "state": {
            "_view_name": "StyleView",
            "_model_name": "DescriptionStyleModel",
            "description_width": "",
            "_view_module": "@jupyter-widgets/base",
            "_model_module_version": "1.5.0",
            "_view_count": null,
            "_view_module_version": "1.2.0",
            "_model_module": "@jupyter-widgets/controls"
          }
        },
        "1257798fd95f4fe584e70fcbd7254854": {
          "model_module": "@jupyter-widgets/base",
          "model_name": "LayoutModel",
          "model_module_version": "1.2.0",
          "state": {
            "_view_name": "LayoutView",
            "grid_template_rows": null,
            "right": null,
            "justify_content": null,
            "_view_module": "@jupyter-widgets/base",
            "overflow": null,
            "_model_module_version": "1.2.0",
            "_view_count": null,
            "flex_flow": null,
            "width": null,
            "min_width": null,
            "border": null,
            "align_items": null,
            "bottom": null,
            "_model_module": "@jupyter-widgets/base",
            "top": null,
            "grid_column": null,
            "overflow_y": null,
            "overflow_x": null,
            "grid_auto_flow": null,
            "grid_area": null,
            "grid_template_columns": null,
            "flex": null,
            "_model_name": "LayoutModel",
            "justify_items": null,
            "grid_row": null,
            "max_height": null,
            "align_content": null,
            "visibility": null,
            "align_self": null,
            "height": null,
            "min_height": null,
            "padding": null,
            "grid_auto_rows": null,
            "grid_gap": null,
            "max_width": null,
            "order": null,
            "_view_module_version": "1.2.0",
            "grid_template_areas": null,
            "object_position": null,
            "object_fit": null,
            "grid_auto_columns": null,
            "margin": null,
            "display": null,
            "left": null
          }
        },
        "2dd815d958314ea8be333c710bb774fa": {
          "model_module": "@jupyter-widgets/controls",
          "model_name": "HBoxModel",
          "model_module_version": "1.5.0",
          "state": {
            "_view_name": "HBoxView",
            "_dom_classes": [],
            "_model_name": "HBoxModel",
            "_view_module": "@jupyter-widgets/controls",
            "_model_module_version": "1.5.0",
            "_view_count": null,
            "_view_module_version": "1.5.0",
            "box_style": "",
            "layout": "IPY_MODEL_284a4751c83e442f9221a5d85d461a20",
            "_model_module": "@jupyter-widgets/controls",
            "children": [
              "IPY_MODEL_670ae021bc8e44adb95dd2b205a52a35",
              "IPY_MODEL_d0d6ee98f1d84ac0ad7e22adafcab2c8",
              "IPY_MODEL_c005837a097940659ed1e38ebb1e678f"
            ]
          }
        },
        "284a4751c83e442f9221a5d85d461a20": {
          "model_module": "@jupyter-widgets/base",
          "model_name": "LayoutModel",
          "model_module_version": "1.2.0",
          "state": {
            "_view_name": "LayoutView",
            "grid_template_rows": null,
            "right": null,
            "justify_content": null,
            "_view_module": "@jupyter-widgets/base",
            "overflow": null,
            "_model_module_version": "1.2.0",
            "_view_count": null,
            "flex_flow": null,
            "width": null,
            "min_width": null,
            "border": null,
            "align_items": null,
            "bottom": null,
            "_model_module": "@jupyter-widgets/base",
            "top": null,
            "grid_column": null,
            "overflow_y": null,
            "overflow_x": null,
            "grid_auto_flow": null,
            "grid_area": null,
            "grid_template_columns": null,
            "flex": null,
            "_model_name": "LayoutModel",
            "justify_items": null,
            "grid_row": null,
            "max_height": null,
            "align_content": null,
            "visibility": null,
            "align_self": null,
            "height": null,
            "min_height": null,
            "padding": null,
            "grid_auto_rows": null,
            "grid_gap": null,
            "max_width": null,
            "order": null,
            "_view_module_version": "1.2.0",
            "grid_template_areas": null,
            "object_position": null,
            "object_fit": null,
            "grid_auto_columns": null,
            "margin": null,
            "display": null,
            "left": null
          }
        },
        "670ae021bc8e44adb95dd2b205a52a35": {
          "model_module": "@jupyter-widgets/controls",
          "model_name": "HTMLModel",
          "model_module_version": "1.5.0",
          "state": {
            "_view_name": "HTMLView",
            "style": "IPY_MODEL_8c781e354c014c9789541a97b4d42e75",
            "_dom_classes": [],
            "description": "",
            "_model_name": "HTMLModel",
            "placeholder": "​",
            "_view_module": "@jupyter-widgets/controls",
            "_model_module_version": "1.5.0",
            "value": "Downloading: 100%",
            "_view_count": null,
            "_view_module_version": "1.5.0",
            "description_tooltip": null,
            "_model_module": "@jupyter-widgets/controls",
            "layout": "IPY_MODEL_d3f0479e0fe94b62b9db5cc8dc381fe3"
          }
        },
        "d0d6ee98f1d84ac0ad7e22adafcab2c8": {
          "model_module": "@jupyter-widgets/controls",
          "model_name": "FloatProgressModel",
          "model_module_version": "1.5.0",
          "state": {
            "_view_name": "ProgressView",
            "style": "IPY_MODEL_6fa046d95a024ae8a9692979d7ff6dcb",
            "_dom_classes": [],
            "description": "",
            "_model_name": "FloatProgressModel",
            "bar_style": "success",
            "max": 438011953,
            "_view_module": "@jupyter-widgets/controls",
            "_model_module_version": "1.5.0",
            "value": 438011953,
            "_view_count": null,
            "_view_module_version": "1.5.0",
            "orientation": "horizontal",
            "min": 0,
            "description_tooltip": null,
            "_model_module": "@jupyter-widgets/controls",
            "layout": "IPY_MODEL_c2d6f1114db648bc806b145483837202"
          }
        },
        "c005837a097940659ed1e38ebb1e678f": {
          "model_module": "@jupyter-widgets/controls",
          "model_name": "HTMLModel",
          "model_module_version": "1.5.0",
          "state": {
            "_view_name": "HTMLView",
            "style": "IPY_MODEL_1597c485877d49e38d691c2bb5366bab",
            "_dom_classes": [],
            "description": "",
            "_model_name": "HTMLModel",
            "placeholder": "​",
            "_view_module": "@jupyter-widgets/controls",
            "_model_module_version": "1.5.0",
            "value": " 438M/438M [00:09&lt;00:00, 52.9MB/s]",
            "_view_count": null,
            "_view_module_version": "1.5.0",
            "description_tooltip": null,
            "_model_module": "@jupyter-widgets/controls",
            "layout": "IPY_MODEL_ac86036c509844d7bae9fa1fd818408b"
          }
        },
        "8c781e354c014c9789541a97b4d42e75": {
          "model_module": "@jupyter-widgets/controls",
          "model_name": "DescriptionStyleModel",
          "model_module_version": "1.5.0",
          "state": {
            "_view_name": "StyleView",
            "_model_name": "DescriptionStyleModel",
            "description_width": "",
            "_view_module": "@jupyter-widgets/base",
            "_model_module_version": "1.5.0",
            "_view_count": null,
            "_view_module_version": "1.2.0",
            "_model_module": "@jupyter-widgets/controls"
          }
        },
        "d3f0479e0fe94b62b9db5cc8dc381fe3": {
          "model_module": "@jupyter-widgets/base",
          "model_name": "LayoutModel",
          "model_module_version": "1.2.0",
          "state": {
            "_view_name": "LayoutView",
            "grid_template_rows": null,
            "right": null,
            "justify_content": null,
            "_view_module": "@jupyter-widgets/base",
            "overflow": null,
            "_model_module_version": "1.2.0",
            "_view_count": null,
            "flex_flow": null,
            "width": null,
            "min_width": null,
            "border": null,
            "align_items": null,
            "bottom": null,
            "_model_module": "@jupyter-widgets/base",
            "top": null,
            "grid_column": null,
            "overflow_y": null,
            "overflow_x": null,
            "grid_auto_flow": null,
            "grid_area": null,
            "grid_template_columns": null,
            "flex": null,
            "_model_name": "LayoutModel",
            "justify_items": null,
            "grid_row": null,
            "max_height": null,
            "align_content": null,
            "visibility": null,
            "align_self": null,
            "height": null,
            "min_height": null,
            "padding": null,
            "grid_auto_rows": null,
            "grid_gap": null,
            "max_width": null,
            "order": null,
            "_view_module_version": "1.2.0",
            "grid_template_areas": null,
            "object_position": null,
            "object_fit": null,
            "grid_auto_columns": null,
            "margin": null,
            "display": null,
            "left": null
          }
        },
        "6fa046d95a024ae8a9692979d7ff6dcb": {
          "model_module": "@jupyter-widgets/controls",
          "model_name": "ProgressStyleModel",
          "model_module_version": "1.5.0",
          "state": {
            "_view_name": "StyleView",
            "_model_name": "ProgressStyleModel",
            "description_width": "",
            "_view_module": "@jupyter-widgets/base",
            "_model_module_version": "1.5.0",
            "_view_count": null,
            "_view_module_version": "1.2.0",
            "bar_color": null,
            "_model_module": "@jupyter-widgets/controls"
          }
        },
        "c2d6f1114db648bc806b145483837202": {
          "model_module": "@jupyter-widgets/base",
          "model_name": "LayoutModel",
          "model_module_version": "1.2.0",
          "state": {
            "_view_name": "LayoutView",
            "grid_template_rows": null,
            "right": null,
            "justify_content": null,
            "_view_module": "@jupyter-widgets/base",
            "overflow": null,
            "_model_module_version": "1.2.0",
            "_view_count": null,
            "flex_flow": null,
            "width": null,
            "min_width": null,
            "border": null,
            "align_items": null,
            "bottom": null,
            "_model_module": "@jupyter-widgets/base",
            "top": null,
            "grid_column": null,
            "overflow_y": null,
            "overflow_x": null,
            "grid_auto_flow": null,
            "grid_area": null,
            "grid_template_columns": null,
            "flex": null,
            "_model_name": "LayoutModel",
            "justify_items": null,
            "grid_row": null,
            "max_height": null,
            "align_content": null,
            "visibility": null,
            "align_self": null,
            "height": null,
            "min_height": null,
            "padding": null,
            "grid_auto_rows": null,
            "grid_gap": null,
            "max_width": null,
            "order": null,
            "_view_module_version": "1.2.0",
            "grid_template_areas": null,
            "object_position": null,
            "object_fit": null,
            "grid_auto_columns": null,
            "margin": null,
            "display": null,
            "left": null
          }
        },
        "1597c485877d49e38d691c2bb5366bab": {
          "model_module": "@jupyter-widgets/controls",
          "model_name": "DescriptionStyleModel",
          "model_module_version": "1.5.0",
          "state": {
            "_view_name": "StyleView",
            "_model_name": "DescriptionStyleModel",
            "description_width": "",
            "_view_module": "@jupyter-widgets/base",
            "_model_module_version": "1.5.0",
            "_view_count": null,
            "_view_module_version": "1.2.0",
            "_model_module": "@jupyter-widgets/controls"
          }
        },
        "ac86036c509844d7bae9fa1fd818408b": {
          "model_module": "@jupyter-widgets/base",
          "model_name": "LayoutModel",
          "model_module_version": "1.2.0",
          "state": {
            "_view_name": "LayoutView",
            "grid_template_rows": null,
            "right": null,
            "justify_content": null,
            "_view_module": "@jupyter-widgets/base",
            "overflow": null,
            "_model_module_version": "1.2.0",
            "_view_count": null,
            "flex_flow": null,
            "width": null,
            "min_width": null,
            "border": null,
            "align_items": null,
            "bottom": null,
            "_model_module": "@jupyter-widgets/base",
            "top": null,
            "grid_column": null,
            "overflow_y": null,
            "overflow_x": null,
            "grid_auto_flow": null,
            "grid_area": null,
            "grid_template_columns": null,
            "flex": null,
            "_model_name": "LayoutModel",
            "justify_items": null,
            "grid_row": null,
            "max_height": null,
            "align_content": null,
            "visibility": null,
            "align_self": null,
            "height": null,
            "min_height": null,
            "padding": null,
            "grid_auto_rows": null,
            "grid_gap": null,
            "max_width": null,
            "order": null,
            "_view_module_version": "1.2.0",
            "grid_template_areas": null,
            "object_position": null,
            "object_fit": null,
            "grid_auto_columns": null,
            "margin": null,
            "display": null,
            "left": null
          }
        },
        "b4ecb29b661e4cc1a1d6c0a1bfa8ca47": {
          "model_module": "@jupyter-widgets/controls",
          "model_name": "HBoxModel",
          "model_module_version": "1.5.0",
          "state": {
            "_view_name": "HBoxView",
            "_dom_classes": [],
            "_model_name": "HBoxModel",
            "_view_module": "@jupyter-widgets/controls",
            "_model_module_version": "1.5.0",
            "_view_count": null,
            "_view_module_version": "1.5.0",
            "box_style": "",
            "layout": "IPY_MODEL_bf2c303ac7044e0184d574d53cd3d887",
            "_model_module": "@jupyter-widgets/controls",
            "children": [
              "IPY_MODEL_f1fb112e93a8457290a465830e25da4b",
              "IPY_MODEL_3fe97474347945a094ef88f7842b298d",
              "IPY_MODEL_ab76755eb08f4a9abcd8a5a18b0afb9b"
            ]
          }
        },
        "bf2c303ac7044e0184d574d53cd3d887": {
          "model_module": "@jupyter-widgets/base",
          "model_name": "LayoutModel",
          "model_module_version": "1.2.0",
          "state": {
            "_view_name": "LayoutView",
            "grid_template_rows": null,
            "right": null,
            "justify_content": null,
            "_view_module": "@jupyter-widgets/base",
            "overflow": null,
            "_model_module_version": "1.2.0",
            "_view_count": null,
            "flex_flow": null,
            "width": null,
            "min_width": null,
            "border": null,
            "align_items": null,
            "bottom": null,
            "_model_module": "@jupyter-widgets/base",
            "top": null,
            "grid_column": null,
            "overflow_y": null,
            "overflow_x": null,
            "grid_auto_flow": null,
            "grid_area": null,
            "grid_template_columns": null,
            "flex": null,
            "_model_name": "LayoutModel",
            "justify_items": null,
            "grid_row": null,
            "max_height": null,
            "align_content": null,
            "visibility": null,
            "align_self": null,
            "height": null,
            "min_height": null,
            "padding": null,
            "grid_auto_rows": null,
            "grid_gap": null,
            "max_width": null,
            "order": null,
            "_view_module_version": "1.2.0",
            "grid_template_areas": null,
            "object_position": null,
            "object_fit": null,
            "grid_auto_columns": null,
            "margin": null,
            "display": null,
            "left": null
          }
        },
        "f1fb112e93a8457290a465830e25da4b": {
          "model_module": "@jupyter-widgets/controls",
          "model_name": "HTMLModel",
          "model_module_version": "1.5.0",
          "state": {
            "_view_name": "HTMLView",
            "style": "IPY_MODEL_7c19f1d153df47a1b20f63e5df8a9fa7",
            "_dom_classes": [],
            "description": "",
            "_model_name": "HTMLModel",
            "placeholder": "​",
            "_view_module": "@jupyter-widgets/controls",
            "_model_module_version": "1.5.0",
            "value": "Downloading: 100%",
            "_view_count": null,
            "_view_module_version": "1.5.0",
            "description_tooltip": null,
            "_model_module": "@jupyter-widgets/controls",
            "layout": "IPY_MODEL_067bb27346ab45509a26610685e5c8a9"
          }
        },
        "3fe97474347945a094ef88f7842b298d": {
          "model_module": "@jupyter-widgets/controls",
          "model_name": "FloatProgressModel",
          "model_module_version": "1.5.0",
          "state": {
            "_view_name": "ProgressView",
            "style": "IPY_MODEL_1ede06914a8a49b3a4ebbb2b6793418f",
            "_dom_classes": [],
            "description": "",
            "_model_name": "FloatProgressModel",
            "bar_style": "success",
            "max": 53,
            "_view_module": "@jupyter-widgets/controls",
            "_model_module_version": "1.5.0",
            "value": 53,
            "_view_count": null,
            "_view_module_version": "1.5.0",
            "orientation": "horizontal",
            "min": 0,
            "description_tooltip": null,
            "_model_module": "@jupyter-widgets/controls",
            "layout": "IPY_MODEL_9d7b022c83544bb3bbbb715cf371c524"
          }
        },
        "ab76755eb08f4a9abcd8a5a18b0afb9b": {
          "model_module": "@jupyter-widgets/controls",
          "model_name": "HTMLModel",
          "model_module_version": "1.5.0",
          "state": {
            "_view_name": "HTMLView",
            "style": "IPY_MODEL_d7cfefd9192c4f0cb5fb0dddcb65bf2c",
            "_dom_classes": [],
            "description": "",
            "_model_name": "HTMLModel",
            "placeholder": "​",
            "_view_module": "@jupyter-widgets/controls",
            "_model_module_version": "1.5.0",
            "value": " 53.0/53.0 [00:00&lt;00:00, 1.51kB/s]",
            "_view_count": null,
            "_view_module_version": "1.5.0",
            "description_tooltip": null,
            "_model_module": "@jupyter-widgets/controls",
            "layout": "IPY_MODEL_287b2bff594e410887345861888d3e99"
          }
        },
        "7c19f1d153df47a1b20f63e5df8a9fa7": {
          "model_module": "@jupyter-widgets/controls",
          "model_name": "DescriptionStyleModel",
          "model_module_version": "1.5.0",
          "state": {
            "_view_name": "StyleView",
            "_model_name": "DescriptionStyleModel",
            "description_width": "",
            "_view_module": "@jupyter-widgets/base",
            "_model_module_version": "1.5.0",
            "_view_count": null,
            "_view_module_version": "1.2.0",
            "_model_module": "@jupyter-widgets/controls"
          }
        },
        "067bb27346ab45509a26610685e5c8a9": {
          "model_module": "@jupyter-widgets/base",
          "model_name": "LayoutModel",
          "model_module_version": "1.2.0",
          "state": {
            "_view_name": "LayoutView",
            "grid_template_rows": null,
            "right": null,
            "justify_content": null,
            "_view_module": "@jupyter-widgets/base",
            "overflow": null,
            "_model_module_version": "1.2.0",
            "_view_count": null,
            "flex_flow": null,
            "width": null,
            "min_width": null,
            "border": null,
            "align_items": null,
            "bottom": null,
            "_model_module": "@jupyter-widgets/base",
            "top": null,
            "grid_column": null,
            "overflow_y": null,
            "overflow_x": null,
            "grid_auto_flow": null,
            "grid_area": null,
            "grid_template_columns": null,
            "flex": null,
            "_model_name": "LayoutModel",
            "justify_items": null,
            "grid_row": null,
            "max_height": null,
            "align_content": null,
            "visibility": null,
            "align_self": null,
            "height": null,
            "min_height": null,
            "padding": null,
            "grid_auto_rows": null,
            "grid_gap": null,
            "max_width": null,
            "order": null,
            "_view_module_version": "1.2.0",
            "grid_template_areas": null,
            "object_position": null,
            "object_fit": null,
            "grid_auto_columns": null,
            "margin": null,
            "display": null,
            "left": null
          }
        },
        "1ede06914a8a49b3a4ebbb2b6793418f": {
          "model_module": "@jupyter-widgets/controls",
          "model_name": "ProgressStyleModel",
          "model_module_version": "1.5.0",
          "state": {
            "_view_name": "StyleView",
            "_model_name": "ProgressStyleModel",
            "description_width": "",
            "_view_module": "@jupyter-widgets/base",
            "_model_module_version": "1.5.0",
            "_view_count": null,
            "_view_module_version": "1.2.0",
            "bar_color": null,
            "_model_module": "@jupyter-widgets/controls"
          }
        },
        "9d7b022c83544bb3bbbb715cf371c524": {
          "model_module": "@jupyter-widgets/base",
          "model_name": "LayoutModel",
          "model_module_version": "1.2.0",
          "state": {
            "_view_name": "LayoutView",
            "grid_template_rows": null,
            "right": null,
            "justify_content": null,
            "_view_module": "@jupyter-widgets/base",
            "overflow": null,
            "_model_module_version": "1.2.0",
            "_view_count": null,
            "flex_flow": null,
            "width": null,
            "min_width": null,
            "border": null,
            "align_items": null,
            "bottom": null,
            "_model_module": "@jupyter-widgets/base",
            "top": null,
            "grid_column": null,
            "overflow_y": null,
            "overflow_x": null,
            "grid_auto_flow": null,
            "grid_area": null,
            "grid_template_columns": null,
            "flex": null,
            "_model_name": "LayoutModel",
            "justify_items": null,
            "grid_row": null,
            "max_height": null,
            "align_content": null,
            "visibility": null,
            "align_self": null,
            "height": null,
            "min_height": null,
            "padding": null,
            "grid_auto_rows": null,
            "grid_gap": null,
            "max_width": null,
            "order": null,
            "_view_module_version": "1.2.0",
            "grid_template_areas": null,
            "object_position": null,
            "object_fit": null,
            "grid_auto_columns": null,
            "margin": null,
            "display": null,
            "left": null
          }
        },
        "d7cfefd9192c4f0cb5fb0dddcb65bf2c": {
          "model_module": "@jupyter-widgets/controls",
          "model_name": "DescriptionStyleModel",
          "model_module_version": "1.5.0",
          "state": {
            "_view_name": "StyleView",
            "_model_name": "DescriptionStyleModel",
            "description_width": "",
            "_view_module": "@jupyter-widgets/base",
            "_model_module_version": "1.5.0",
            "_view_count": null,
            "_view_module_version": "1.2.0",
            "_model_module": "@jupyter-widgets/controls"
          }
        },
        "287b2bff594e410887345861888d3e99": {
          "model_module": "@jupyter-widgets/base",
          "model_name": "LayoutModel",
          "model_module_version": "1.2.0",
          "state": {
            "_view_name": "LayoutView",
            "grid_template_rows": null,
            "right": null,
            "justify_content": null,
            "_view_module": "@jupyter-widgets/base",
            "overflow": null,
            "_model_module_version": "1.2.0",
            "_view_count": null,
            "flex_flow": null,
            "width": null,
            "min_width": null,
            "border": null,
            "align_items": null,
            "bottom": null,
            "_model_module": "@jupyter-widgets/base",
            "top": null,
            "grid_column": null,
            "overflow_y": null,
            "overflow_x": null,
            "grid_auto_flow": null,
            "grid_area": null,
            "grid_template_columns": null,
            "flex": null,
            "_model_name": "LayoutModel",
            "justify_items": null,
            "grid_row": null,
            "max_height": null,
            "align_content": null,
            "visibility": null,
            "align_self": null,
            "height": null,
            "min_height": null,
            "padding": null,
            "grid_auto_rows": null,
            "grid_gap": null,
            "max_width": null,
            "order": null,
            "_view_module_version": "1.2.0",
            "grid_template_areas": null,
            "object_position": null,
            "object_fit": null,
            "grid_auto_columns": null,
            "margin": null,
            "display": null,
            "left": null
          }
        },
        "3b239a555453445b9c3c3d37b4339fbb": {
          "model_module": "@jupyter-widgets/controls",
          "model_name": "HBoxModel",
          "model_module_version": "1.5.0",
          "state": {
            "_view_name": "HBoxView",
            "_dom_classes": [],
            "_model_name": "HBoxModel",
            "_view_module": "@jupyter-widgets/controls",
            "_model_module_version": "1.5.0",
            "_view_count": null,
            "_view_module_version": "1.5.0",
            "box_style": "",
            "layout": "IPY_MODEL_146e39e73820477eb0785d6efc81dd10",
            "_model_module": "@jupyter-widgets/controls",
            "children": [
              "IPY_MODEL_aafec6ae959d4d829784dbb3b310beb7",
              "IPY_MODEL_8e4cd3b0237246bf9d52f6f60e25a2d0",
              "IPY_MODEL_2092552561404a3e87dd0bc2d0bb8873"
            ]
          }
        },
        "146e39e73820477eb0785d6efc81dd10": {
          "model_module": "@jupyter-widgets/base",
          "model_name": "LayoutModel",
          "model_module_version": "1.2.0",
          "state": {
            "_view_name": "LayoutView",
            "grid_template_rows": null,
            "right": null,
            "justify_content": null,
            "_view_module": "@jupyter-widgets/base",
            "overflow": null,
            "_model_module_version": "1.2.0",
            "_view_count": null,
            "flex_flow": null,
            "width": null,
            "min_width": null,
            "border": null,
            "align_items": null,
            "bottom": null,
            "_model_module": "@jupyter-widgets/base",
            "top": null,
            "grid_column": null,
            "overflow_y": null,
            "overflow_x": null,
            "grid_auto_flow": null,
            "grid_area": null,
            "grid_template_columns": null,
            "flex": null,
            "_model_name": "LayoutModel",
            "justify_items": null,
            "grid_row": null,
            "max_height": null,
            "align_content": null,
            "visibility": null,
            "align_self": null,
            "height": null,
            "min_height": null,
            "padding": null,
            "grid_auto_rows": null,
            "grid_gap": null,
            "max_width": null,
            "order": null,
            "_view_module_version": "1.2.0",
            "grid_template_areas": null,
            "object_position": null,
            "object_fit": null,
            "grid_auto_columns": null,
            "margin": null,
            "display": null,
            "left": null
          }
        },
        "aafec6ae959d4d829784dbb3b310beb7": {
          "model_module": "@jupyter-widgets/controls",
          "model_name": "HTMLModel",
          "model_module_version": "1.5.0",
          "state": {
            "_view_name": "HTMLView",
            "style": "IPY_MODEL_8068805599ef4a5c9b5a7e6e25036a13",
            "_dom_classes": [],
            "description": "",
            "_model_name": "HTMLModel",
            "placeholder": "​",
            "_view_module": "@jupyter-widgets/controls",
            "_model_module_version": "1.5.0",
            "value": "Downloading: 100%",
            "_view_count": null,
            "_view_module_version": "1.5.0",
            "description_tooltip": null,
            "_model_module": "@jupyter-widgets/controls",
            "layout": "IPY_MODEL_34b874820ef645ccb187b2a3caef7245"
          }
        },
        "8e4cd3b0237246bf9d52f6f60e25a2d0": {
          "model_module": "@jupyter-widgets/controls",
          "model_name": "FloatProgressModel",
          "model_module_version": "1.5.0",
          "state": {
            "_view_name": "ProgressView",
            "style": "IPY_MODEL_59c60946d52043a2be20ce132bc809c8",
            "_dom_classes": [],
            "description": "",
            "_model_name": "FloatProgressModel",
            "bar_style": "success",
            "max": 239,
            "_view_module": "@jupyter-widgets/controls",
            "_model_module_version": "1.5.0",
            "value": 239,
            "_view_count": null,
            "_view_module_version": "1.5.0",
            "orientation": "horizontal",
            "min": 0,
            "description_tooltip": null,
            "_model_module": "@jupyter-widgets/controls",
            "layout": "IPY_MODEL_42701c4686444e61a4888176bde37170"
          }
        },
        "2092552561404a3e87dd0bc2d0bb8873": {
          "model_module": "@jupyter-widgets/controls",
          "model_name": "HTMLModel",
          "model_module_version": "1.5.0",
          "state": {
            "_view_name": "HTMLView",
            "style": "IPY_MODEL_692236174b444a1e929f22927700b98c",
            "_dom_classes": [],
            "description": "",
            "_model_name": "HTMLModel",
            "placeholder": "​",
            "_view_module": "@jupyter-widgets/controls",
            "_model_module_version": "1.5.0",
            "value": " 239/239 [00:00&lt;00:00, 6.13kB/s]",
            "_view_count": null,
            "_view_module_version": "1.5.0",
            "description_tooltip": null,
            "_model_module": "@jupyter-widgets/controls",
            "layout": "IPY_MODEL_6e0365c5a8e74ddb98c032de2e2869cf"
          }
        },
        "8068805599ef4a5c9b5a7e6e25036a13": {
          "model_module": "@jupyter-widgets/controls",
          "model_name": "DescriptionStyleModel",
          "model_module_version": "1.5.0",
          "state": {
            "_view_name": "StyleView",
            "_model_name": "DescriptionStyleModel",
            "description_width": "",
            "_view_module": "@jupyter-widgets/base",
            "_model_module_version": "1.5.0",
            "_view_count": null,
            "_view_module_version": "1.2.0",
            "_model_module": "@jupyter-widgets/controls"
          }
        },
        "34b874820ef645ccb187b2a3caef7245": {
          "model_module": "@jupyter-widgets/base",
          "model_name": "LayoutModel",
          "model_module_version": "1.2.0",
          "state": {
            "_view_name": "LayoutView",
            "grid_template_rows": null,
            "right": null,
            "justify_content": null,
            "_view_module": "@jupyter-widgets/base",
            "overflow": null,
            "_model_module_version": "1.2.0",
            "_view_count": null,
            "flex_flow": null,
            "width": null,
            "min_width": null,
            "border": null,
            "align_items": null,
            "bottom": null,
            "_model_module": "@jupyter-widgets/base",
            "top": null,
            "grid_column": null,
            "overflow_y": null,
            "overflow_x": null,
            "grid_auto_flow": null,
            "grid_area": null,
            "grid_template_columns": null,
            "flex": null,
            "_model_name": "LayoutModel",
            "justify_items": null,
            "grid_row": null,
            "max_height": null,
            "align_content": null,
            "visibility": null,
            "align_self": null,
            "height": null,
            "min_height": null,
            "padding": null,
            "grid_auto_rows": null,
            "grid_gap": null,
            "max_width": null,
            "order": null,
            "_view_module_version": "1.2.0",
            "grid_template_areas": null,
            "object_position": null,
            "object_fit": null,
            "grid_auto_columns": null,
            "margin": null,
            "display": null,
            "left": null
          }
        },
        "59c60946d52043a2be20ce132bc809c8": {
          "model_module": "@jupyter-widgets/controls",
          "model_name": "ProgressStyleModel",
          "model_module_version": "1.5.0",
          "state": {
            "_view_name": "StyleView",
            "_model_name": "ProgressStyleModel",
            "description_width": "",
            "_view_module": "@jupyter-widgets/base",
            "_model_module_version": "1.5.0",
            "_view_count": null,
            "_view_module_version": "1.2.0",
            "bar_color": null,
            "_model_module": "@jupyter-widgets/controls"
          }
        },
        "42701c4686444e61a4888176bde37170": {
          "model_module": "@jupyter-widgets/base",
          "model_name": "LayoutModel",
          "model_module_version": "1.2.0",
          "state": {
            "_view_name": "LayoutView",
            "grid_template_rows": null,
            "right": null,
            "justify_content": null,
            "_view_module": "@jupyter-widgets/base",
            "overflow": null,
            "_model_module_version": "1.2.0",
            "_view_count": null,
            "flex_flow": null,
            "width": null,
            "min_width": null,
            "border": null,
            "align_items": null,
            "bottom": null,
            "_model_module": "@jupyter-widgets/base",
            "top": null,
            "grid_column": null,
            "overflow_y": null,
            "overflow_x": null,
            "grid_auto_flow": null,
            "grid_area": null,
            "grid_template_columns": null,
            "flex": null,
            "_model_name": "LayoutModel",
            "justify_items": null,
            "grid_row": null,
            "max_height": null,
            "align_content": null,
            "visibility": null,
            "align_self": null,
            "height": null,
            "min_height": null,
            "padding": null,
            "grid_auto_rows": null,
            "grid_gap": null,
            "max_width": null,
            "order": null,
            "_view_module_version": "1.2.0",
            "grid_template_areas": null,
            "object_position": null,
            "object_fit": null,
            "grid_auto_columns": null,
            "margin": null,
            "display": null,
            "left": null
          }
        },
        "692236174b444a1e929f22927700b98c": {
          "model_module": "@jupyter-widgets/controls",
          "model_name": "DescriptionStyleModel",
          "model_module_version": "1.5.0",
          "state": {
            "_view_name": "StyleView",
            "_model_name": "DescriptionStyleModel",
            "description_width": "",
            "_view_module": "@jupyter-widgets/base",
            "_model_module_version": "1.5.0",
            "_view_count": null,
            "_view_module_version": "1.2.0",
            "_model_module": "@jupyter-widgets/controls"
          }
        },
        "6e0365c5a8e74ddb98c032de2e2869cf": {
          "model_module": "@jupyter-widgets/base",
          "model_name": "LayoutModel",
          "model_module_version": "1.2.0",
          "state": {
            "_view_name": "LayoutView",
            "grid_template_rows": null,
            "right": null,
            "justify_content": null,
            "_view_module": "@jupyter-widgets/base",
            "overflow": null,
            "_model_module_version": "1.2.0",
            "_view_count": null,
            "flex_flow": null,
            "width": null,
            "min_width": null,
            "border": null,
            "align_items": null,
            "bottom": null,
            "_model_module": "@jupyter-widgets/base",
            "top": null,
            "grid_column": null,
            "overflow_y": null,
            "overflow_x": null,
            "grid_auto_flow": null,
            "grid_area": null,
            "grid_template_columns": null,
            "flex": null,
            "_model_name": "LayoutModel",
            "justify_items": null,
            "grid_row": null,
            "max_height": null,
            "align_content": null,
            "visibility": null,
            "align_self": null,
            "height": null,
            "min_height": null,
            "padding": null,
            "grid_auto_rows": null,
            "grid_gap": null,
            "max_width": null,
            "order": null,
            "_view_module_version": "1.2.0",
            "grid_template_areas": null,
            "object_position": null,
            "object_fit": null,
            "grid_auto_columns": null,
            "margin": null,
            "display": null,
            "left": null
          }
        },
        "22c2d8ff532a494eaed64b499bed6989": {
          "model_module": "@jupyter-widgets/controls",
          "model_name": "HBoxModel",
          "model_module_version": "1.5.0",
          "state": {
            "_view_name": "HBoxView",
            "_dom_classes": [],
            "_model_name": "HBoxModel",
            "_view_module": "@jupyter-widgets/controls",
            "_model_module_version": "1.5.0",
            "_view_count": null,
            "_view_module_version": "1.5.0",
            "box_style": "",
            "layout": "IPY_MODEL_138f2c15799a4f5b98f3f935043b71d0",
            "_model_module": "@jupyter-widgets/controls",
            "children": [
              "IPY_MODEL_0f25b93995784b85a285bacfe9a8825f",
              "IPY_MODEL_0a1fdbd5e11a4ff2a59ccff4ffc3630a",
              "IPY_MODEL_dab49e57644d4c89b29d28ca94fddd35"
            ]
          }
        },
        "138f2c15799a4f5b98f3f935043b71d0": {
          "model_module": "@jupyter-widgets/base",
          "model_name": "LayoutModel",
          "model_module_version": "1.2.0",
          "state": {
            "_view_name": "LayoutView",
            "grid_template_rows": null,
            "right": null,
            "justify_content": null,
            "_view_module": "@jupyter-widgets/base",
            "overflow": null,
            "_model_module_version": "1.2.0",
            "_view_count": null,
            "flex_flow": null,
            "width": null,
            "min_width": null,
            "border": null,
            "align_items": null,
            "bottom": null,
            "_model_module": "@jupyter-widgets/base",
            "top": null,
            "grid_column": null,
            "overflow_y": null,
            "overflow_x": null,
            "grid_auto_flow": null,
            "grid_area": null,
            "grid_template_columns": null,
            "flex": null,
            "_model_name": "LayoutModel",
            "justify_items": null,
            "grid_row": null,
            "max_height": null,
            "align_content": null,
            "visibility": null,
            "align_self": null,
            "height": null,
            "min_height": null,
            "padding": null,
            "grid_auto_rows": null,
            "grid_gap": null,
            "max_width": null,
            "order": null,
            "_view_module_version": "1.2.0",
            "grid_template_areas": null,
            "object_position": null,
            "object_fit": null,
            "grid_auto_columns": null,
            "margin": null,
            "display": null,
            "left": null
          }
        },
        "0f25b93995784b85a285bacfe9a8825f": {
          "model_module": "@jupyter-widgets/controls",
          "model_name": "HTMLModel",
          "model_module_version": "1.5.0",
          "state": {
            "_view_name": "HTMLView",
            "style": "IPY_MODEL_40536b43ea7a47459b26d756e8af1a0c",
            "_dom_classes": [],
            "description": "",
            "_model_name": "HTMLModel",
            "placeholder": "​",
            "_view_module": "@jupyter-widgets/controls",
            "_model_module_version": "1.5.0",
            "value": "Downloading: 100%",
            "_view_count": null,
            "_view_module_version": "1.5.0",
            "description_tooltip": null,
            "_model_module": "@jupyter-widgets/controls",
            "layout": "IPY_MODEL_05b9e2d80bd24a3c8b7ba029bd6540b0"
          }
        },
        "0a1fdbd5e11a4ff2a59ccff4ffc3630a": {
          "model_module": "@jupyter-widgets/controls",
          "model_name": "FloatProgressModel",
          "model_module_version": "1.5.0",
          "state": {
            "_view_name": "ProgressView",
            "style": "IPY_MODEL_8d89644e56f04c1ab995580482286dbe",
            "_dom_classes": [],
            "description": "",
            "_model_name": "FloatProgressModel",
            "bar_style": "success",
            "max": 466021,
            "_view_module": "@jupyter-widgets/controls",
            "_model_module_version": "1.5.0",
            "value": 466021,
            "_view_count": null,
            "_view_module_version": "1.5.0",
            "orientation": "horizontal",
            "min": 0,
            "description_tooltip": null,
            "_model_module": "@jupyter-widgets/controls",
            "layout": "IPY_MODEL_641dfe1e94244ccc9a8727a2d9f51766"
          }
        },
        "dab49e57644d4c89b29d28ca94fddd35": {
          "model_module": "@jupyter-widgets/controls",
          "model_name": "HTMLModel",
          "model_module_version": "1.5.0",
          "state": {
            "_view_name": "HTMLView",
            "style": "IPY_MODEL_e13a08d395194510aeb90c12d335ead6",
            "_dom_classes": [],
            "description": "",
            "_model_name": "HTMLModel",
            "placeholder": "​",
            "_view_module": "@jupyter-widgets/controls",
            "_model_module_version": "1.5.0",
            "value": " 466k/466k [00:00&lt;00:00, 1.27MB/s]",
            "_view_count": null,
            "_view_module_version": "1.5.0",
            "description_tooltip": null,
            "_model_module": "@jupyter-widgets/controls",
            "layout": "IPY_MODEL_18e3ab5427a540588ddfd3ad39bcf5fe"
          }
        },
        "40536b43ea7a47459b26d756e8af1a0c": {
          "model_module": "@jupyter-widgets/controls",
          "model_name": "DescriptionStyleModel",
          "model_module_version": "1.5.0",
          "state": {
            "_view_name": "StyleView",
            "_model_name": "DescriptionStyleModel",
            "description_width": "",
            "_view_module": "@jupyter-widgets/base",
            "_model_module_version": "1.5.0",
            "_view_count": null,
            "_view_module_version": "1.2.0",
            "_model_module": "@jupyter-widgets/controls"
          }
        },
        "05b9e2d80bd24a3c8b7ba029bd6540b0": {
          "model_module": "@jupyter-widgets/base",
          "model_name": "LayoutModel",
          "model_module_version": "1.2.0",
          "state": {
            "_view_name": "LayoutView",
            "grid_template_rows": null,
            "right": null,
            "justify_content": null,
            "_view_module": "@jupyter-widgets/base",
            "overflow": null,
            "_model_module_version": "1.2.0",
            "_view_count": null,
            "flex_flow": null,
            "width": null,
            "min_width": null,
            "border": null,
            "align_items": null,
            "bottom": null,
            "_model_module": "@jupyter-widgets/base",
            "top": null,
            "grid_column": null,
            "overflow_y": null,
            "overflow_x": null,
            "grid_auto_flow": null,
            "grid_area": null,
            "grid_template_columns": null,
            "flex": null,
            "_model_name": "LayoutModel",
            "justify_items": null,
            "grid_row": null,
            "max_height": null,
            "align_content": null,
            "visibility": null,
            "align_self": null,
            "height": null,
            "min_height": null,
            "padding": null,
            "grid_auto_rows": null,
            "grid_gap": null,
            "max_width": null,
            "order": null,
            "_view_module_version": "1.2.0",
            "grid_template_areas": null,
            "object_position": null,
            "object_fit": null,
            "grid_auto_columns": null,
            "margin": null,
            "display": null,
            "left": null
          }
        },
        "8d89644e56f04c1ab995580482286dbe": {
          "model_module": "@jupyter-widgets/controls",
          "model_name": "ProgressStyleModel",
          "model_module_version": "1.5.0",
          "state": {
            "_view_name": "StyleView",
            "_model_name": "ProgressStyleModel",
            "description_width": "",
            "_view_module": "@jupyter-widgets/base",
            "_model_module_version": "1.5.0",
            "_view_count": null,
            "_view_module_version": "1.2.0",
            "bar_color": null,
            "_model_module": "@jupyter-widgets/controls"
          }
        },
        "641dfe1e94244ccc9a8727a2d9f51766": {
          "model_module": "@jupyter-widgets/base",
          "model_name": "LayoutModel",
          "model_module_version": "1.2.0",
          "state": {
            "_view_name": "LayoutView",
            "grid_template_rows": null,
            "right": null,
            "justify_content": null,
            "_view_module": "@jupyter-widgets/base",
            "overflow": null,
            "_model_module_version": "1.2.0",
            "_view_count": null,
            "flex_flow": null,
            "width": null,
            "min_width": null,
            "border": null,
            "align_items": null,
            "bottom": null,
            "_model_module": "@jupyter-widgets/base",
            "top": null,
            "grid_column": null,
            "overflow_y": null,
            "overflow_x": null,
            "grid_auto_flow": null,
            "grid_area": null,
            "grid_template_columns": null,
            "flex": null,
            "_model_name": "LayoutModel",
            "justify_items": null,
            "grid_row": null,
            "max_height": null,
            "align_content": null,
            "visibility": null,
            "align_self": null,
            "height": null,
            "min_height": null,
            "padding": null,
            "grid_auto_rows": null,
            "grid_gap": null,
            "max_width": null,
            "order": null,
            "_view_module_version": "1.2.0",
            "grid_template_areas": null,
            "object_position": null,
            "object_fit": null,
            "grid_auto_columns": null,
            "margin": null,
            "display": null,
            "left": null
          }
        },
        "e13a08d395194510aeb90c12d335ead6": {
          "model_module": "@jupyter-widgets/controls",
          "model_name": "DescriptionStyleModel",
          "model_module_version": "1.5.0",
          "state": {
            "_view_name": "StyleView",
            "_model_name": "DescriptionStyleModel",
            "description_width": "",
            "_view_module": "@jupyter-widgets/base",
            "_model_module_version": "1.5.0",
            "_view_count": null,
            "_view_module_version": "1.2.0",
            "_model_module": "@jupyter-widgets/controls"
          }
        },
        "18e3ab5427a540588ddfd3ad39bcf5fe": {
          "model_module": "@jupyter-widgets/base",
          "model_name": "LayoutModel",
          "model_module_version": "1.2.0",
          "state": {
            "_view_name": "LayoutView",
            "grid_template_rows": null,
            "right": null,
            "justify_content": null,
            "_view_module": "@jupyter-widgets/base",
            "overflow": null,
            "_model_module_version": "1.2.0",
            "_view_count": null,
            "flex_flow": null,
            "width": null,
            "min_width": null,
            "border": null,
            "align_items": null,
            "bottom": null,
            "_model_module": "@jupyter-widgets/base",
            "top": null,
            "grid_column": null,
            "overflow_y": null,
            "overflow_x": null,
            "grid_auto_flow": null,
            "grid_area": null,
            "grid_template_columns": null,
            "flex": null,
            "_model_name": "LayoutModel",
            "justify_items": null,
            "grid_row": null,
            "max_height": null,
            "align_content": null,
            "visibility": null,
            "align_self": null,
            "height": null,
            "min_height": null,
            "padding": null,
            "grid_auto_rows": null,
            "grid_gap": null,
            "max_width": null,
            "order": null,
            "_view_module_version": "1.2.0",
            "grid_template_areas": null,
            "object_position": null,
            "object_fit": null,
            "grid_auto_columns": null,
            "margin": null,
            "display": null,
            "left": null
          }
        },
        "94cfc603f821411d82e2b4c6ca6e0b6f": {
          "model_module": "@jupyter-widgets/controls",
          "model_name": "HBoxModel",
          "model_module_version": "1.5.0",
          "state": {
            "_view_name": "HBoxView",
            "_dom_classes": [],
            "_model_name": "HBoxModel",
            "_view_module": "@jupyter-widgets/controls",
            "_model_module_version": "1.5.0",
            "_view_count": null,
            "_view_module_version": "1.5.0",
            "box_style": "",
            "layout": "IPY_MODEL_d63e6b63b2834d23ad22d93bae737bfa",
            "_model_module": "@jupyter-widgets/controls",
            "children": [
              "IPY_MODEL_648bcdda70764bda9b93aa759a75f4ef",
              "IPY_MODEL_c89ddbed4cd04cdf8fe4f48245d59455",
              "IPY_MODEL_5229cf2e42ff4bb9a01f11758465c422"
            ]
          }
        },
        "d63e6b63b2834d23ad22d93bae737bfa": {
          "model_module": "@jupyter-widgets/base",
          "model_name": "LayoutModel",
          "model_module_version": "1.2.0",
          "state": {
            "_view_name": "LayoutView",
            "grid_template_rows": null,
            "right": null,
            "justify_content": null,
            "_view_module": "@jupyter-widgets/base",
            "overflow": null,
            "_model_module_version": "1.2.0",
            "_view_count": null,
            "flex_flow": null,
            "width": null,
            "min_width": null,
            "border": null,
            "align_items": null,
            "bottom": null,
            "_model_module": "@jupyter-widgets/base",
            "top": null,
            "grid_column": null,
            "overflow_y": null,
            "overflow_x": null,
            "grid_auto_flow": null,
            "grid_area": null,
            "grid_template_columns": null,
            "flex": null,
            "_model_name": "LayoutModel",
            "justify_items": null,
            "grid_row": null,
            "max_height": null,
            "align_content": null,
            "visibility": null,
            "align_self": null,
            "height": null,
            "min_height": null,
            "padding": null,
            "grid_auto_rows": null,
            "grid_gap": null,
            "max_width": null,
            "order": null,
            "_view_module_version": "1.2.0",
            "grid_template_areas": null,
            "object_position": null,
            "object_fit": null,
            "grid_auto_columns": null,
            "margin": null,
            "display": null,
            "left": null
          }
        },
        "648bcdda70764bda9b93aa759a75f4ef": {
          "model_module": "@jupyter-widgets/controls",
          "model_name": "HTMLModel",
          "model_module_version": "1.5.0",
          "state": {
            "_view_name": "HTMLView",
            "style": "IPY_MODEL_439627c9d15b40789f7ad2c04c06cc67",
            "_dom_classes": [],
            "description": "",
            "_model_name": "HTMLModel",
            "placeholder": "​",
            "_view_module": "@jupyter-widgets/controls",
            "_model_module_version": "1.5.0",
            "value": "Downloading: 100%",
            "_view_count": null,
            "_view_module_version": "1.5.0",
            "description_tooltip": null,
            "_model_module": "@jupyter-widgets/controls",
            "layout": "IPY_MODEL_0fbf7e097c174b4ba1b0a24e83376297"
          }
        },
        "c89ddbed4cd04cdf8fe4f48245d59455": {
          "model_module": "@jupyter-widgets/controls",
          "model_name": "FloatProgressModel",
          "model_module_version": "1.5.0",
          "state": {
            "_view_name": "ProgressView",
            "style": "IPY_MODEL_06b295db427e42be99a53620ac3011e9",
            "_dom_classes": [],
            "description": "",
            "_model_name": "FloatProgressModel",
            "bar_style": "success",
            "max": 363,
            "_view_module": "@jupyter-widgets/controls",
            "_model_module_version": "1.5.0",
            "value": 363,
            "_view_count": null,
            "_view_module_version": "1.5.0",
            "orientation": "horizontal",
            "min": 0,
            "description_tooltip": null,
            "_model_module": "@jupyter-widgets/controls",
            "layout": "IPY_MODEL_368edb8d29234e63b76215270b79628c"
          }
        },
        "5229cf2e42ff4bb9a01f11758465c422": {
          "model_module": "@jupyter-widgets/controls",
          "model_name": "HTMLModel",
          "model_module_version": "1.5.0",
          "state": {
            "_view_name": "HTMLView",
            "style": "IPY_MODEL_3ba15143c02848a590e7dbb493bb972f",
            "_dom_classes": [],
            "description": "",
            "_model_name": "HTMLModel",
            "placeholder": "​",
            "_view_module": "@jupyter-widgets/controls",
            "_model_module_version": "1.5.0",
            "value": " 363/363 [00:00&lt;00:00, 9.89kB/s]",
            "_view_count": null,
            "_view_module_version": "1.5.0",
            "description_tooltip": null,
            "_model_module": "@jupyter-widgets/controls",
            "layout": "IPY_MODEL_272189148d5e4d5a81faf9c4bbf497ce"
          }
        },
        "439627c9d15b40789f7ad2c04c06cc67": {
          "model_module": "@jupyter-widgets/controls",
          "model_name": "DescriptionStyleModel",
          "model_module_version": "1.5.0",
          "state": {
            "_view_name": "StyleView",
            "_model_name": "DescriptionStyleModel",
            "description_width": "",
            "_view_module": "@jupyter-widgets/base",
            "_model_module_version": "1.5.0",
            "_view_count": null,
            "_view_module_version": "1.2.0",
            "_model_module": "@jupyter-widgets/controls"
          }
        },
        "0fbf7e097c174b4ba1b0a24e83376297": {
          "model_module": "@jupyter-widgets/base",
          "model_name": "LayoutModel",
          "model_module_version": "1.2.0",
          "state": {
            "_view_name": "LayoutView",
            "grid_template_rows": null,
            "right": null,
            "justify_content": null,
            "_view_module": "@jupyter-widgets/base",
            "overflow": null,
            "_model_module_version": "1.2.0",
            "_view_count": null,
            "flex_flow": null,
            "width": null,
            "min_width": null,
            "border": null,
            "align_items": null,
            "bottom": null,
            "_model_module": "@jupyter-widgets/base",
            "top": null,
            "grid_column": null,
            "overflow_y": null,
            "overflow_x": null,
            "grid_auto_flow": null,
            "grid_area": null,
            "grid_template_columns": null,
            "flex": null,
            "_model_name": "LayoutModel",
            "justify_items": null,
            "grid_row": null,
            "max_height": null,
            "align_content": null,
            "visibility": null,
            "align_self": null,
            "height": null,
            "min_height": null,
            "padding": null,
            "grid_auto_rows": null,
            "grid_gap": null,
            "max_width": null,
            "order": null,
            "_view_module_version": "1.2.0",
            "grid_template_areas": null,
            "object_position": null,
            "object_fit": null,
            "grid_auto_columns": null,
            "margin": null,
            "display": null,
            "left": null
          }
        },
        "06b295db427e42be99a53620ac3011e9": {
          "model_module": "@jupyter-widgets/controls",
          "model_name": "ProgressStyleModel",
          "model_module_version": "1.5.0",
          "state": {
            "_view_name": "StyleView",
            "_model_name": "ProgressStyleModel",
            "description_width": "",
            "_view_module": "@jupyter-widgets/base",
            "_model_module_version": "1.5.0",
            "_view_count": null,
            "_view_module_version": "1.2.0",
            "bar_color": null,
            "_model_module": "@jupyter-widgets/controls"
          }
        },
        "368edb8d29234e63b76215270b79628c": {
          "model_module": "@jupyter-widgets/base",
          "model_name": "LayoutModel",
          "model_module_version": "1.2.0",
          "state": {
            "_view_name": "LayoutView",
            "grid_template_rows": null,
            "right": null,
            "justify_content": null,
            "_view_module": "@jupyter-widgets/base",
            "overflow": null,
            "_model_module_version": "1.2.0",
            "_view_count": null,
            "flex_flow": null,
            "width": null,
            "min_width": null,
            "border": null,
            "align_items": null,
            "bottom": null,
            "_model_module": "@jupyter-widgets/base",
            "top": null,
            "grid_column": null,
            "overflow_y": null,
            "overflow_x": null,
            "grid_auto_flow": null,
            "grid_area": null,
            "grid_template_columns": null,
            "flex": null,
            "_model_name": "LayoutModel",
            "justify_items": null,
            "grid_row": null,
            "max_height": null,
            "align_content": null,
            "visibility": null,
            "align_self": null,
            "height": null,
            "min_height": null,
            "padding": null,
            "grid_auto_rows": null,
            "grid_gap": null,
            "max_width": null,
            "order": null,
            "_view_module_version": "1.2.0",
            "grid_template_areas": null,
            "object_position": null,
            "object_fit": null,
            "grid_auto_columns": null,
            "margin": null,
            "display": null,
            "left": null
          }
        },
        "3ba15143c02848a590e7dbb493bb972f": {
          "model_module": "@jupyter-widgets/controls",
          "model_name": "DescriptionStyleModel",
          "model_module_version": "1.5.0",
          "state": {
            "_view_name": "StyleView",
            "_model_name": "DescriptionStyleModel",
            "description_width": "",
            "_view_module": "@jupyter-widgets/base",
            "_model_module_version": "1.5.0",
            "_view_count": null,
            "_view_module_version": "1.2.0",
            "_model_module": "@jupyter-widgets/controls"
          }
        },
        "272189148d5e4d5a81faf9c4bbf497ce": {
          "model_module": "@jupyter-widgets/base",
          "model_name": "LayoutModel",
          "model_module_version": "1.2.0",
          "state": {
            "_view_name": "LayoutView",
            "grid_template_rows": null,
            "right": null,
            "justify_content": null,
            "_view_module": "@jupyter-widgets/base",
            "overflow": null,
            "_model_module_version": "1.2.0",
            "_view_count": null,
            "flex_flow": null,
            "width": null,
            "min_width": null,
            "border": null,
            "align_items": null,
            "bottom": null,
            "_model_module": "@jupyter-widgets/base",
            "top": null,
            "grid_column": null,
            "overflow_y": null,
            "overflow_x": null,
            "grid_auto_flow": null,
            "grid_area": null,
            "grid_template_columns": null,
            "flex": null,
            "_model_name": "LayoutModel",
            "justify_items": null,
            "grid_row": null,
            "max_height": null,
            "align_content": null,
            "visibility": null,
            "align_self": null,
            "height": null,
            "min_height": null,
            "padding": null,
            "grid_auto_rows": null,
            "grid_gap": null,
            "max_width": null,
            "order": null,
            "_view_module_version": "1.2.0",
            "grid_template_areas": null,
            "object_position": null,
            "object_fit": null,
            "grid_auto_columns": null,
            "margin": null,
            "display": null,
            "left": null
          }
        },
        "e98a126af6664993ab25fa19407b3c7b": {
          "model_module": "@jupyter-widgets/controls",
          "model_name": "HBoxModel",
          "model_module_version": "1.5.0",
          "state": {
            "_view_name": "HBoxView",
            "_dom_classes": [],
            "_model_name": "HBoxModel",
            "_view_module": "@jupyter-widgets/controls",
            "_model_module_version": "1.5.0",
            "_view_count": null,
            "_view_module_version": "1.5.0",
            "box_style": "",
            "layout": "IPY_MODEL_6a2f5e30aa9142adbea8792d82426b41",
            "_model_module": "@jupyter-widgets/controls",
            "children": [
              "IPY_MODEL_66a4b7f7ffda443685a025020b743d82",
              "IPY_MODEL_0fee6b5e87a04b0f850fb69f5299a857",
              "IPY_MODEL_d9783016351d44f4a9723da471cde633"
            ]
          }
        },
        "6a2f5e30aa9142adbea8792d82426b41": {
          "model_module": "@jupyter-widgets/base",
          "model_name": "LayoutModel",
          "model_module_version": "1.2.0",
          "state": {
            "_view_name": "LayoutView",
            "grid_template_rows": null,
            "right": null,
            "justify_content": null,
            "_view_module": "@jupyter-widgets/base",
            "overflow": null,
            "_model_module_version": "1.2.0",
            "_view_count": null,
            "flex_flow": null,
            "width": null,
            "min_width": null,
            "border": null,
            "align_items": null,
            "bottom": null,
            "_model_module": "@jupyter-widgets/base",
            "top": null,
            "grid_column": null,
            "overflow_y": null,
            "overflow_x": null,
            "grid_auto_flow": null,
            "grid_area": null,
            "grid_template_columns": null,
            "flex": null,
            "_model_name": "LayoutModel",
            "justify_items": null,
            "grid_row": null,
            "max_height": null,
            "align_content": null,
            "visibility": null,
            "align_self": null,
            "height": null,
            "min_height": null,
            "padding": null,
            "grid_auto_rows": null,
            "grid_gap": null,
            "max_width": null,
            "order": null,
            "_view_module_version": "1.2.0",
            "grid_template_areas": null,
            "object_position": null,
            "object_fit": null,
            "grid_auto_columns": null,
            "margin": null,
            "display": null,
            "left": null
          }
        },
        "66a4b7f7ffda443685a025020b743d82": {
          "model_module": "@jupyter-widgets/controls",
          "model_name": "HTMLModel",
          "model_module_version": "1.5.0",
          "state": {
            "_view_name": "HTMLView",
            "style": "IPY_MODEL_a08d48f75a054d638e83852036383ec8",
            "_dom_classes": [],
            "description": "",
            "_model_name": "HTMLModel",
            "placeholder": "​",
            "_view_module": "@jupyter-widgets/controls",
            "_model_module_version": "1.5.0",
            "value": "Downloading: 100%",
            "_view_count": null,
            "_view_module_version": "1.5.0",
            "description_tooltip": null,
            "_model_module": "@jupyter-widgets/controls",
            "layout": "IPY_MODEL_3bed923c5ecf4d23b502fe23b19f2484"
          }
        },
        "0fee6b5e87a04b0f850fb69f5299a857": {
          "model_module": "@jupyter-widgets/controls",
          "model_name": "FloatProgressModel",
          "model_module_version": "1.5.0",
          "state": {
            "_view_name": "ProgressView",
            "style": "IPY_MODEL_d0604cc4539d43cca6250bb44ebe5bef",
            "_dom_classes": [],
            "description": "",
            "_model_name": "FloatProgressModel",
            "bar_style": "success",
            "max": 13123,
            "_view_module": "@jupyter-widgets/controls",
            "_model_module_version": "1.5.0",
            "value": 13123,
            "_view_count": null,
            "_view_module_version": "1.5.0",
            "orientation": "horizontal",
            "min": 0,
            "description_tooltip": null,
            "_model_module": "@jupyter-widgets/controls",
            "layout": "IPY_MODEL_35d08e42eb1e4db79942d932e4fa33c4"
          }
        },
        "d9783016351d44f4a9723da471cde633": {
          "model_module": "@jupyter-widgets/controls",
          "model_name": "HTMLModel",
          "model_module_version": "1.5.0",
          "state": {
            "_view_name": "HTMLView",
            "style": "IPY_MODEL_4a1c7d7882d24fd49178f23f222dcf29",
            "_dom_classes": [],
            "description": "",
            "_model_name": "HTMLModel",
            "placeholder": "​",
            "_view_module": "@jupyter-widgets/controls",
            "_model_module_version": "1.5.0",
            "value": " 13.1k/13.1k [00:00&lt;00:00, 331kB/s]",
            "_view_count": null,
            "_view_module_version": "1.5.0",
            "description_tooltip": null,
            "_model_module": "@jupyter-widgets/controls",
            "layout": "IPY_MODEL_272995405967455a96f7efbab2f2bb1d"
          }
        },
        "a08d48f75a054d638e83852036383ec8": {
          "model_module": "@jupyter-widgets/controls",
          "model_name": "DescriptionStyleModel",
          "model_module_version": "1.5.0",
          "state": {
            "_view_name": "StyleView",
            "_model_name": "DescriptionStyleModel",
            "description_width": "",
            "_view_module": "@jupyter-widgets/base",
            "_model_module_version": "1.5.0",
            "_view_count": null,
            "_view_module_version": "1.2.0",
            "_model_module": "@jupyter-widgets/controls"
          }
        },
        "3bed923c5ecf4d23b502fe23b19f2484": {
          "model_module": "@jupyter-widgets/base",
          "model_name": "LayoutModel",
          "model_module_version": "1.2.0",
          "state": {
            "_view_name": "LayoutView",
            "grid_template_rows": null,
            "right": null,
            "justify_content": null,
            "_view_module": "@jupyter-widgets/base",
            "overflow": null,
            "_model_module_version": "1.2.0",
            "_view_count": null,
            "flex_flow": null,
            "width": null,
            "min_width": null,
            "border": null,
            "align_items": null,
            "bottom": null,
            "_model_module": "@jupyter-widgets/base",
            "top": null,
            "grid_column": null,
            "overflow_y": null,
            "overflow_x": null,
            "grid_auto_flow": null,
            "grid_area": null,
            "grid_template_columns": null,
            "flex": null,
            "_model_name": "LayoutModel",
            "justify_items": null,
            "grid_row": null,
            "max_height": null,
            "align_content": null,
            "visibility": null,
            "align_self": null,
            "height": null,
            "min_height": null,
            "padding": null,
            "grid_auto_rows": null,
            "grid_gap": null,
            "max_width": null,
            "order": null,
            "_view_module_version": "1.2.0",
            "grid_template_areas": null,
            "object_position": null,
            "object_fit": null,
            "grid_auto_columns": null,
            "margin": null,
            "display": null,
            "left": null
          }
        },
        "d0604cc4539d43cca6250bb44ebe5bef": {
          "model_module": "@jupyter-widgets/controls",
          "model_name": "ProgressStyleModel",
          "model_module_version": "1.5.0",
          "state": {
            "_view_name": "StyleView",
            "_model_name": "ProgressStyleModel",
            "description_width": "",
            "_view_module": "@jupyter-widgets/base",
            "_model_module_version": "1.5.0",
            "_view_count": null,
            "_view_module_version": "1.2.0",
            "bar_color": null,
            "_model_module": "@jupyter-widgets/controls"
          }
        },
        "35d08e42eb1e4db79942d932e4fa33c4": {
          "model_module": "@jupyter-widgets/base",
          "model_name": "LayoutModel",
          "model_module_version": "1.2.0",
          "state": {
            "_view_name": "LayoutView",
            "grid_template_rows": null,
            "right": null,
            "justify_content": null,
            "_view_module": "@jupyter-widgets/base",
            "overflow": null,
            "_model_module_version": "1.2.0",
            "_view_count": null,
            "flex_flow": null,
            "width": null,
            "min_width": null,
            "border": null,
            "align_items": null,
            "bottom": null,
            "_model_module": "@jupyter-widgets/base",
            "top": null,
            "grid_column": null,
            "overflow_y": null,
            "overflow_x": null,
            "grid_auto_flow": null,
            "grid_area": null,
            "grid_template_columns": null,
            "flex": null,
            "_model_name": "LayoutModel",
            "justify_items": null,
            "grid_row": null,
            "max_height": null,
            "align_content": null,
            "visibility": null,
            "align_self": null,
            "height": null,
            "min_height": null,
            "padding": null,
            "grid_auto_rows": null,
            "grid_gap": null,
            "max_width": null,
            "order": null,
            "_view_module_version": "1.2.0",
            "grid_template_areas": null,
            "object_position": null,
            "object_fit": null,
            "grid_auto_columns": null,
            "margin": null,
            "display": null,
            "left": null
          }
        },
        "4a1c7d7882d24fd49178f23f222dcf29": {
          "model_module": "@jupyter-widgets/controls",
          "model_name": "DescriptionStyleModel",
          "model_module_version": "1.5.0",
          "state": {
            "_view_name": "StyleView",
            "_model_name": "DescriptionStyleModel",
            "description_width": "",
            "_view_module": "@jupyter-widgets/base",
            "_model_module_version": "1.5.0",
            "_view_count": null,
            "_view_module_version": "1.2.0",
            "_model_module": "@jupyter-widgets/controls"
          }
        },
        "272995405967455a96f7efbab2f2bb1d": {
          "model_module": "@jupyter-widgets/base",
          "model_name": "LayoutModel",
          "model_module_version": "1.2.0",
          "state": {
            "_view_name": "LayoutView",
            "grid_template_rows": null,
            "right": null,
            "justify_content": null,
            "_view_module": "@jupyter-widgets/base",
            "overflow": null,
            "_model_module_version": "1.2.0",
            "_view_count": null,
            "flex_flow": null,
            "width": null,
            "min_width": null,
            "border": null,
            "align_items": null,
            "bottom": null,
            "_model_module": "@jupyter-widgets/base",
            "top": null,
            "grid_column": null,
            "overflow_y": null,
            "overflow_x": null,
            "grid_auto_flow": null,
            "grid_area": null,
            "grid_template_columns": null,
            "flex": null,
            "_model_name": "LayoutModel",
            "justify_items": null,
            "grid_row": null,
            "max_height": null,
            "align_content": null,
            "visibility": null,
            "align_self": null,
            "height": null,
            "min_height": null,
            "padding": null,
            "grid_auto_rows": null,
            "grid_gap": null,
            "max_width": null,
            "order": null,
            "_view_module_version": "1.2.0",
            "grid_template_areas": null,
            "object_position": null,
            "object_fit": null,
            "grid_auto_columns": null,
            "margin": null,
            "display": null,
            "left": null
          }
        },
        "7a51513606cf4bc4a94943f4a00d9ca0": {
          "model_module": "@jupyter-widgets/controls",
          "model_name": "HBoxModel",
          "model_module_version": "1.5.0",
          "state": {
            "_view_name": "HBoxView",
            "_dom_classes": [],
            "_model_name": "HBoxModel",
            "_view_module": "@jupyter-widgets/controls",
            "_model_module_version": "1.5.0",
            "_view_count": null,
            "_view_module_version": "1.5.0",
            "box_style": "",
            "layout": "IPY_MODEL_4a608eb34a614076a36ae7d25958f069",
            "_model_module": "@jupyter-widgets/controls",
            "children": [
              "IPY_MODEL_f69cabb9e0aa41f4890341bf5bbae9f0",
              "IPY_MODEL_89579befc2764660b051625f4f2849b7",
              "IPY_MODEL_54457de61403443f9f79f34ba06c9776"
            ]
          }
        },
        "4a608eb34a614076a36ae7d25958f069": {
          "model_module": "@jupyter-widgets/base",
          "model_name": "LayoutModel",
          "model_module_version": "1.2.0",
          "state": {
            "_view_name": "LayoutView",
            "grid_template_rows": null,
            "right": null,
            "justify_content": null,
            "_view_module": "@jupyter-widgets/base",
            "overflow": null,
            "_model_module_version": "1.2.0",
            "_view_count": null,
            "flex_flow": null,
            "width": null,
            "min_width": null,
            "border": null,
            "align_items": null,
            "bottom": null,
            "_model_module": "@jupyter-widgets/base",
            "top": null,
            "grid_column": null,
            "overflow_y": null,
            "overflow_x": null,
            "grid_auto_flow": null,
            "grid_area": null,
            "grid_template_columns": null,
            "flex": null,
            "_model_name": "LayoutModel",
            "justify_items": null,
            "grid_row": null,
            "max_height": null,
            "align_content": null,
            "visibility": null,
            "align_self": null,
            "height": null,
            "min_height": null,
            "padding": null,
            "grid_auto_rows": null,
            "grid_gap": null,
            "max_width": null,
            "order": null,
            "_view_module_version": "1.2.0",
            "grid_template_areas": null,
            "object_position": null,
            "object_fit": null,
            "grid_auto_columns": null,
            "margin": null,
            "display": null,
            "left": null
          }
        },
        "f69cabb9e0aa41f4890341bf5bbae9f0": {
          "model_module": "@jupyter-widgets/controls",
          "model_name": "HTMLModel",
          "model_module_version": "1.5.0",
          "state": {
            "_view_name": "HTMLView",
            "style": "IPY_MODEL_99a722af04f9482f82c13cd18fbc38c1",
            "_dom_classes": [],
            "description": "",
            "_model_name": "HTMLModel",
            "placeholder": "​",
            "_view_module": "@jupyter-widgets/controls",
            "_model_module_version": "1.5.0",
            "value": "Downloading: 100%",
            "_view_count": null,
            "_view_module_version": "1.5.0",
            "description_tooltip": null,
            "_model_module": "@jupyter-widgets/controls",
            "layout": "IPY_MODEL_bf3b97e741c445b79aadab7c923bbf1a"
          }
        },
        "89579befc2764660b051625f4f2849b7": {
          "model_module": "@jupyter-widgets/controls",
          "model_name": "FloatProgressModel",
          "model_module_version": "1.5.0",
          "state": {
            "_view_name": "ProgressView",
            "style": "IPY_MODEL_298c89168dd24d33ae07204149af1f0b",
            "_dom_classes": [],
            "description": "",
            "_model_name": "FloatProgressModel",
            "bar_style": "success",
            "max": 231536,
            "_view_module": "@jupyter-widgets/controls",
            "_model_module_version": "1.5.0",
            "value": 231536,
            "_view_count": null,
            "_view_module_version": "1.5.0",
            "orientation": "horizontal",
            "min": 0,
            "description_tooltip": null,
            "_model_module": "@jupyter-widgets/controls",
            "layout": "IPY_MODEL_dddcf91d356c43d58e1e20b321e4467e"
          }
        },
        "54457de61403443f9f79f34ba06c9776": {
          "model_module": "@jupyter-widgets/controls",
          "model_name": "HTMLModel",
          "model_module_version": "1.5.0",
          "state": {
            "_view_name": "HTMLView",
            "style": "IPY_MODEL_e31c5ed74de245529f6a2ae2f0f50b75",
            "_dom_classes": [],
            "description": "",
            "_model_name": "HTMLModel",
            "placeholder": "​",
            "_view_module": "@jupyter-widgets/controls",
            "_model_module_version": "1.5.0",
            "value": " 232k/232k [00:00&lt;00:00, 610kB/s]",
            "_view_count": null,
            "_view_module_version": "1.5.0",
            "description_tooltip": null,
            "_model_module": "@jupyter-widgets/controls",
            "layout": "IPY_MODEL_232a3d613ba44f54955315825d661bcd"
          }
        },
        "99a722af04f9482f82c13cd18fbc38c1": {
          "model_module": "@jupyter-widgets/controls",
          "model_name": "DescriptionStyleModel",
          "model_module_version": "1.5.0",
          "state": {
            "_view_name": "StyleView",
            "_model_name": "DescriptionStyleModel",
            "description_width": "",
            "_view_module": "@jupyter-widgets/base",
            "_model_module_version": "1.5.0",
            "_view_count": null,
            "_view_module_version": "1.2.0",
            "_model_module": "@jupyter-widgets/controls"
          }
        },
        "bf3b97e741c445b79aadab7c923bbf1a": {
          "model_module": "@jupyter-widgets/base",
          "model_name": "LayoutModel",
          "model_module_version": "1.2.0",
          "state": {
            "_view_name": "LayoutView",
            "grid_template_rows": null,
            "right": null,
            "justify_content": null,
            "_view_module": "@jupyter-widgets/base",
            "overflow": null,
            "_model_module_version": "1.2.0",
            "_view_count": null,
            "flex_flow": null,
            "width": null,
            "min_width": null,
            "border": null,
            "align_items": null,
            "bottom": null,
            "_model_module": "@jupyter-widgets/base",
            "top": null,
            "grid_column": null,
            "overflow_y": null,
            "overflow_x": null,
            "grid_auto_flow": null,
            "grid_area": null,
            "grid_template_columns": null,
            "flex": null,
            "_model_name": "LayoutModel",
            "justify_items": null,
            "grid_row": null,
            "max_height": null,
            "align_content": null,
            "visibility": null,
            "align_self": null,
            "height": null,
            "min_height": null,
            "padding": null,
            "grid_auto_rows": null,
            "grid_gap": null,
            "max_width": null,
            "order": null,
            "_view_module_version": "1.2.0",
            "grid_template_areas": null,
            "object_position": null,
            "object_fit": null,
            "grid_auto_columns": null,
            "margin": null,
            "display": null,
            "left": null
          }
        },
        "298c89168dd24d33ae07204149af1f0b": {
          "model_module": "@jupyter-widgets/controls",
          "model_name": "ProgressStyleModel",
          "model_module_version": "1.5.0",
          "state": {
            "_view_name": "StyleView",
            "_model_name": "ProgressStyleModel",
            "description_width": "",
            "_view_module": "@jupyter-widgets/base",
            "_model_module_version": "1.5.0",
            "_view_count": null,
            "_view_module_version": "1.2.0",
            "bar_color": null,
            "_model_module": "@jupyter-widgets/controls"
          }
        },
        "dddcf91d356c43d58e1e20b321e4467e": {
          "model_module": "@jupyter-widgets/base",
          "model_name": "LayoutModel",
          "model_module_version": "1.2.0",
          "state": {
            "_view_name": "LayoutView",
            "grid_template_rows": null,
            "right": null,
            "justify_content": null,
            "_view_module": "@jupyter-widgets/base",
            "overflow": null,
            "_model_module_version": "1.2.0",
            "_view_count": null,
            "flex_flow": null,
            "width": null,
            "min_width": null,
            "border": null,
            "align_items": null,
            "bottom": null,
            "_model_module": "@jupyter-widgets/base",
            "top": null,
            "grid_column": null,
            "overflow_y": null,
            "overflow_x": null,
            "grid_auto_flow": null,
            "grid_area": null,
            "grid_template_columns": null,
            "flex": null,
            "_model_name": "LayoutModel",
            "justify_items": null,
            "grid_row": null,
            "max_height": null,
            "align_content": null,
            "visibility": null,
            "align_self": null,
            "height": null,
            "min_height": null,
            "padding": null,
            "grid_auto_rows": null,
            "grid_gap": null,
            "max_width": null,
            "order": null,
            "_view_module_version": "1.2.0",
            "grid_template_areas": null,
            "object_position": null,
            "object_fit": null,
            "grid_auto_columns": null,
            "margin": null,
            "display": null,
            "left": null
          }
        },
        "e31c5ed74de245529f6a2ae2f0f50b75": {
          "model_module": "@jupyter-widgets/controls",
          "model_name": "DescriptionStyleModel",
          "model_module_version": "1.5.0",
          "state": {
            "_view_name": "StyleView",
            "_model_name": "DescriptionStyleModel",
            "description_width": "",
            "_view_module": "@jupyter-widgets/base",
            "_model_module_version": "1.5.0",
            "_view_count": null,
            "_view_module_version": "1.2.0",
            "_model_module": "@jupyter-widgets/controls"
          }
        },
        "232a3d613ba44f54955315825d661bcd": {
          "model_module": "@jupyter-widgets/base",
          "model_name": "LayoutModel",
          "model_module_version": "1.2.0",
          "state": {
            "_view_name": "LayoutView",
            "grid_template_rows": null,
            "right": null,
            "justify_content": null,
            "_view_module": "@jupyter-widgets/base",
            "overflow": null,
            "_model_module_version": "1.2.0",
            "_view_count": null,
            "flex_flow": null,
            "width": null,
            "min_width": null,
            "border": null,
            "align_items": null,
            "bottom": null,
            "_model_module": "@jupyter-widgets/base",
            "top": null,
            "grid_column": null,
            "overflow_y": null,
            "overflow_x": null,
            "grid_auto_flow": null,
            "grid_area": null,
            "grid_template_columns": null,
            "flex": null,
            "_model_name": "LayoutModel",
            "justify_items": null,
            "grid_row": null,
            "max_height": null,
            "align_content": null,
            "visibility": null,
            "align_self": null,
            "height": null,
            "min_height": null,
            "padding": null,
            "grid_auto_rows": null,
            "grid_gap": null,
            "max_width": null,
            "order": null,
            "_view_module_version": "1.2.0",
            "grid_template_areas": null,
            "object_position": null,
            "object_fit": null,
            "grid_auto_columns": null,
            "margin": null,
            "display": null,
            "left": null
          }
        },
        "a609fbb14c4143cb84bc64b9b8a3bd56": {
          "model_module": "@jupyter-widgets/controls",
          "model_name": "HBoxModel",
          "model_module_version": "1.5.0",
          "state": {
            "_view_name": "HBoxView",
            "_dom_classes": [],
            "_model_name": "HBoxModel",
            "_view_module": "@jupyter-widgets/controls",
            "_model_module_version": "1.5.0",
            "_view_count": null,
            "_view_module_version": "1.5.0",
            "box_style": "",
            "layout": "IPY_MODEL_3913417221354f6e9af08f9493351af9",
            "_model_module": "@jupyter-widgets/controls",
            "children": [
              "IPY_MODEL_fba1eb031ea34dd596d939453625b181",
              "IPY_MODEL_5f66f1b23ebf4f3a9eddac18bcd2a316",
              "IPY_MODEL_94c5a0b8074e43868e1677a1be985254"
            ]
          }
        },
        "3913417221354f6e9af08f9493351af9": {
          "model_module": "@jupyter-widgets/base",
          "model_name": "LayoutModel",
          "model_module_version": "1.2.0",
          "state": {
            "_view_name": "LayoutView",
            "grid_template_rows": null,
            "right": null,
            "justify_content": null,
            "_view_module": "@jupyter-widgets/base",
            "overflow": null,
            "_model_module_version": "1.2.0",
            "_view_count": null,
            "flex_flow": null,
            "width": null,
            "min_width": null,
            "border": null,
            "align_items": null,
            "bottom": null,
            "_model_module": "@jupyter-widgets/base",
            "top": null,
            "grid_column": null,
            "overflow_y": null,
            "overflow_x": null,
            "grid_auto_flow": null,
            "grid_area": null,
            "grid_template_columns": null,
            "flex": null,
            "_model_name": "LayoutModel",
            "justify_items": null,
            "grid_row": null,
            "max_height": null,
            "align_content": null,
            "visibility": null,
            "align_self": null,
            "height": null,
            "min_height": null,
            "padding": null,
            "grid_auto_rows": null,
            "grid_gap": null,
            "max_width": null,
            "order": null,
            "_view_module_version": "1.2.0",
            "grid_template_areas": null,
            "object_position": null,
            "object_fit": null,
            "grid_auto_columns": null,
            "margin": null,
            "display": null,
            "left": null
          }
        },
        "fba1eb031ea34dd596d939453625b181": {
          "model_module": "@jupyter-widgets/controls",
          "model_name": "HTMLModel",
          "model_module_version": "1.5.0",
          "state": {
            "_view_name": "HTMLView",
            "style": "IPY_MODEL_1047a37989c946c58d9a18dd3cbfc46d",
            "_dom_classes": [],
            "description": "",
            "_model_name": "HTMLModel",
            "placeholder": "​",
            "_view_module": "@jupyter-widgets/controls",
            "_model_module_version": "1.5.0",
            "value": "Downloading: 100%",
            "_view_count": null,
            "_view_module_version": "1.5.0",
            "description_tooltip": null,
            "_model_module": "@jupyter-widgets/controls",
            "layout": "IPY_MODEL_b48e4aa2966a43c0aa4683c016023e66"
          }
        },
        "5f66f1b23ebf4f3a9eddac18bcd2a316": {
          "model_module": "@jupyter-widgets/controls",
          "model_name": "FloatProgressModel",
          "model_module_version": "1.5.0",
          "state": {
            "_view_name": "ProgressView",
            "style": "IPY_MODEL_c594bdc6824a41eea6ffb71b647a7108",
            "_dom_classes": [],
            "description": "",
            "_model_name": "FloatProgressModel",
            "bar_style": "success",
            "max": 190,
            "_view_module": "@jupyter-widgets/controls",
            "_model_module_version": "1.5.0",
            "value": 190,
            "_view_count": null,
            "_view_module_version": "1.5.0",
            "orientation": "horizontal",
            "min": 0,
            "description_tooltip": null,
            "_model_module": "@jupyter-widgets/controls",
            "layout": "IPY_MODEL_b19072bd9c76473e82731befe6828162"
          }
        },
        "94c5a0b8074e43868e1677a1be985254": {
          "model_module": "@jupyter-widgets/controls",
          "model_name": "HTMLModel",
          "model_module_version": "1.5.0",
          "state": {
            "_view_name": "HTMLView",
            "style": "IPY_MODEL_2373f2d43c584c7899ec9f192c855282",
            "_dom_classes": [],
            "description": "",
            "_model_name": "HTMLModel",
            "placeholder": "​",
            "_view_module": "@jupyter-widgets/controls",
            "_model_module_version": "1.5.0",
            "value": " 190/190 [00:00&lt;00:00, 5.78kB/s]",
            "_view_count": null,
            "_view_module_version": "1.5.0",
            "description_tooltip": null,
            "_model_module": "@jupyter-widgets/controls",
            "layout": "IPY_MODEL_6be39adef52f41ed967ae8b90314ab64"
          }
        },
        "1047a37989c946c58d9a18dd3cbfc46d": {
          "model_module": "@jupyter-widgets/controls",
          "model_name": "DescriptionStyleModel",
          "model_module_version": "1.5.0",
          "state": {
            "_view_name": "StyleView",
            "_model_name": "DescriptionStyleModel",
            "description_width": "",
            "_view_module": "@jupyter-widgets/base",
            "_model_module_version": "1.5.0",
            "_view_count": null,
            "_view_module_version": "1.2.0",
            "_model_module": "@jupyter-widgets/controls"
          }
        },
        "b48e4aa2966a43c0aa4683c016023e66": {
          "model_module": "@jupyter-widgets/base",
          "model_name": "LayoutModel",
          "model_module_version": "1.2.0",
          "state": {
            "_view_name": "LayoutView",
            "grid_template_rows": null,
            "right": null,
            "justify_content": null,
            "_view_module": "@jupyter-widgets/base",
            "overflow": null,
            "_model_module_version": "1.2.0",
            "_view_count": null,
            "flex_flow": null,
            "width": null,
            "min_width": null,
            "border": null,
            "align_items": null,
            "bottom": null,
            "_model_module": "@jupyter-widgets/base",
            "top": null,
            "grid_column": null,
            "overflow_y": null,
            "overflow_x": null,
            "grid_auto_flow": null,
            "grid_area": null,
            "grid_template_columns": null,
            "flex": null,
            "_model_name": "LayoutModel",
            "justify_items": null,
            "grid_row": null,
            "max_height": null,
            "align_content": null,
            "visibility": null,
            "align_self": null,
            "height": null,
            "min_height": null,
            "padding": null,
            "grid_auto_rows": null,
            "grid_gap": null,
            "max_width": null,
            "order": null,
            "_view_module_version": "1.2.0",
            "grid_template_areas": null,
            "object_position": null,
            "object_fit": null,
            "grid_auto_columns": null,
            "margin": null,
            "display": null,
            "left": null
          }
        },
        "c594bdc6824a41eea6ffb71b647a7108": {
          "model_module": "@jupyter-widgets/controls",
          "model_name": "ProgressStyleModel",
          "model_module_version": "1.5.0",
          "state": {
            "_view_name": "StyleView",
            "_model_name": "ProgressStyleModel",
            "description_width": "",
            "_view_module": "@jupyter-widgets/base",
            "_model_module_version": "1.5.0",
            "_view_count": null,
            "_view_module_version": "1.2.0",
            "bar_color": null,
            "_model_module": "@jupyter-widgets/controls"
          }
        },
        "b19072bd9c76473e82731befe6828162": {
          "model_module": "@jupyter-widgets/base",
          "model_name": "LayoutModel",
          "model_module_version": "1.2.0",
          "state": {
            "_view_name": "LayoutView",
            "grid_template_rows": null,
            "right": null,
            "justify_content": null,
            "_view_module": "@jupyter-widgets/base",
            "overflow": null,
            "_model_module_version": "1.2.0",
            "_view_count": null,
            "flex_flow": null,
            "width": null,
            "min_width": null,
            "border": null,
            "align_items": null,
            "bottom": null,
            "_model_module": "@jupyter-widgets/base",
            "top": null,
            "grid_column": null,
            "overflow_y": null,
            "overflow_x": null,
            "grid_auto_flow": null,
            "grid_area": null,
            "grid_template_columns": null,
            "flex": null,
            "_model_name": "LayoutModel",
            "justify_items": null,
            "grid_row": null,
            "max_height": null,
            "align_content": null,
            "visibility": null,
            "align_self": null,
            "height": null,
            "min_height": null,
            "padding": null,
            "grid_auto_rows": null,
            "grid_gap": null,
            "max_width": null,
            "order": null,
            "_view_module_version": "1.2.0",
            "grid_template_areas": null,
            "object_position": null,
            "object_fit": null,
            "grid_auto_columns": null,
            "margin": null,
            "display": null,
            "left": null
          }
        },
        "2373f2d43c584c7899ec9f192c855282": {
          "model_module": "@jupyter-widgets/controls",
          "model_name": "DescriptionStyleModel",
          "model_module_version": "1.5.0",
          "state": {
            "_view_name": "StyleView",
            "_model_name": "DescriptionStyleModel",
            "description_width": "",
            "_view_module": "@jupyter-widgets/base",
            "_model_module_version": "1.5.0",
            "_view_count": null,
            "_view_module_version": "1.2.0",
            "_model_module": "@jupyter-widgets/controls"
          }
        },
        "6be39adef52f41ed967ae8b90314ab64": {
          "model_module": "@jupyter-widgets/base",
          "model_name": "LayoutModel",
          "model_module_version": "1.2.0",
          "state": {
            "_view_name": "LayoutView",
            "grid_template_rows": null,
            "right": null,
            "justify_content": null,
            "_view_module": "@jupyter-widgets/base",
            "overflow": null,
            "_model_module_version": "1.2.0",
            "_view_count": null,
            "flex_flow": null,
            "width": null,
            "min_width": null,
            "border": null,
            "align_items": null,
            "bottom": null,
            "_model_module": "@jupyter-widgets/base",
            "top": null,
            "grid_column": null,
            "overflow_y": null,
            "overflow_x": null,
            "grid_auto_flow": null,
            "grid_area": null,
            "grid_template_columns": null,
            "flex": null,
            "_model_name": "LayoutModel",
            "justify_items": null,
            "grid_row": null,
            "max_height": null,
            "align_content": null,
            "visibility": null,
            "align_self": null,
            "height": null,
            "min_height": null,
            "padding": null,
            "grid_auto_rows": null,
            "grid_gap": null,
            "max_width": null,
            "order": null,
            "_view_module_version": "1.2.0",
            "grid_template_areas": null,
            "object_position": null,
            "object_fit": null,
            "grid_auto_columns": null,
            "margin": null,
            "display": null,
            "left": null
          }
        }
      }
    }
  },
  "cells": [
    {
      "cell_type": "markdown",
      "metadata": {
        "id": "view-in-github",
        "colab_type": "text"
      },
      "source": [
        "<a href=\"https://colab.research.google.com/github/Sauman9456/peoplegrove/blob/main/peoplegrove_project.ipynb\" target=\"_parent\"><img src=\"https://colab.research.google.com/assets/colab-badge.svg\" alt=\"Open In Colab\"/></a>"
      ]
    },
    {
      "cell_type": "code",
      "metadata": {
        "colab": {
          "base_uri": "https://localhost:8080/"
        },
        "id": "NSbx_kAjpsBG",
        "outputId": "a166f0a0-5206-476b-f54e-c5888b77a64f"
      },
      "source": [
        "!wget --no-check-certificate 'https://docs.google.com/uc?export=download&id=1b7ixRJv3OQ2bk_-rYOqBUYmT94DwyYIc' -O pg_recommendation_data.csv\n",
        "!wget --no-check-certificate 'https://docs.google.com/uc?export=download&id=1ZtZTaUGvPE7aLo28_SQJ1KqhjyrHd1e3' -O pg2.csv\n",
        "\n",
        "!pip install sentence_transformers"
      ],
      "execution_count": 149,
      "outputs": [
        {
          "output_type": "stream",
          "name": "stdout",
          "text": [
            "--2021-09-05 10:47:13--  https://docs.google.com/uc?export=download&id=1b7ixRJv3OQ2bk_-rYOqBUYmT94DwyYIc\n",
            "Resolving docs.google.com (docs.google.com)... 142.250.101.139, 142.250.101.138, 142.250.101.102, ...\n",
            "Connecting to docs.google.com (docs.google.com)|142.250.101.139|:443... connected.\n",
            "HTTP request sent, awaiting response... 302 Moved Temporarily\n",
            "Location: https://doc-0k-a0-docs.googleusercontent.com/docs/securesc/ha0ro937gcuc7l7deffksulhg5h7mbp1/3konstge7r52e2lump1qooeiosq2uch9/1630838775000/11293808022331717198/*/1b7ixRJv3OQ2bk_-rYOqBUYmT94DwyYIc?e=download [following]\n",
            "Warning: wildcards not supported in HTTP.\n",
            "--2021-09-05 10:47:15--  https://doc-0k-a0-docs.googleusercontent.com/docs/securesc/ha0ro937gcuc7l7deffksulhg5h7mbp1/3konstge7r52e2lump1qooeiosq2uch9/1630838775000/11293808022331717198/*/1b7ixRJv3OQ2bk_-rYOqBUYmT94DwyYIc?e=download\n",
            "Resolving doc-0k-a0-docs.googleusercontent.com (doc-0k-a0-docs.googleusercontent.com)... 142.251.2.132, 2607:f8b0:4023:c0d::84\n",
            "Connecting to doc-0k-a0-docs.googleusercontent.com (doc-0k-a0-docs.googleusercontent.com)|142.251.2.132|:443... connected.\n",
            "HTTP request sent, awaiting response... 200 OK\n",
            "Length: unspecified [text/csv]\n",
            "Saving to: ‘pg_recommendation_data.csv’\n",
            "\n",
            "pg_recommendation_d     [     <=>            ]  28.56M  27.5MB/s    in 1.0s    \n",
            "\n",
            "2021-09-05 10:47:17 (27.5 MB/s) - ‘pg_recommendation_data.csv’ saved [29947173]\n",
            "\n",
            "--2021-09-05 10:47:17--  https://docs.google.com/uc?export=download&id=1ZtZTaUGvPE7aLo28_SQJ1KqhjyrHd1e3\n",
            "Resolving docs.google.com (docs.google.com)... 142.250.141.100, 142.250.141.138, 142.250.141.139, ...\n",
            "Connecting to docs.google.com (docs.google.com)|142.250.141.100|:443... connected.\n",
            "HTTP request sent, awaiting response... 302 Moved Temporarily\n",
            "Location: https://doc-0k-b8-docs.googleusercontent.com/docs/securesc/ha0ro937gcuc7l7deffksulhg5h7mbp1/kd40il07ih7qvo9eg8gs1kvto1aio3g4/1630838775000/01596757284656355981/*/1ZtZTaUGvPE7aLo28_SQJ1KqhjyrHd1e3?e=download [following]\n",
            "Warning: wildcards not supported in HTTP.\n",
            "--2021-09-05 10:47:20--  https://doc-0k-b8-docs.googleusercontent.com/docs/securesc/ha0ro937gcuc7l7deffksulhg5h7mbp1/kd40il07ih7qvo9eg8gs1kvto1aio3g4/1630838775000/01596757284656355981/*/1ZtZTaUGvPE7aLo28_SQJ1KqhjyrHd1e3?e=download\n",
            "Resolving doc-0k-b8-docs.googleusercontent.com (doc-0k-b8-docs.googleusercontent.com)... 142.251.2.132, 2607:f8b0:4023:c0d::84\n",
            "Connecting to doc-0k-b8-docs.googleusercontent.com (doc-0k-b8-docs.googleusercontent.com)|142.251.2.132|:443... connected.\n",
            "HTTP request sent, awaiting response... 200 OK\n",
            "Length: unspecified [text/csv]\n",
            "Saving to: ‘pg2.csv’\n",
            "\n",
            "pg2.csv                 [     <=>            ]  27.20M  23.8MB/s    in 1.1s    \n",
            "\n",
            "2021-09-05 10:47:21 (23.8 MB/s) - ‘pg2.csv’ saved [28521578]\n",
            "\n",
            "Requirement already satisfied: sentence_transformers in /usr/local/lib/python3.7/dist-packages (2.0.0)\n",
            "Requirement already satisfied: huggingface-hub in /usr/local/lib/python3.7/dist-packages (from sentence_transformers) (0.0.16)\n",
            "Requirement already satisfied: tqdm in /usr/local/lib/python3.7/dist-packages (from sentence_transformers) (4.62.0)\n",
            "Requirement already satisfied: numpy in /usr/local/lib/python3.7/dist-packages (from sentence_transformers) (1.19.5)\n",
            "Requirement already satisfied: sentencepiece in /usr/local/lib/python3.7/dist-packages (from sentence_transformers) (0.1.96)\n",
            "Requirement already satisfied: scikit-learn in /usr/local/lib/python3.7/dist-packages (from sentence_transformers) (0.22.2.post1)\n",
            "Requirement already satisfied: torchvision in /usr/local/lib/python3.7/dist-packages (from sentence_transformers) (0.10.0+cu102)\n",
            "Requirement already satisfied: nltk in /usr/local/lib/python3.7/dist-packages (from sentence_transformers) (3.2.5)\n",
            "Requirement already satisfied: torch>=1.6.0 in /usr/local/lib/python3.7/dist-packages (from sentence_transformers) (1.9.0+cu102)\n",
            "Requirement already satisfied: transformers<5.0.0,>=4.6.0 in /usr/local/lib/python3.7/dist-packages (from sentence_transformers) (4.10.0)\n",
            "Requirement already satisfied: scipy in /usr/local/lib/python3.7/dist-packages (from sentence_transformers) (1.4.1)\n",
            "Requirement already satisfied: typing-extensions in /usr/local/lib/python3.7/dist-packages (from torch>=1.6.0->sentence_transformers) (3.7.4.3)\n",
            "Requirement already satisfied: filelock in /usr/local/lib/python3.7/dist-packages (from transformers<5.0.0,>=4.6.0->sentence_transformers) (3.0.12)\n",
            "Requirement already satisfied: packaging in /usr/local/lib/python3.7/dist-packages (from transformers<5.0.0,>=4.6.0->sentence_transformers) (21.0)\n",
            "Requirement already satisfied: regex!=2019.12.17 in /usr/local/lib/python3.7/dist-packages (from transformers<5.0.0,>=4.6.0->sentence_transformers) (2019.12.20)\n",
            "Requirement already satisfied: tokenizers<0.11,>=0.10.1 in /usr/local/lib/python3.7/dist-packages (from transformers<5.0.0,>=4.6.0->sentence_transformers) (0.10.3)\n",
            "Requirement already satisfied: importlib-metadata in /usr/local/lib/python3.7/dist-packages (from transformers<5.0.0,>=4.6.0->sentence_transformers) (4.6.4)\n",
            "Requirement already satisfied: sacremoses in /usr/local/lib/python3.7/dist-packages (from transformers<5.0.0,>=4.6.0->sentence_transformers) (0.0.45)\n",
            "Requirement already satisfied: requests in /usr/local/lib/python3.7/dist-packages (from transformers<5.0.0,>=4.6.0->sentence_transformers) (2.23.0)\n",
            "Requirement already satisfied: pyyaml>=5.1 in /usr/local/lib/python3.7/dist-packages (from transformers<5.0.0,>=4.6.0->sentence_transformers) (5.4.1)\n",
            "Requirement already satisfied: pyparsing>=2.0.2 in /usr/local/lib/python3.7/dist-packages (from packaging->transformers<5.0.0,>=4.6.0->sentence_transformers) (2.4.7)\n",
            "Requirement already satisfied: zipp>=0.5 in /usr/local/lib/python3.7/dist-packages (from importlib-metadata->transformers<5.0.0,>=4.6.0->sentence_transformers) (3.5.0)\n",
            "Requirement already satisfied: six in /usr/local/lib/python3.7/dist-packages (from nltk->sentence_transformers) (1.15.0)\n",
            "Requirement already satisfied: urllib3!=1.25.0,!=1.25.1,<1.26,>=1.21.1 in /usr/local/lib/python3.7/dist-packages (from requests->transformers<5.0.0,>=4.6.0->sentence_transformers) (1.24.3)\n",
            "Requirement already satisfied: chardet<4,>=3.0.2 in /usr/local/lib/python3.7/dist-packages (from requests->transformers<5.0.0,>=4.6.0->sentence_transformers) (3.0.4)\n",
            "Requirement already satisfied: idna<3,>=2.5 in /usr/local/lib/python3.7/dist-packages (from requests->transformers<5.0.0,>=4.6.0->sentence_transformers) (2.10)\n",
            "Requirement already satisfied: certifi>=2017.4.17 in /usr/local/lib/python3.7/dist-packages (from requests->transformers<5.0.0,>=4.6.0->sentence_transformers) (2021.5.30)\n",
            "Requirement already satisfied: click in /usr/local/lib/python3.7/dist-packages (from sacremoses->transformers<5.0.0,>=4.6.0->sentence_transformers) (7.1.2)\n",
            "Requirement already satisfied: joblib in /usr/local/lib/python3.7/dist-packages (from sacremoses->transformers<5.0.0,>=4.6.0->sentence_transformers) (1.0.1)\n",
            "Requirement already satisfied: pillow>=5.3.0 in /usr/local/lib/python3.7/dist-packages (from torchvision->sentence_transformers) (7.1.2)\n"
          ]
        }
      ]
    },
    {
      "cell_type": "code",
      "metadata": {
        "colab": {
          "base_uri": "https://localhost:8080/"
        },
        "id": "hVlfIGmQpvZz",
        "outputId": "230f8fd9-d6e2-4235-8d8f-ddd7ef3fdbb6"
      },
      "source": [
        "from collections import Counter\n",
        "from gensim.models.word2vec import Word2Vec\n",
        "from gensim.models import KeyedVectors\n",
        "from tqdm import tqdm\n",
        "import sys\n",
        "import numpy as np\n",
        "from collections import Counter\n",
        "import pandas as pd\n",
        "import numpy as np\n",
        "import seaborn as sns\n",
        "from sklearn.pipeline import Pipeline\n",
        "from sklearn.metrics import plot_confusion_matrix\n",
        "import matplotlib.pyplot as plt\n",
        "from sklearn.metrics import classification_report, accuracy_score\n",
        "from sklearn.model_selection import train_test_split,cross_val_score,KFold\n",
        "from sklearn.multioutput import MultiOutputClassifier\n",
        "from sklearn.linear_model import LogisticRegression\n",
        "from sklearn.neighbors import KNeighborsRegressor,KNeighborsClassifier\n",
        "from sklearn.ensemble import GradientBoostingRegressor,GradientBoostingClassifier\n",
        "from sklearn.tree import DecisionTreeClassifier, DecisionTreeRegressor\n",
        "from sklearn.ensemble import ExtraTreesClassifier, ExtraTreesRegressor\n",
        "from sklearn.ensemble import RandomForestClassifier, RandomForestRegressor\n",
        "from xgboost import XGBClassifier, XGBRegressor\n",
        "from lightgbm import LGBMRegressor,LGBMClassifier\n",
        "from sklearn.model_selection import KFold, cross_val_score, train_test_split\n",
        "\n",
        "from nltk.corpus import stopwords\n",
        "import nltk\n",
        "nltk.download('stopwords')\n",
        "stop = stopwords.words('english')\n",
        "\n",
        "from sentence_transformers import SentenceTransformer\n",
        "from sklearn.metrics.pairwise import cosine_similarity"
      ],
      "execution_count": 1,
      "outputs": [
        {
          "output_type": "stream",
          "name": "stdout",
          "text": [
            "[nltk_data] Downloading package stopwords to /root/nltk_data...\n",
            "[nltk_data]   Package stopwords is already up-to-date!\n"
          ]
        }
      ]
    },
    {
      "cell_type": "code",
      "metadata": {
        "colab": {
          "base_uri": "https://localhost:8080/"
        },
        "id": "GWiRlDA2p3KJ",
        "outputId": "301f2a45-bb0c-48c9-e23d-7e94e20a71c4"
      },
      "source": [
        ""
      ],
      "execution_count": 4,
      "outputs": [
        {
          "output_type": "stream",
          "name": "stdout",
          "text": [
            "[nltk_data] Downloading package stopwords to /root/nltk_data...\n",
            "[nltk_data]   Package stopwords is already up-to-date!\n"
          ]
        }
      ]
    },
    {
      "cell_type": "code",
      "metadata": {
        "id": "eyJtIp9boIpa"
      },
      "source": [
        "pg_recommendation_data = pd.read_csv(\"pg_recommendation_data.csv\")\n",
        "cols = ['mentee_major', 'mentee_help_topics', 'mentee_experitse','mentor_major', 'mentor_help_topics', 'mentor_experitse']"
      ],
      "execution_count": 42,
      "outputs": []
    },
    {
      "cell_type": "code",
      "metadata": {
        "colab": {
          "base_uri": "https://localhost:8080/",
          "height": 589
        },
        "id": "DlMoOtGcoptO",
        "outputId": "d8c16c9d-af6f-402d-fed9-36f06311cd57"
      },
      "source": [
        "df = pg_recommendation_data.copy()\n",
        "df = df.apply(lambda x: x.astype(str).str.lower())\n",
        "for i in cols:\n",
        "  df[i] =  df[i].apply(lambda x: x.replace('[','').replace(']',''))\n",
        "  df[i] = df[i].apply(lambda x: x.replace(\"'\", \"\"))\n",
        "  temp = i\n",
        "  exec(\"%s = %s\" % (temp,df[i].tolist()))\n",
        "df"
      ],
      "execution_count": 43,
      "outputs": [
        {
          "output_type": "execute_result",
          "data": {
            "text/html": [
              "<div>\n",
              "<style scoped>\n",
              "    .dataframe tbody tr th:only-of-type {\n",
              "        vertical-align: middle;\n",
              "    }\n",
              "\n",
              "    .dataframe tbody tr th {\n",
              "        vertical-align: top;\n",
              "    }\n",
              "\n",
              "    .dataframe thead th {\n",
              "        text-align: right;\n",
              "    }\n",
              "</style>\n",
              "<table border=\"1\" class=\"dataframe\">\n",
              "  <thead>\n",
              "    <tr style=\"text-align: right;\">\n",
              "      <th></th>\n",
              "      <th>mentee_major</th>\n",
              "      <th>mentee_help_topics</th>\n",
              "      <th>mentee_experitse</th>\n",
              "      <th>mentor_major</th>\n",
              "      <th>mentor_help_topics</th>\n",
              "      <th>mentor_experitse</th>\n",
              "      <th>final_match</th>\n",
              "    </tr>\n",
              "  </thead>\n",
              "  <tbody>\n",
              "    <tr>\n",
              "      <th>0</th>\n",
              "      <td>accounting and financial management</td>\n",
              "      <td>life skills, cover letter review, career plann...</td>\n",
              "      <td>accounting</td>\n",
              "      <td>accounting and financial management</td>\n",
              "      <td>parenting vs. career, career / industry trends</td>\n",
              "      <td>finance, accounting</td>\n",
              "      <td>1</td>\n",
              "    </tr>\n",
              "    <tr>\n",
              "      <th>1</th>\n",
              "      <td>information systems management</td>\n",
              "      <td>working overseas, life skills, startups, caree...</td>\n",
              "      <td>food &amp; restaurants, law, computer - it service...</td>\n",
              "      <td>information systems management, project manage...</td>\n",
              "      <td>leadership skills, working overseas, personal ...</td>\n",
              "      <td>trade (wholesale), government / public admin, ...</td>\n",
              "      <td>0</td>\n",
              "    </tr>\n",
              "    <tr>\n",
              "      <th>2</th>\n",
              "      <td>cybersecurity technology, computer networks an...</td>\n",
              "      <td>leadership skills, personal and professional d...</td>\n",
              "      <td>military &amp; defense, technology, computer - it ...</td>\n",
              "      <td>cybersecurity technology, computer networks an...</td>\n",
              "      <td>management, resume / cv review, career / indus...</td>\n",
              "      <td>government / public admin, computer - it servi...</td>\n",
              "      <td>1</td>\n",
              "    </tr>\n",
              "    <tr>\n",
              "      <th>3</th>\n",
              "      <td>masters of human resources management</td>\n",
              "      <td></td>\n",
              "      <td>human resources</td>\n",
              "      <td>business administration</td>\n",
              "      <td>leadership skills, life skills, interviewing t...</td>\n",
              "      <td>human resources, advertising / marketing, tele...</td>\n",
              "      <td>0</td>\n",
              "    </tr>\n",
              "    <tr>\n",
              "      <th>4</th>\n",
              "      <td>sociology</td>\n",
              "      <td>leadership skills, life skills, management, ca...</td>\n",
              "      <td>healthcare</td>\n",
              "      <td>business administration</td>\n",
              "      <td>leadership skills, working overseas, personal ...</td>\n",
              "      <td>human resources, computer - hardware, finance,...</td>\n",
              "      <td>0</td>\n",
              "    </tr>\n",
              "    <tr>\n",
              "      <th>...</th>\n",
              "      <td>...</td>\n",
              "      <td>...</td>\n",
              "      <td>...</td>\n",
              "      <td>...</td>\n",
              "      <td>...</td>\n",
              "      <td>...</td>\n",
              "      <td>...</td>\n",
              "    </tr>\n",
              "    <tr>\n",
              "      <th>48877</th>\n",
              "      <td>communications</td>\n",
              "      <td></td>\n",
              "      <td>government / public admin, business services, ...</td>\n",
              "      <td>business administration</td>\n",
              "      <td>leadership skills, life skills, management, wo...</td>\n",
              "      <td>sports &amp; recreation, education, entertainment,...</td>\n",
              "      <td>0</td>\n",
              "    </tr>\n",
              "    <tr>\n",
              "      <th>48878</th>\n",
              "      <td>business administrsation</td>\n",
              "      <td>interviewing tips, job search strategies, resu...</td>\n",
              "      <td>business services, consulting, transportation,...</td>\n",
              "      <td>finance</td>\n",
              "      <td></td>\n",
              "      <td>international affairs &amp; development</td>\n",
              "      <td>1</td>\n",
              "    </tr>\n",
              "    <tr>\n",
              "      <th>48879</th>\n",
              "      <td>high school, management studies, general studies</td>\n",
              "      <td>leadership skills, life skills, management, ca...</td>\n",
              "      <td>non-profit / philanthropy, government / public...</td>\n",
              "      <td>management studies</td>\n",
              "      <td></td>\n",
              "      <td></td>\n",
              "      <td>1</td>\n",
              "    </tr>\n",
              "    <tr>\n",
              "      <th>48880</th>\n",
              "      <td>environmental management</td>\n",
              "      <td>general networking, career change advice, netw...</td>\n",
              "      <td>environment, energy</td>\n",
              "      <td>environmental management</td>\n",
              "      <td>leadership skills, working overseas, life skil...</td>\n",
              "      <td>entertainment, energy, international affairs &amp;...</td>\n",
              "      <td>0</td>\n",
              "    </tr>\n",
              "    <tr>\n",
              "      <th>48881</th>\n",
              "      <td>human resource management</td>\n",
              "      <td></td>\n",
              "      <td>human resources</td>\n",
              "      <td>english, business administration</td>\n",
              "      <td></td>\n",
              "      <td>communications / media, aerospace and defense</td>\n",
              "      <td>0</td>\n",
              "    </tr>\n",
              "  </tbody>\n",
              "</table>\n",
              "<p>48882 rows × 7 columns</p>\n",
              "</div>"
            ],
            "text/plain": [
              "                                            mentee_major  ... final_match\n",
              "0                    accounting and financial management  ...           1\n",
              "1                         information systems management  ...           0\n",
              "2      cybersecurity technology, computer networks an...  ...           1\n",
              "3                  masters of human resources management  ...           0\n",
              "4                                              sociology  ...           0\n",
              "...                                                  ...  ...         ...\n",
              "48877                                     communications  ...           0\n",
              "48878                           business administrsation  ...           1\n",
              "48879   high school, management studies, general studies  ...           1\n",
              "48880                           environmental management  ...           0\n",
              "48881                          human resource management  ...           0\n",
              "\n",
              "[48882 rows x 7 columns]"
            ]
          },
          "metadata": {},
          "execution_count": 43
        }
      ]
    },
    {
      "cell_type": "markdown",
      "metadata": {
        "id": "WTQM_JN5o41n"
      },
      "source": [
        "# EDA"
      ]
    },
    {
      "cell_type": "code",
      "metadata": {
        "id": "Exn29uggiWV3"
      },
      "source": [
        "def without_hue(plot, feature):\n",
        "    total = len(feature)\n",
        "    for p in plot.patches:\n",
        "        percentage = '{:.1f}%'.format(100 * p.get_height()/total)\n",
        "        x = p.get_x() + p.get_width() / 2 - 0.05\n",
        "        y = p.get_y() + p.get_height()\n",
        "        ax.annotate(percentage, (x, y), size = 12)\n",
        "    plt.show()"
      ],
      "execution_count": 171,
      "outputs": []
    },
    {
      "cell_type": "code",
      "metadata": {
        "colab": {
          "base_uri": "https://localhost:8080/",
          "height": 339
        },
        "id": "wyZA8EhrhlIa",
        "outputId": "45315943-3716-412e-f4bb-872491598040"
      },
      "source": [
        "plt.figure(figsize=(7,5))\n",
        "ax = sns.countplot(data=df, x='final_match',)\n",
        "plt.xlabel('final_match', size = 12)\n",
        "plt.ylabel('Count', size = 12)\n",
        "\n",
        "without_hue(ax, df.final_match)"
      ],
      "execution_count": 172,
      "outputs": [
        {
          "output_type": "display_data",
          "data": {
            "image/png": "[encoded data removed]",
            "text/plain": [
              "<Figure size 504x360 with 1 Axes>"
            ]
          },
          "metadata": {}
        }
      ]
    },
    {
      "cell_type": "markdown",
      "metadata": {
        "id": "eKueKhjnlBKO"
      },
      "source": [
        "**Note: From the above graph we can see that, Given dataset is balanced. So we will use Accuracy as our evaluation matrix**"
      ]
    },
    {
      "cell_type": "code",
      "metadata": {
        "colab": {
          "base_uri": "https://localhost:8080/"
        },
        "id": "7tk9_TRho7SD",
        "outputId": "dc5a45f0-7375-4ad9-eebe-462240a53f50"
      },
      "source": [
        "mentee_skill_major = []\n",
        "mentor_skill_major = []\n",
        "for i in range(len(mentee_major)):\n",
        "  result = [x.strip() for x in mentee_major[i].split(',')]\n",
        "  mentee_skill_major.extend(result)\n",
        "\n",
        "for i in range(len(mentor_major)):\n",
        "  result = [x.strip() for x in mentor_major[i].split(',')]\n",
        "  mentor_skill_major.extend(result)\n",
        "\n",
        "mentee_skill_help_topics = []\n",
        "mentor_skill_help_topics = []\n",
        "for i in range(len(mentee_help_topics)):\n",
        "  result = [x.strip() for x in mentee_help_topics[i].split(',')]\n",
        "  mentee_skill_help_topics.extend(result)\n",
        "\n",
        "for i in range(len(mentor_help_topics)):\n",
        "  result = [x.strip() for x in mentor_help_topics[i].split(',')]\n",
        "  mentor_skill_help_topics.extend(result)\n",
        "\n",
        "mentee_skill_experitse = []\n",
        "mentor_skill_experitse = []\n",
        "for i in range(len(mentee_experitse)):\n",
        "  result = [x.strip() for x in mentee_experitse[i].split(',')]\n",
        "  mentee_skill_experitse.extend(result)\n",
        "\n",
        "for i in range(len(mentor_experitse)):\n",
        "  result = [x.strip() for x in mentor_experitse[i].split(',')]\n",
        "  mentor_skill_experitse.extend(result)\n",
        "\n",
        "mentee_skill_major_set = set(mentee_skill_major)\n",
        "mentor_skill_major_set = set(mentor_skill_major)\n",
        "\n",
        "mentee_skill_help_topics_set = set(mentee_skill_help_topics)\n",
        "mentor_skill_help_topics_set = set(mentor_skill_help_topics)\n",
        "\n",
        "mentee_skill_experitse_set = set(mentee_skill_experitse)\n",
        "mentor_skill_experitse_set = set(mentor_skill_experitse)\n",
        "\n",
        "mentee_skill_major_set = list(filter(None, mentee_skill_major_set))\n",
        "mentor_skill_major_set = list(filter(None, mentor_skill_major_set))\n",
        "mentee_skill_help_topics_set = list(filter(None, mentee_skill_help_topics_set))\n",
        "mentor_skill_help_topics_set = list(filter(None, mentor_skill_help_topics_set))\n",
        "mentee_skill_experitse_set = list(filter(None, mentee_skill_experitse_set))\n",
        "mentor_skill_experitse_set = list(filter(None, mentor_skill_experitse_set))\n",
        "\n",
        "print(\"mentee_skill_major:\", len(mentee_skill_major),\",  mentor_skill_major:\", len(mentor_skill_major), \",  mentee_skill_major_set:\", len(mentee_skill_major_set), \"  and  mentor_skill_major_set:\",len(mentor_skill_major_set))\n",
        "print(\"mentee_skill_help_topics:\", len(mentee_skill_help_topics),\",  mentor_skill_help_topics:\", len(mentor_skill_help_topics), \",  mentee_skill_help_topics_set:\", len(mentee_skill_help_topics_set), \"  and  mentor_skill_help_topics_set:\",len(mentor_skill_help_topics_set))\n",
        "print(\"mentee_skill_experitse:\", len(mentee_skill_experitse),\",  mentor_skill_experitse:\", len(mentor_skill_experitse), \",  mentee_skill_experitse_set:\", len(mentee_skill_experitse_set), \"  and  mentor_skill_experitse_set:\",len(mentor_skill_experitse_set))"
      ],
      "execution_count": 44,
      "outputs": [
        {
          "output_type": "stream",
          "name": "stdout",
          "text": [
            "mentee_skill_major: 76744 ,  mentor_skill_major: 95656 ,  mentee_skill_major_set: 3382   and  mentor_skill_major_set: 2570\n",
            "mentee_skill_help_topics: 160926 ,  mentor_skill_help_topics: 258027 ,  mentee_skill_help_topics_set: 25   and  mentor_skill_help_topics_set: 25\n",
            "mentee_skill_experitse: 201591 ,  mentor_skill_experitse: 529702 ,  mentee_skill_experitse_set: 60   and  mentor_skill_experitse_set: 60\n"
          ]
        }
      ]
    },
    {
      "cell_type": "code",
      "metadata": {
        "colab": {
          "base_uri": "https://localhost:8080/",
          "height": 550
        },
        "id": "2eQbOivYqTgE",
        "outputId": "c36c88d2-aa97-4d42-a652-24a0a0817767"
      },
      "source": [
        "sns.set(rc={'figure.figsize':(11.7,8.27)})\n",
        "sns.countplot(y = mentee_skill_major, order=pd.value_counts(mentee_skill_major).iloc[:20].index).set_title('Mentee_skill_major')"
      ],
      "execution_count": 45,
      "outputs": [
        {
          "output_type": "execute_result",
          "data": {
            "text/plain": [
              "Text(0.5, 1.0, 'Mentee_skill_major')"
            ]
          },
          "metadata": {},
          "execution_count": 45
        },
        {
          "output_type": "display_data",
          "data": {
            "image/png": "[encoded data removed]",
            "text/plain": [
              "<Figure size 842.4x595.44 with 1 Axes>"
            ]
          },
          "metadata": {}
        }
      ]
    },
    {
      "cell_type": "code",
      "metadata": {
        "colab": {
          "base_uri": "https://localhost:8080/",
          "height": 550
        },
        "id": "IG7QjNxzyVgq",
        "outputId": "08be13b6-e730-4aef-e603-502cdbb0bd05"
      },
      "source": [
        "sns.countplot(y = mentor_skill_major, order=pd.value_counts(mentor_skill_major).iloc[:20].index).set_title('Mentor_skill_major')"
      ],
      "execution_count": 46,
      "outputs": [
        {
          "output_type": "execute_result",
          "data": {
            "text/plain": [
              "Text(0.5, 1.0, 'Mentor_skill_major')"
            ]
          },
          "metadata": {},
          "execution_count": 46
        },
        {
          "output_type": "display_data",
          "data": {
            "image/png": "[encoded data removed]",
            "text/plain": [
              "<Figure size 842.4x595.44 with 1 Axes>"
            ]
          },
          "metadata": {}
        }
      ]
    },
    {
      "cell_type": "code",
      "metadata": {
        "colab": {
          "base_uri": "https://localhost:8080/",
          "height": 550
        },
        "id": "tZaOrjAPyW_C",
        "outputId": "1f377556-719e-49c7-dae1-900b13db8bd1"
      },
      "source": [
        "sns.countplot(y = mentee_skill_help_topics, order=pd.value_counts(mentee_skill_help_topics).iloc[:20].index).set_title('Mentee_skill_help_topics')"
      ],
      "execution_count": 47,
      "outputs": [
        {
          "output_type": "execute_result",
          "data": {
            "text/plain": [
              "Text(0.5, 1.0, 'Mentee_skill_help_topics')"
            ]
          },
          "metadata": {},
          "execution_count": 47
        },
        {
          "output_type": "display_data",
          "data": {
            "image/png": "[encoded data removed]",
            "text/plain": [
              "<Figure size 842.4x595.44 with 1 Axes>"
            ]
          },
          "metadata": {}
        }
      ]
    },
    {
      "cell_type": "code",
      "metadata": {
        "colab": {
          "base_uri": "https://localhost:8080/",
          "height": 550
        },
        "id": "HKZJeQIHyXsq",
        "outputId": "394a6849-df42-4bff-de99-890584fa9a47"
      },
      "source": [
        "sns.countplot(y = mentor_skill_help_topics, order=pd.value_counts(mentor_skill_help_topics).iloc[:20].index).set_title('Mentor_skill_help_topics')"
      ],
      "execution_count": 48,
      "outputs": [
        {
          "output_type": "execute_result",
          "data": {
            "text/plain": [
              "Text(0.5, 1.0, 'Mentor_skill_help_topics')"
            ]
          },
          "metadata": {},
          "execution_count": 48
        },
        {
          "output_type": "display_data",
          "data": {
            "image/png": "[encoded data removed]",
            "text/plain": [
              "<Figure size 842.4x595.44 with 1 Axes>"
            ]
          },
          "metadata": {}
        }
      ]
    },
    {
      "cell_type": "code",
      "metadata": {
        "colab": {
          "base_uri": "https://localhost:8080/",
          "height": 550
        },
        "id": "UdSnayP4yYPz",
        "outputId": "546a9a61-b17c-429b-f6bd-ff4ed89d804f"
      },
      "source": [
        "sns.countplot(y = mentee_skill_experitse, order=pd.value_counts(mentee_skill_experitse).iloc[:20].index).set_title('Mentee_skill_experitse')"
      ],
      "execution_count": 49,
      "outputs": [
        {
          "output_type": "execute_result",
          "data": {
            "text/plain": [
              "Text(0.5, 1.0, 'Mentee_skill_experitse')"
            ]
          },
          "metadata": {},
          "execution_count": 49
        },
        {
          "output_type": "display_data",
          "data": {
            "image/png": "[encoded data removed]",
            "text/plain": [
              "<Figure size 842.4x595.44 with 1 Axes>"
            ]
          },
          "metadata": {}
        }
      ]
    },
    {
      "cell_type": "code",
      "metadata": {
        "colab": {
          "base_uri": "https://localhost:8080/",
          "height": 550
        },
        "id": "dkBL6ihDyY4b",
        "outputId": "316a90ed-c189-4a93-944f-bad223ba8484"
      },
      "source": [
        "sns.countplot(y = mentor_skill_experitse, order=pd.value_counts(mentor_skill_experitse).iloc[:20].index).set_title('Mentor_skill_experitse')"
      ],
      "execution_count": 50,
      "outputs": [
        {
          "output_type": "execute_result",
          "data": {
            "text/plain": [
              "Text(0.5, 1.0, 'Mentor_skill_experitse')"
            ]
          },
          "metadata": {},
          "execution_count": 50
        },
        {
          "output_type": "display_data",
          "data": {
            "image/png": "[encoded data removed]",
            "text/plain": [
              "<Figure size 842.4x595.44 with 1 Axes>"
            ]
          },
          "metadata": {}
        }
      ]
    },
    {
      "cell_type": "markdown",
      "metadata": {
        "id": "8AyT88PtzlqL"
      },
      "source": [
        "# Method_1: Using Word Mover’s Distance"
      ]
    },
    {
      "cell_type": "markdown",
      "metadata": {
        "id": "fZ_vk8sI1Ses"
      },
      "source": [
        "## Pre_processing: Removing Stop words, Square brackets, single quotes, Converting into lowercase"
      ]
    },
    {
      "cell_type": "code",
      "metadata": {
        "colab": {
          "base_uri": "https://localhost:8080/",
          "height": 589
        },
        "id": "gkUg4y_a2bwI",
        "outputId": "3212a4e5-56a8-4f69-b0d8-c9a429cd3017"
      },
      "source": [
        "df = pg_recommendation_data.copy()\n",
        "df = df.apply(lambda x: x.astype(str).str.lower())\n",
        "for i in cols:\n",
        "  df[i] = df[i].apply(lambda x: ' '.join([word for word in x.split() if word not in (stop)]))\n",
        "  df[i] =  df[i].apply(lambda x: x.replace('[','').replace(']',''))\n",
        "  df[i] = df[i].apply(lambda x: x.replace(\"'\", \"\"))\n",
        "  temp = i\n",
        "  exec(\"%s = %s\" % (temp,df[i].tolist()))\n",
        "df"
      ],
      "execution_count": 51,
      "outputs": [
        {
          "output_type": "execute_result",
          "data": {
            "text/html": [
              "<div>\n",
              "<style scoped>\n",
              "    .dataframe tbody tr th:only-of-type {\n",
              "        vertical-align: middle;\n",
              "    }\n",
              "\n",
              "    .dataframe tbody tr th {\n",
              "        vertical-align: top;\n",
              "    }\n",
              "\n",
              "    .dataframe thead th {\n",
              "        text-align: right;\n",
              "    }\n",
              "</style>\n",
              "<table border=\"1\" class=\"dataframe\">\n",
              "  <thead>\n",
              "    <tr style=\"text-align: right;\">\n",
              "      <th></th>\n",
              "      <th>mentee_major</th>\n",
              "      <th>mentee_help_topics</th>\n",
              "      <th>mentee_experitse</th>\n",
              "      <th>mentor_major</th>\n",
              "      <th>mentor_help_topics</th>\n",
              "      <th>mentor_experitse</th>\n",
              "      <th>final_match</th>\n",
              "    </tr>\n",
              "  </thead>\n",
              "  <tbody>\n",
              "    <tr>\n",
              "      <th>0</th>\n",
              "      <td>accounting financial management</td>\n",
              "      <td>life skills, cover letter review, career plann...</td>\n",
              "      <td>accounting</td>\n",
              "      <td>accounting financial management</td>\n",
              "      <td>parenting vs. career, career / industry trends</td>\n",
              "      <td>finance, accounting</td>\n",
              "      <td>1</td>\n",
              "    </tr>\n",
              "    <tr>\n",
              "      <th>1</th>\n",
              "      <td>information systems management</td>\n",
              "      <td>working overseas, life skills, startups, caree...</td>\n",
              "      <td>food &amp; restaurants, law, computer - services, ...</td>\n",
              "      <td>information systems management, project manage...</td>\n",
              "      <td>leadership skills, working overseas, personal ...</td>\n",
              "      <td>trade (wholesale), government / public admin, ...</td>\n",
              "      <td>0</td>\n",
              "    </tr>\n",
              "    <tr>\n",
              "      <th>2</th>\n",
              "      <td>cybersecurity technology, computer networks cy...</td>\n",
              "      <td>leadership skills, personal professional devel...</td>\n",
              "      <td>military &amp; defense, technology, computer - ser...</td>\n",
              "      <td>cybersecurity technology, computer networks cy...</td>\n",
              "      <td>management, resume / cv review, career / indus...</td>\n",
              "      <td>government / public admin, computer - services...</td>\n",
              "      <td>1</td>\n",
              "    </tr>\n",
              "    <tr>\n",
              "      <th>3</th>\n",
              "      <td>masters human resources management</td>\n",
              "      <td></td>\n",
              "      <td>human resources</td>\n",
              "      <td>business administration</td>\n",
              "      <td>leadership skills, life skills, interviewing t...</td>\n",
              "      <td>human resources, advertising / marketing, tele...</td>\n",
              "      <td>0</td>\n",
              "    </tr>\n",
              "    <tr>\n",
              "      <th>4</th>\n",
              "      <td>sociology</td>\n",
              "      <td>leadership skills, life skills, management, ca...</td>\n",
              "      <td>healthcare</td>\n",
              "      <td>business administration</td>\n",
              "      <td>leadership skills, working overseas, personal ...</td>\n",
              "      <td>human resources, computer - hardware, finance,...</td>\n",
              "      <td>0</td>\n",
              "    </tr>\n",
              "    <tr>\n",
              "      <th>...</th>\n",
              "      <td>...</td>\n",
              "      <td>...</td>\n",
              "      <td>...</td>\n",
              "      <td>...</td>\n",
              "      <td>...</td>\n",
              "      <td>...</td>\n",
              "      <td>...</td>\n",
              "    </tr>\n",
              "    <tr>\n",
              "      <th>48877</th>\n",
              "      <td>communications</td>\n",
              "      <td></td>\n",
              "      <td>government / public admin, business services, ...</td>\n",
              "      <td>business administration</td>\n",
              "      <td>leadership skills, life skills, management, wo...</td>\n",
              "      <td>sports &amp; recreation, education, entertainment,...</td>\n",
              "      <td>0</td>\n",
              "    </tr>\n",
              "    <tr>\n",
              "      <th>48878</th>\n",
              "      <td>business administrsation</td>\n",
              "      <td>interviewing tips, job search strategies, resu...</td>\n",
              "      <td>business services, consulting, transportation,...</td>\n",
              "      <td>finance</td>\n",
              "      <td></td>\n",
              "      <td>international affairs &amp; development</td>\n",
              "      <td>1</td>\n",
              "    </tr>\n",
              "    <tr>\n",
              "      <th>48879</th>\n",
              "      <td>high school, management studies, general studies</td>\n",
              "      <td>leadership skills, life skills, management, ca...</td>\n",
              "      <td>non-profit / philanthropy, government / public...</td>\n",
              "      <td>management studies</td>\n",
              "      <td></td>\n",
              "      <td></td>\n",
              "      <td>1</td>\n",
              "    </tr>\n",
              "    <tr>\n",
              "      <th>48880</th>\n",
              "      <td>environmental management</td>\n",
              "      <td>general networking, career change advice, netw...</td>\n",
              "      <td>environment, energy</td>\n",
              "      <td>environmental management</td>\n",
              "      <td>leadership skills, working overseas, life skil...</td>\n",
              "      <td>entertainment, energy, international affairs &amp;...</td>\n",
              "      <td>0</td>\n",
              "    </tr>\n",
              "    <tr>\n",
              "      <th>48881</th>\n",
              "      <td>human resource management</td>\n",
              "      <td></td>\n",
              "      <td>human resources</td>\n",
              "      <td>english, business administration</td>\n",
              "      <td></td>\n",
              "      <td>communications / media, aerospace defense</td>\n",
              "      <td>0</td>\n",
              "    </tr>\n",
              "  </tbody>\n",
              "</table>\n",
              "<p>48882 rows × 7 columns</p>\n",
              "</div>"
            ],
            "text/plain": [
              "                                            mentee_major  ... final_match\n",
              "0                        accounting financial management  ...           1\n",
              "1                         information systems management  ...           0\n",
              "2      cybersecurity technology, computer networks cy...  ...           1\n",
              "3                     masters human resources management  ...           0\n",
              "4                                              sociology  ...           0\n",
              "...                                                  ...  ...         ...\n",
              "48877                                     communications  ...           0\n",
              "48878                           business administrsation  ...           1\n",
              "48879   high school, management studies, general studies  ...           1\n",
              "48880                           environmental management  ...           0\n",
              "48881                          human resource management  ...           0\n",
              "\n",
              "[48882 rows x 7 columns]"
            ]
          },
          "metadata": {},
          "execution_count": 51
        }
      ]
    },
    {
      "cell_type": "markdown",
      "metadata": {
        "id": "2eL8jfQc0AUx"
      },
      "source": [
        "## Creating Vocabulary from given dataset and adding it to Word2vec models"
      ]
    },
    {
      "cell_type": "code",
      "metadata": {
        "colab": {
          "base_uri": "https://localhost:8080/"
        },
        "id": "L6L7OkwP0I9J",
        "outputId": "4197e976-05b3-4e94-93f6-65ec1c4219f4"
      },
      "source": [
        "skill_major = []\n",
        "for i in range(len(mentee_major)):\n",
        "  result = [x.strip() for x in mentee_major[i].split(' ')]\n",
        "  skill_major.append(result)\n",
        "\n",
        "for i in range(len(mentor_major)):\n",
        "  result = [x.strip() for x in mentor_major[i].split(' ')]\n",
        "  skill_major.append(result)\n",
        "\n",
        "skill_help_topics = []\n",
        "\n",
        "for i in range(len(mentee_help_topics)):\n",
        "  result = [x.strip() for x in mentee_help_topics[i].split(' ')]\n",
        "  skill_help_topics.append(result)\n",
        "\n",
        "for i in range(len(mentor_help_topics)):\n",
        "  result = [x.strip() for x in mentor_help_topics[i].split(' ')]\n",
        "  skill_help_topics.append(result)\n",
        "\n",
        "skill_experitse = []\n",
        "\n",
        "for i in range(len(mentee_experitse)):\n",
        "  result = [x.strip() for x in mentee_experitse[i].split(' ')]\n",
        "  skill_experitse.append(result)\n",
        "\n",
        "for i in range(len(mentor_experitse)):\n",
        "  result = [x.strip() for x in mentor_experitse[i].split(' ')]\n",
        "  skill_experitse.append(result)\n",
        "\n",
        "#skill_set_major = set(skill_major)\n",
        "\n",
        "#skill_set_help_topics = set(skill_help_topics)\n",
        "\n",
        "#skill_set_experitse = set(skill_experitse)\n",
        "\n",
        "print(\"skill_major:\", len(skill_major),\"  and  skill_set_major:\",len(skill_set_major))\n",
        "print(\"skill_help_topics:\", len(skill_help_topics),\"  and  skill_set_help_topics:\",len(skill_set_help_topics))\n",
        "print(\"skill_experitse:\", len(skill_experitse),\"  and  skill_set_experitse:\",len(skill_set_experitse))"
      ],
      "execution_count": 52,
      "outputs": [
        {
          "output_type": "stream",
          "name": "stdout",
          "text": [
            "skill_major: 97764   and  skill_set_major: 5533\n",
            "skill_help_topics: 97764   and  skill_set_help_topics: 25\n",
            "skill_experitse: 97764   and  skill_set_experitse: 60\n"
          ]
        }
      ]
    },
    {
      "cell_type": "code",
      "metadata": {
        "id": "KrlFZ-de1Gha"
      },
      "source": [
        "model_major = Word2Vec(skill_major)\n",
        "model_help_topics = Word2Vec(skill_help_topics)\n",
        "model_experitse = Word2Vec(skill_experitse)"
      ],
      "execution_count": 53,
      "outputs": []
    },
    {
      "cell_type": "markdown",
      "metadata": {
        "id": "Jh2KUYrH05FD"
      },
      "source": [
        "## Feature Engineering: Getting the similarity Score between mentee & mentor\n",
        "Converting 'mentee_major', 'mentee_help_topics', 'mentee_experitse',   'mentor_major', 'mentor_help_topics', 'mentor_experitse'\n",
        "\n",
        "Into their similarity score using Using Word Mover’s Distance "
      ]
    },
    {
      "cell_type": "code",
      "metadata": {
        "colab": {
          "base_uri": "https://localhost:8080/"
        },
        "id": "KtWz-ZaM3Thy",
        "outputId": "8467e198-3c08-4dd6-bb7c-cdceec9c454f"
      },
      "source": [
        "major = []\n",
        "help_topics = []\n",
        "experitse = []\n",
        "entity_major = df['mentee_major'].astype(str)\n",
        "target_major = df['mentor_major'].astype(str)\n",
        "entity_help_topics = df['mentee_help_topics'].astype(str)\n",
        "target_help_topics = df['mentor_help_topics'].astype(str)\n",
        "entity_experitse = df['mentee_experitse'].astype(str)\n",
        "target_experitse = df['mentor_experitse'].astype(str)\n",
        "\n",
        "for i,j,k,l,m,n in tqdm(zip(entity_major,target_major, entity_help_topics, target_help_topics, entity_experitse, target_experitse)):\n",
        "    t = []\n",
        "    result = [x.strip() for x in i.split(' ')]\n",
        "    t.extend(result)\n",
        "    pt = []\n",
        "    result = [x.strip() for x in j.split(' ')]\n",
        "    pt.extend(result)\n",
        "    wmd_distance = model_major.wv.wmdistance(t, pt)\n",
        "    major.append(wmd_distance)\n",
        "\n",
        "    t = []\n",
        "    result = [x.strip() for x in k.split(' ')]\n",
        "    t.extend(result)\n",
        "    pt = []\n",
        "    result = [x.strip() for x in l.split(' ')]\n",
        "    pt.extend(result)\n",
        "    wmd_distance = model_help_topics.wv.wmdistance(t, pt)\n",
        "    help_topics.append(wmd_distance)\n",
        "\n",
        "    t = []\n",
        "    result = [x.strip() for x in m.split(' ')]\n",
        "    t.extend(result)\n",
        "    pt = []\n",
        "    result = [x.strip() for x in n.split(' ')]\n",
        "    pt.extend(result)\n",
        "    wmd_distance = model_experitse.wv.wmdistance(t, pt)\n",
        "    experitse.append(wmd_distance)"
      ],
      "execution_count": 55,
      "outputs": [
        {
          "output_type": "stream",
          "name": "stderr",
          "text": [
            "48882it [05:11, 157.01it/s]\n"
          ]
        }
      ]
    },
    {
      "cell_type": "code",
      "metadata": {
        "id": "2o0af5foz-3a"
      },
      "source": [
        "df['major'] = major\n",
        "df['help_topics'] = help_topics\n",
        "df['experitse'] = experitse"
      ],
      "execution_count": 56,
      "outputs": []
    },
    {
      "cell_type": "markdown",
      "metadata": {
        "id": "jdrMlSTX5jiD"
      },
      "source": [
        "## Handling the Infinity values"
      ]
    },
    {
      "cell_type": "code",
      "metadata": {
        "colab": {
          "base_uri": "https://localhost:8080/"
        },
        "id": "5_kJ5pig5Zw1",
        "outputId": "8d6e8085-4eb6-4cee-e375-a896ae20586e"
      },
      "source": [
        "c = np.isinf(df['major']).values.sum()\n",
        "print(\"major contains \" + str(c) + \" infinite values\")\n",
        "\n",
        "c = np.isinf(df['help_topics']).values.sum()\n",
        "print(\"help_topics contains \" + str(c) + \" infinite values\")\n",
        "\n",
        "c = np.isinf(df['experitse']).values.sum()\n",
        "print(\"experitse contains \" + str(c) + \" infinite values\")"
      ],
      "execution_count": 57,
      "outputs": [
        {
          "output_type": "stream",
          "name": "stdout",
          "text": [
            "major contains 205 infinite values\n",
            "help_topics contains 0 infinite values\n",
            "experitse contains 0 infinite values\n"
          ]
        }
      ]
    },
    {
      "cell_type": "code",
      "metadata": {
        "id": "wWWvKxrZ5zMS"
      },
      "source": [
        "df['major'] = df['major'].replace(-np.inf, 20)\n",
        "df['major'] = df['major'].replace(np.inf, 20)"
      ],
      "execution_count": 58,
      "outputs": []
    },
    {
      "cell_type": "code",
      "metadata": {
        "id": "Cy_aKv_x58Ut"
      },
      "source": [
        "df.to_csv(\"pg.csv\", index= False)"
      ],
      "execution_count": 59,
      "outputs": []
    },
    {
      "cell_type": "markdown",
      "metadata": {
        "id": "eXLj3vJk3qOO"
      },
      "source": [
        "## Multicollinearity check"
      ]
    },
    {
      "cell_type": "code",
      "metadata": {
        "id": "m4I2w1QA6eoP"
      },
      "source": [
        "df_x = df.copy()\n",
        "df_x['final_match'] = df_x['final_match'].astype(int)"
      ],
      "execution_count": 62,
      "outputs": []
    },
    {
      "cell_type": "code",
      "metadata": {
        "colab": {
          "base_uri": "https://localhost:8080/",
          "height": 505
        },
        "id": "1Lgm_wwA3cs8",
        "outputId": "80d648e4-4090-46a3-83b8-7d3609d84037"
      },
      "source": [
        "dataplot = sns.heatmap(df_x[['major', 'help_topics', 'experitse','final_match']].corr(method = \"spearman\"), cmap=\"YlGnBu\", annot=True)\n",
        "plt.show()"
      ],
      "execution_count": 68,
      "outputs": [
        {
          "output_type": "display_data",
          "data": {
            "image/png": "[encoded data removed]",
            "text/plain": [
              "<Figure size 842.4x595.44 with 2 Axes>"
            ]
          },
          "metadata": {}
        }
      ]
    },
    {
      "cell_type": "markdown",
      "metadata": {
        "id": "f96wSkgq7WSj"
      },
      "source": [
        "## Model selection via cross validation"
      ]
    },
    {
      "cell_type": "code",
      "metadata": {
        "colab": {
          "base_uri": "https://localhost:8080/"
        },
        "id": "R4V_Rkf87VyG",
        "outputId": "1957cd0e-917e-4599-dc90-ae92e5b6b802"
      },
      "source": [
        "X = df[['major', 'help_topics', 'experitse']]\n",
        "y = df['final_match']\n",
        "\n",
        "import warnings\n",
        "warnings.filterwarnings('ignore')\n",
        "pipelines = []\n",
        "pipelines.append(('LR', Pipeline([('LR', LogisticRegression())])))\n",
        "pipelines.append(('RF', Pipeline([('RF', RandomForestClassifier())])))\n",
        "pipelines.append(('EXT', Pipeline([('EXT', ExtraTreesClassifier())])))\n",
        "pipelines.append(('ScaledGBM', Pipeline([('GBM', GradientBoostingClassifier())])))\n",
        "pipelines.append(('XGB', Pipeline([('XGB', XGBClassifier(n_estimators = 2000))])))\n",
        "pipelines.append(('LGBM', Pipeline([('LGBM', LGBMClassifier(n_estimators= 1000))])))\n",
        "\n",
        "results = []\n",
        "names = []\n",
        "for name, model in pipelines:\n",
        "    kfold = KFold(n_splits=10)\n",
        "    cv_results = cross_val_score(model, X, y, cv=kfold, scoring='accuracy')\n",
        "    results.append(cv_results)\n",
        "    names.append(name)\n",
        "    msg = \"%s: %f\" % (name, cv_results.mean())\n",
        "    print(msg)\n",
        "    print(cv_results)\n",
        "    print(\"\")"
      ],
      "execution_count": 69,
      "outputs": [
        {
          "output_type": "stream",
          "name": "stdout",
          "text": [
            "LR: 0.590463\n",
            "[0.5784414  0.59521375 0.58776596 0.59451718 0.5861293  0.59860884\n",
            " 0.59001637 0.60106383 0.59288052 0.57999182]\n",
            "\n",
            "RF: 0.639111\n",
            "[0.62814481 0.64205359 0.63625205 0.64218494 0.64566285 0.63522913\n",
            " 0.6438216  0.63522913 0.64607201 0.63645663]\n",
            "\n",
            "EXT: 0.630601\n",
            "[0.61812232 0.62896298 0.63195581 0.63502455 0.63359247 0.62090835\n",
            " 0.63297872 0.6297054  0.63972995 0.63502455]\n",
            "\n",
            "ScaledGBM: 0.639622\n",
            "[0.63121293 0.64389446 0.6344108  0.64300327 0.6391162  0.63870704\n",
            " 0.64668576 0.6438216  0.64075286 0.63461538]\n",
            "\n",
            "XGB: 0.667731\n",
            "[0.6651667  0.66741665 0.66530278 0.66878069 0.67041735 0.6685761\n",
            " 0.6710311  0.66796236 0.67225859 0.6603928 ]\n",
            "\n",
            "LGBM: 0.647682\n",
            "[0.64716711 0.65616691 0.65036825 0.6497545  0.63952537 0.63891162\n",
            " 0.65425532 0.64279869 0.65732406 0.64054828]\n",
            "\n"
          ]
        }
      ]
    },
    {
      "cell_type": "markdown",
      "metadata": {
        "id": "yM6O7JFy7uvi"
      },
      "source": [
        "# Method 2: Using pre_trained models(Hugging Face)"
      ]
    },
    {
      "cell_type": "markdown",
      "metadata": {
        "id": "7hfvOtFG8HDw"
      },
      "source": [
        "## Pre_processing: Removing Stop words, Square brackets, single quotes, Converting into lowercase"
      ]
    },
    {
      "cell_type": "code",
      "metadata": {
        "colab": {
          "base_uri": "https://localhost:8080/",
          "height": 589
        },
        "id": "0mgPZ8Zk7ppx",
        "outputId": "5d4212bd-5d00-4fa1-fb2a-725a6766c666"
      },
      "source": [
        "df2 = pg_recommendation_data.copy()\n",
        "df2 = df2.apply(lambda x: x.astype(str).str.lower())\n",
        "for i in cols:\n",
        "  df2[i] = df2[i].apply(lambda x: ' '.join([word for word in x.split() if word not in (stop)]))\n",
        "  df2[i] =  df2[i].apply(lambda x: x.replace('[','').replace(']',''))\n",
        "  df2[i] = df2[i].apply(lambda x: x.replace(\"'\", \"\"))\n",
        "  temp = i\n",
        "  exec(\"%s = %s\" % (temp,df2[i].tolist()))\n",
        "df2"
      ],
      "execution_count": 70,
      "outputs": [
        {
          "output_type": "execute_result",
          "data": {
            "text/html": [
              "<div>\n",
              "<style scoped>\n",
              "    .dataframe tbody tr th:only-of-type {\n",
              "        vertical-align: middle;\n",
              "    }\n",
              "\n",
              "    .dataframe tbody tr th {\n",
              "        vertical-align: top;\n",
              "    }\n",
              "\n",
              "    .dataframe thead th {\n",
              "        text-align: right;\n",
              "    }\n",
              "</style>\n",
              "<table border=\"1\" class=\"dataframe\">\n",
              "  <thead>\n",
              "    <tr style=\"text-align: right;\">\n",
              "      <th></th>\n",
              "      <th>mentee_major</th>\n",
              "      <th>mentee_help_topics</th>\n",
              "      <th>mentee_experitse</th>\n",
              "      <th>mentor_major</th>\n",
              "      <th>mentor_help_topics</th>\n",
              "      <th>mentor_experitse</th>\n",
              "      <th>final_match</th>\n",
              "    </tr>\n",
              "  </thead>\n",
              "  <tbody>\n",
              "    <tr>\n",
              "      <th>0</th>\n",
              "      <td>accounting financial management</td>\n",
              "      <td>life skills, cover letter review, career plann...</td>\n",
              "      <td>accounting</td>\n",
              "      <td>accounting financial management</td>\n",
              "      <td>parenting vs. career, career / industry trends</td>\n",
              "      <td>finance, accounting</td>\n",
              "      <td>1</td>\n",
              "    </tr>\n",
              "    <tr>\n",
              "      <th>1</th>\n",
              "      <td>information systems management</td>\n",
              "      <td>working overseas, life skills, startups, caree...</td>\n",
              "      <td>food &amp; restaurants, law, computer - services, ...</td>\n",
              "      <td>information systems management, project manage...</td>\n",
              "      <td>leadership skills, working overseas, personal ...</td>\n",
              "      <td>trade (wholesale), government / public admin, ...</td>\n",
              "      <td>0</td>\n",
              "    </tr>\n",
              "    <tr>\n",
              "      <th>2</th>\n",
              "      <td>cybersecurity technology, computer networks cy...</td>\n",
              "      <td>leadership skills, personal professional devel...</td>\n",
              "      <td>military &amp; defense, technology, computer - ser...</td>\n",
              "      <td>cybersecurity technology, computer networks cy...</td>\n",
              "      <td>management, resume / cv review, career / indus...</td>\n",
              "      <td>government / public admin, computer - services...</td>\n",
              "      <td>1</td>\n",
              "    </tr>\n",
              "    <tr>\n",
              "      <th>3</th>\n",
              "      <td>masters human resources management</td>\n",
              "      <td></td>\n",
              "      <td>human resources</td>\n",
              "      <td>business administration</td>\n",
              "      <td>leadership skills, life skills, interviewing t...</td>\n",
              "      <td>human resources, advertising / marketing, tele...</td>\n",
              "      <td>0</td>\n",
              "    </tr>\n",
              "    <tr>\n",
              "      <th>4</th>\n",
              "      <td>sociology</td>\n",
              "      <td>leadership skills, life skills, management, ca...</td>\n",
              "      <td>healthcare</td>\n",
              "      <td>business administration</td>\n",
              "      <td>leadership skills, working overseas, personal ...</td>\n",
              "      <td>human resources, computer - hardware, finance,...</td>\n",
              "      <td>0</td>\n",
              "    </tr>\n",
              "    <tr>\n",
              "      <th>...</th>\n",
              "      <td>...</td>\n",
              "      <td>...</td>\n",
              "      <td>...</td>\n",
              "      <td>...</td>\n",
              "      <td>...</td>\n",
              "      <td>...</td>\n",
              "      <td>...</td>\n",
              "    </tr>\n",
              "    <tr>\n",
              "      <th>48877</th>\n",
              "      <td>communications</td>\n",
              "      <td></td>\n",
              "      <td>government / public admin, business services, ...</td>\n",
              "      <td>business administration</td>\n",
              "      <td>leadership skills, life skills, management, wo...</td>\n",
              "      <td>sports &amp; recreation, education, entertainment,...</td>\n",
              "      <td>0</td>\n",
              "    </tr>\n",
              "    <tr>\n",
              "      <th>48878</th>\n",
              "      <td>business administrsation</td>\n",
              "      <td>interviewing tips, job search strategies, resu...</td>\n",
              "      <td>business services, consulting, transportation,...</td>\n",
              "      <td>finance</td>\n",
              "      <td></td>\n",
              "      <td>international affairs &amp; development</td>\n",
              "      <td>1</td>\n",
              "    </tr>\n",
              "    <tr>\n",
              "      <th>48879</th>\n",
              "      <td>high school, management studies, general studies</td>\n",
              "      <td>leadership skills, life skills, management, ca...</td>\n",
              "      <td>non-profit / philanthropy, government / public...</td>\n",
              "      <td>management studies</td>\n",
              "      <td></td>\n",
              "      <td></td>\n",
              "      <td>1</td>\n",
              "    </tr>\n",
              "    <tr>\n",
              "      <th>48880</th>\n",
              "      <td>environmental management</td>\n",
              "      <td>general networking, career change advice, netw...</td>\n",
              "      <td>environment, energy</td>\n",
              "      <td>environmental management</td>\n",
              "      <td>leadership skills, working overseas, life skil...</td>\n",
              "      <td>entertainment, energy, international affairs &amp;...</td>\n",
              "      <td>0</td>\n",
              "    </tr>\n",
              "    <tr>\n",
              "      <th>48881</th>\n",
              "      <td>human resource management</td>\n",
              "      <td></td>\n",
              "      <td>human resources</td>\n",
              "      <td>english, business administration</td>\n",
              "      <td></td>\n",
              "      <td>communications / media, aerospace defense</td>\n",
              "      <td>0</td>\n",
              "    </tr>\n",
              "  </tbody>\n",
              "</table>\n",
              "<p>48882 rows × 7 columns</p>\n",
              "</div>"
            ],
            "text/plain": [
              "                                            mentee_major  ... final_match\n",
              "0                        accounting financial management  ...           1\n",
              "1                         information systems management  ...           0\n",
              "2      cybersecurity technology, computer networks cy...  ...           1\n",
              "3                     masters human resources management  ...           0\n",
              "4                                              sociology  ...           0\n",
              "...                                                  ...  ...         ...\n",
              "48877                                     communications  ...           0\n",
              "48878                           business administrsation  ...           1\n",
              "48879   high school, management studies, general studies  ...           1\n",
              "48880                           environmental management  ...           0\n",
              "48881                          human resource management  ...           0\n",
              "\n",
              "[48882 rows x 7 columns]"
            ]
          },
          "metadata": {},
          "execution_count": 70
        }
      ]
    },
    {
      "cell_type": "markdown",
      "metadata": {
        "id": "L56ZCMIh8c5I"
      },
      "source": [
        "## Loading the pre_trained model"
      ]
    },
    {
      "cell_type": "code",
      "metadata": {
        "colab": {
          "base_uri": "https://localhost:8080/",
          "height": 465,
          "referenced_widgets": [
            "320d1600f36e4e51af6057470ecc34ec",
            "154e269bbb6a4e9c83c1847e005d61db",
            "e2eadec88c5f490497892bcb4a5c851f",
            "e08577e460044e178b3f4c6e6f57a92d",
            "b5b002338624491aaeca4feb9c3c1de2",
            "ab2dcf75807b466da84fdad6f7bc9c25",
            "85443db927784c65b74154de0909e63c",
            "9acf62d0c7a547c99a7023e44f34b2f1",
            "0352448caf104d419b99266e521eddee",
            "66755fb1f0c141179771f2da91a2c726",
            "82c1535b36e64599ad179d284f4140a8",
            "4705216c94f7427bae86d857af3be887",
            "279e97f3749b4e9eb243539fc5caa8e4",
            "d72b73c528ec410586c77f95b8a0f39d",
            "489a191fd3954656b8327b7379d226dd",
            "81b2be84f5c844a6a6982bcb4bdc43ad",
            "9bd11c1b9fdc41d2bc2e6bb30bc36c0e",
            "a09392452bfa420ba94444171279310c",
            "c6f3b19412b7444db593ff91756bf77d",
            "8bab481f6006421f9e2d83a48ebe5b23",
            "ef83f4df37884797b062af174f71c596",
            "72fb3842d6594dae9ce425fff0122cb9",
            "f26cd28f5ec34b12babe67a9b7cbec5f",
            "3e8179b19a7e4bf48c221de4730387ad",
            "9c380a8548af497fba57b930f14cd9ea",
            "3664f552145d4d7c8a50e66b8a0c64f8",
            "7b1435e3d6dd4627ae3289dc76a1182f",
            "405af813a01049da8a71932cc99e7343",
            "fbdf0b77f6e04eee8af5e66056ed4de1",
            "95098a0d777b4f45883227e733bbc08e",
            "3c582382a0874d9ba51ca2dd3c8a77df",
            "5a7e0194cf0d4cb8a4fd2d30c80f235c",
            "f14939a1c3a1471c90be945d251e6937",
            "47c72b0933b543f9925c105b37afcf66",
            "73cda005f65148a8bfff77a52d7d783c",
            "5519c7f4d0df40c29c86bb954fe1993d",
            "049418be50e54262b3a902e35ad1ae49",
            "3026dad996404c5a90e184cc052f5219",
            "5a34e7b405c649c2a58777e1cb819efb",
            "0ac703a808604275926383e6f3e71833",
            "606b0dacce3a4236bcaef10069b26a9d",
            "3bd45bb55f4147a9923daba14340be61",
            "6b171283d4594d409e494d4cf4a3125e",
            "dbc69d012d494e1b83ad39c6c59cd5b2",
            "67772d4253d243379ba026ad857b9211",
            "c97c97b7eddb47bfada1819695256ba0",
            "dd2a7582190747a5bab7b828e83cb432",
            "f749ef79e15b4c62b5a1f67989ddc593",
            "2bed06ebb27448ab972f52610bed53de",
            "9c28116c43484f80b779451c0f7f5b12",
            "edd22b21ee6147789137d99781dac0aa",
            "18d1a951c59e4dc2833f406af980bb84",
            "be3df6c495bd4ac29159c44c391e30db",
            "d19ac0717d2744b5b9f614c4379b93ad",
            "6c2523e817e143a7bea43559f9aa0d59",
            "356597ba1ad94d74add5e7165ba852ae",
            "e52f50d824fe41b98d21c2d55621dca5",
            "9122fe3d85fb42eb9d51beb78043ae48",
            "66b197904ef94d6ca70a9bbd881b3737",
            "a413c6789e2b45379e14f0e039b7c006",
            "1b665ba195c541ed8032c0f3f2aebf23",
            "1679071277464c1b9f6fedcdb0010a5a",
            "b58a308aa4034194a2d734917addc52d",
            "0078603fe5c144278268aae6f22faee5",
            "7500267f8ca64f5a9af306ff45a59a02",
            "1257798fd95f4fe584e70fcbd7254854",
            "2dd815d958314ea8be333c710bb774fa",
            "284a4751c83e442f9221a5d85d461a20",
            "670ae021bc8e44adb95dd2b205a52a35",
            "d0d6ee98f1d84ac0ad7e22adafcab2c8",
            "c005837a097940659ed1e38ebb1e678f",
            "8c781e354c014c9789541a97b4d42e75",
            "d3f0479e0fe94b62b9db5cc8dc381fe3",
            "6fa046d95a024ae8a9692979d7ff6dcb",
            "c2d6f1114db648bc806b145483837202",
            "1597c485877d49e38d691c2bb5366bab",
            "ac86036c509844d7bae9fa1fd818408b",
            "b4ecb29b661e4cc1a1d6c0a1bfa8ca47",
            "bf2c303ac7044e0184d574d53cd3d887",
            "f1fb112e93a8457290a465830e25da4b",
            "3fe97474347945a094ef88f7842b298d",
            "ab76755eb08f4a9abcd8a5a18b0afb9b",
            "7c19f1d153df47a1b20f63e5df8a9fa7",
            "067bb27346ab45509a26610685e5c8a9",
            "1ede06914a8a49b3a4ebbb2b6793418f",
            "9d7b022c83544bb3bbbb715cf371c524",
            "d7cfefd9192c4f0cb5fb0dddcb65bf2c",
            "287b2bff594e410887345861888d3e99",
            "3b239a555453445b9c3c3d37b4339fbb",
            "146e39e73820477eb0785d6efc81dd10",
            "aafec6ae959d4d829784dbb3b310beb7",
            "8e4cd3b0237246bf9d52f6f60e25a2d0",
            "2092552561404a3e87dd0bc2d0bb8873",
            "8068805599ef4a5c9b5a7e6e25036a13",
            "34b874820ef645ccb187b2a3caef7245",
            "59c60946d52043a2be20ce132bc809c8",
            "42701c4686444e61a4888176bde37170",
            "692236174b444a1e929f22927700b98c",
            "6e0365c5a8e74ddb98c032de2e2869cf",
            "22c2d8ff532a494eaed64b499bed6989",
            "138f2c15799a4f5b98f3f935043b71d0",
            "0f25b93995784b85a285bacfe9a8825f",
            "0a1fdbd5e11a4ff2a59ccff4ffc3630a",
            "dab49e57644d4c89b29d28ca94fddd35",
            "40536b43ea7a47459b26d756e8af1a0c",
            "05b9e2d80bd24a3c8b7ba029bd6540b0",
            "8d89644e56f04c1ab995580482286dbe",
            "641dfe1e94244ccc9a8727a2d9f51766",
            "e13a08d395194510aeb90c12d335ead6",
            "18e3ab5427a540588ddfd3ad39bcf5fe",
            "94cfc603f821411d82e2b4c6ca6e0b6f",
            "d63e6b63b2834d23ad22d93bae737bfa",
            "648bcdda70764bda9b93aa759a75f4ef",
            "c89ddbed4cd04cdf8fe4f48245d59455",
            "5229cf2e42ff4bb9a01f11758465c422",
            "439627c9d15b40789f7ad2c04c06cc67",
            "0fbf7e097c174b4ba1b0a24e83376297",
            "06b295db427e42be99a53620ac3011e9",
            "368edb8d29234e63b76215270b79628c",
            "3ba15143c02848a590e7dbb493bb972f",
            "272189148d5e4d5a81faf9c4bbf497ce",
            "e98a126af6664993ab25fa19407b3c7b",
            "6a2f5e30aa9142adbea8792d82426b41",
            "66a4b7f7ffda443685a025020b743d82",
            "0fee6b5e87a04b0f850fb69f5299a857",
            "d9783016351d44f4a9723da471cde633",
            "a08d48f75a054d638e83852036383ec8",
            "3bed923c5ecf4d23b502fe23b19f2484",
            "d0604cc4539d43cca6250bb44ebe5bef",
            "35d08e42eb1e4db79942d932e4fa33c4",
            "4a1c7d7882d24fd49178f23f222dcf29",
            "272995405967455a96f7efbab2f2bb1d",
            "7a51513606cf4bc4a94943f4a00d9ca0",
            "4a608eb34a614076a36ae7d25958f069",
            "f69cabb9e0aa41f4890341bf5bbae9f0",
            "89579befc2764660b051625f4f2849b7",
            "54457de61403443f9f79f34ba06c9776",
            "99a722af04f9482f82c13cd18fbc38c1",
            "bf3b97e741c445b79aadab7c923bbf1a",
            "298c89168dd24d33ae07204149af1f0b",
            "dddcf91d356c43d58e1e20b321e4467e",
            "e31c5ed74de245529f6a2ae2f0f50b75",
            "232a3d613ba44f54955315825d661bcd",
            "a609fbb14c4143cb84bc64b9b8a3bd56",
            "3913417221354f6e9af08f9493351af9",
            "fba1eb031ea34dd596d939453625b181",
            "5f66f1b23ebf4f3a9eddac18bcd2a316",
            "94c5a0b8074e43868e1677a1be985254",
            "1047a37989c946c58d9a18dd3cbfc46d",
            "b48e4aa2966a43c0aa4683c016023e66",
            "c594bdc6824a41eea6ffb71b647a7108",
            "b19072bd9c76473e82731befe6828162",
            "2373f2d43c584c7899ec9f192c855282",
            "6be39adef52f41ed967ae8b90314ab64"
          ]
        },
        "id": "-zkAATxC8E7m",
        "outputId": "fbc54c26-36b7-493e-cbfd-1309a68d49d5"
      },
      "source": [
        "sbert_model = SentenceTransformer('all-mpnet-base-v2', device='cuda')"
      ],
      "execution_count": 71,
      "outputs": [
        {
          "output_type": "display_data",
          "data": {
            "application/vnd.jupyter.widget-view+json": {
              "model_id": "320d1600f36e4e51af6057470ecc34ec",
              "version_minor": 0,
              "version_major": 2
            },
            "text/plain": [
              "Downloading:   0%|          | 0.00/1.18k [00:00<?, ?B/s]"
            ]
          },
          "metadata": {}
        },
        {
          "output_type": "display_data",
          "data": {
            "application/vnd.jupyter.widget-view+json": {
              "model_id": "4705216c94f7427bae86d857af3be887",
              "version_minor": 0,
              "version_major": 2
            },
            "text/plain": [
              "Downloading:   0%|          | 0.00/10.1k [00:00<?, ?B/s]"
            ]
          },
          "metadata": {}
        },
        {
          "output_type": "display_data",
          "data": {
            "application/vnd.jupyter.widget-view+json": {
              "model_id": "f26cd28f5ec34b12babe67a9b7cbec5f",
              "version_minor": 0,
              "version_major": 2
            },
            "text/plain": [
              "Downloading:   0%|          | 0.00/571 [00:00<?, ?B/s]"
            ]
          },
          "metadata": {}
        },
        {
          "output_type": "display_data",
          "data": {
            "application/vnd.jupyter.widget-view+json": {
              "model_id": "47c72b0933b543f9925c105b37afcf66",
              "version_minor": 0,
              "version_major": 2
            },
            "text/plain": [
              "Downloading:   0%|          | 0.00/116 [00:00<?, ?B/s]"
            ]
          },
          "metadata": {}
        },
        {
          "output_type": "display_data",
          "data": {
            "application/vnd.jupyter.widget-view+json": {
              "model_id": "67772d4253d243379ba026ad857b9211",
              "version_minor": 0,
              "version_major": 2
            },
            "text/plain": [
              "Downloading:   0%|          | 0.00/39.3k [00:00<?, ?B/s]"
            ]
          },
          "metadata": {}
        },
        {
          "output_type": "display_data",
          "data": {
            "application/vnd.jupyter.widget-view+json": {
              "model_id": "356597ba1ad94d74add5e7165ba852ae",
              "version_minor": 0,
              "version_major": 2
            },
            "text/plain": [
              "Downloading:   0%|          | 0.00/349 [00:00<?, ?B/s]"
            ]
          },
          "metadata": {}
        },
        {
          "output_type": "display_data",
          "data": {
            "application/vnd.jupyter.widget-view+json": {
              "model_id": "2dd815d958314ea8be333c710bb774fa",
              "version_minor": 0,
              "version_major": 2
            },
            "text/plain": [
              "Downloading:   0%|          | 0.00/438M [00:00<?, ?B/s]"
            ]
          },
          "metadata": {}
        },
        {
          "output_type": "display_data",
          "data": {
            "application/vnd.jupyter.widget-view+json": {
              "model_id": "b4ecb29b661e4cc1a1d6c0a1bfa8ca47",
              "version_minor": 0,
              "version_major": 2
            },
            "text/plain": [
              "Downloading:   0%|          | 0.00/53.0 [00:00<?, ?B/s]"
            ]
          },
          "metadata": {}
        },
        {
          "output_type": "display_data",
          "data": {
            "application/vnd.jupyter.widget-view+json": {
              "model_id": "3b239a555453445b9c3c3d37b4339fbb",
              "version_minor": 0,
              "version_major": 2
            },
            "text/plain": [
              "Downloading:   0%|          | 0.00/239 [00:00<?, ?B/s]"
            ]
          },
          "metadata": {}
        },
        {
          "output_type": "display_data",
          "data": {
            "application/vnd.jupyter.widget-view+json": {
              "model_id": "22c2d8ff532a494eaed64b499bed6989",
              "version_minor": 0,
              "version_major": 2
            },
            "text/plain": [
              "Downloading:   0%|          | 0.00/466k [00:00<?, ?B/s]"
            ]
          },
          "metadata": {}
        },
        {
          "output_type": "display_data",
          "data": {
            "application/vnd.jupyter.widget-view+json": {
              "model_id": "94cfc603f821411d82e2b4c6ca6e0b6f",
              "version_minor": 0,
              "version_major": 2
            },
            "text/plain": [
              "Downloading:   0%|          | 0.00/363 [00:00<?, ?B/s]"
            ]
          },
          "metadata": {}
        },
        {
          "output_type": "display_data",
          "data": {
            "application/vnd.jupyter.widget-view+json": {
              "model_id": "e98a126af6664993ab25fa19407b3c7b",
              "version_minor": 0,
              "version_major": 2
            },
            "text/plain": [
              "Downloading:   0%|          | 0.00/13.1k [00:00<?, ?B/s]"
            ]
          },
          "metadata": {}
        },
        {
          "output_type": "display_data",
          "data": {
            "application/vnd.jupyter.widget-view+json": {
              "model_id": "7a51513606cf4bc4a94943f4a00d9ca0",
              "version_minor": 0,
              "version_major": 2
            },
            "text/plain": [
              "Downloading:   0%|          | 0.00/232k [00:00<?, ?B/s]"
            ]
          },
          "metadata": {}
        },
        {
          "output_type": "display_data",
          "data": {
            "application/vnd.jupyter.widget-view+json": {
              "model_id": "a609fbb14c4143cb84bc64b9b8a3bd56",
              "version_minor": 0,
              "version_major": 2
            },
            "text/plain": [
              "Downloading:   0%|          | 0.00/190 [00:00<?, ?B/s]"
            ]
          },
          "metadata": {}
        }
      ]
    },
    {
      "cell_type": "markdown",
      "metadata": {
        "id": "1K6UDQko8q-L"
      },
      "source": [
        "## Feature Engineering: Embedding & Cosine similarity\n",
        "Converting 'mentee_major', 'mentee_help_topics', 'mentee_experitse', 'mentor_major', 'mentor_help_topics', 'mentor_experitse'\n",
        "\n",
        "Into their similarity score using Cosine similarity\n",
        "\n",
        "**Note: With gpu this step will take 1-2 hours and without gpu this will take 13-16 hours. I have already added the processed file with name \"pg2.csv\" you can load that file and avoid this step.**"
      ]
    },
    {
      "cell_type": "code",
      "metadata": {
        "id": "0u_ZTp9C8jMP"
      },
      "source": [
        "major2 = []\n",
        "help_topics2 = []\n",
        "experitse2 = []\n",
        "entity_major = df2['mentee_major'].astype(str)\n",
        "target_major = df2['mentor_major'].astype(str)\n",
        "entity_help_topics = df2['mentee_help_topics'].astype(str)\n",
        "target_help_topics = df2['mentor_help_topics'].astype(str)\n",
        "entity_experitse = df2['mentee_experitse'].astype(str)\n",
        "target_experitse = df2['mentor_experitse'].astype(str)\n"
      ],
      "execution_count": 72,
      "outputs": []
    },
    {
      "cell_type": "code",
      "metadata": {
        "colab": {
          "base_uri": "https://localhost:8080/"
        },
        "id": "2rY_yeiB9YnT",
        "outputId": "3ad8cf3f-e3cf-4b9e-fff3-20387d1516dc"
      },
      "source": [
        "for i,j,k,l,m,n in tqdm(zip(entity_major,target_major, entity_help_topics, target_help_topics, entity_experitse, target_experitse)):\n",
        "    t = []\n",
        "    result = [x.strip() for x in i.split(',')]\n",
        "    t.extend(result)\n",
        "    pt = []\n",
        "    result = [x.strip() for x in j.split(',')]\n",
        "    pt.extend(result)\n",
        "    t = sbert_model.encode(t)\n",
        "    pt = sbert_model.encode(pt)\n",
        "    wmd_distance = cosine_similarity(t,pt)\n",
        "    dist = []\n",
        "    for o in wmd_distance:\n",
        "      dist.append(max(o))\n",
        "    wmd_distance = np.mean(dist)\n",
        "    #print(wmd_distance)\n",
        "    major2.append(wmd_distance)\n",
        "\n",
        "    t = []\n",
        "    result = [x.strip() for x in k.split(',')]\n",
        "    t.extend(result)\n",
        "    pt = []\n",
        "    result = [x.strip() for x in l.split(',')]\n",
        "    pt.extend(result)\n",
        "    t = sbert_model.encode(t)\n",
        "    pt = sbert_model.encode(pt)\n",
        "    wmd_distance = cosine_similarity(t,pt)\n",
        "    dist = []\n",
        "    for o in wmd_distance:\n",
        "      dist.append(max(o))\n",
        "    wmd_distance = np.mean(dist)\n",
        "    #print(wmd_distance)\n",
        "    help_topics2.append(wmd_distance)\n",
        "\n",
        "    t = []\n",
        "    result = [x.strip() for x in m.split(',')]\n",
        "    t.extend(result)\n",
        "    pt = []\n",
        "    result = [x.strip() for x in n.split(',')]\n",
        "    pt.extend(result)\n",
        "    t = sbert_model.encode(t)\n",
        "    pt = sbert_model.encode(pt)\n",
        "    wmd_distance = cosine_similarity(t,pt)\n",
        "    dist = []\n",
        "    for o in wmd_distance:\n",
        "      dist.append(max(o))\n",
        "    wmd_distance = np.mean(dist)\n",
        "    #print(wmd_distance)\n",
        "    experitse2.append(wmd_distance)\n"
      ],
      "execution_count": 73,
      "outputs": [
        {
          "output_type": "stream",
          "name": "stderr",
          "text": [
            "48882it [1:03:09, 12.90it/s]\n"
          ]
        }
      ]
    },
    {
      "cell_type": "code",
      "metadata": {
        "id": "lHYyxy-eHjN4"
      },
      "source": [
        ""
      ],
      "execution_count": null,
      "outputs": []
    },
    {
      "cell_type": "code",
      "metadata": {
        "id": "255L0ljb-WRf"
      },
      "source": [
        "df2['major2'] = major2\n",
        "df2['help_topics2'] = help_topics2\n",
        "df2['experitse2'] = experitse2"
      ],
      "execution_count": 74,
      "outputs": []
    },
    {
      "cell_type": "markdown",
      "metadata": {
        "id": "urfd2NL1-TcW"
      },
      "source": [
        "## Handling the Infinity values"
      ]
    },
    {
      "cell_type": "code",
      "metadata": {
        "colab": {
          "base_uri": "https://localhost:8080/"
        },
        "id": "QDlxJxTx-xX8",
        "outputId": "0e43da64-0e3f-4bca-d4f2-742d4136078f"
      },
      "source": [
        "c = np.isinf(df2['major2']).values.sum()\n",
        "print(\"major contains \" + str(c) + \" infinite values\")\n",
        "\n",
        "c = np.isinf(df2['help_topics2']).values.sum()\n",
        "print(\"help_topics contains \" + str(c) + \" infinite values\")\n",
        "\n",
        "c = np.isinf(df2['experitse2']).values.sum()\n",
        "print(\"experitse contains \" + str(c) + \" infinite values\")"
      ],
      "execution_count": 75,
      "outputs": [
        {
          "output_type": "stream",
          "name": "stdout",
          "text": [
            "major contains 0 infinite values\n",
            "help_topics contains 0 infinite values\n",
            "experitse contains 0 infinite values\n"
          ]
        }
      ]
    },
    {
      "cell_type": "code",
      "metadata": {
        "id": "gQob0jAA-lNt"
      },
      "source": [
        "df2.to_csv(\"pg2.csv\", index = False)"
      ],
      "execution_count": 76,
      "outputs": []
    },
    {
      "cell_type": "markdown",
      "metadata": {
        "id": "RjIR5Bpz-1zq"
      },
      "source": [
        "## Multicollinearity check"
      ]
    },
    {
      "cell_type": "code",
      "metadata": {
        "colab": {
          "base_uri": "https://localhost:8080/",
          "height": 505
        },
        "id": "CTuZwUzW-5Xm",
        "outputId": "9cf32876-d4de-4c85-8ed6-e7694ff708af"
      },
      "source": [
        "df_x = df2.copy()\n",
        "df_x['final_match'] = df_x['final_match'].astype(int)\n",
        "dataplot = sns.heatmap(df_x[['major2', 'help_topics2', 'experitse2','final_match']].corr(method = \"spearman\"), cmap=\"YlGnBu\", annot=True)\n",
        "plt.show()"
      ],
      "execution_count": 77,
      "outputs": [
        {
          "output_type": "display_data",
          "data": {
            "image/png": "[encoded data removed]",
            "text/plain": [
              "<Figure size 842.4x595.44 with 2 Axes>"
            ]
          },
          "metadata": {}
        }
      ]
    },
    {
      "cell_type": "markdown",
      "metadata": {
        "id": "YwFpkhNN_Y23"
      },
      "source": [
        "## Model selection via cross validation"
      ]
    },
    {
      "cell_type": "code",
      "metadata": {
        "id": "aX4lZiBINY0Y"
      },
      "source": [
        "df3 = df2.copy()\n",
        "df3 = pd.read_csv(\"pg2.csv\")"
      ],
      "execution_count": 4,
      "outputs": []
    },
    {
      "cell_type": "code",
      "metadata": {
        "id": "86iBMdaP_aZh"
      },
      "source": [
        "X = df3[['major2', 'help_topics2', 'experitse2']]\n",
        "y = df3['final_match']"
      ],
      "execution_count": 5,
      "outputs": []
    },
    {
      "cell_type": "code",
      "metadata": {
        "colab": {
          "base_uri": "https://localhost:8080/"
        },
        "id": "xuDMN-gc_gtw",
        "outputId": "2ea69617-8f78-49e3-aacc-fc5ec9e1b64a"
      },
      "source": [
        "import warnings\n",
        "warnings.filterwarnings('ignore')\n",
        "pipelines = []\n",
        "pipelines.append(('LR', Pipeline([('LR', LogisticRegression())])))\n",
        "pipelines.append(('RF', Pipeline([('RF', RandomForestClassifier())])))\n",
        "pipelines.append(('EXT', Pipeline([('EXT', ExtraTreesClassifier())])))\n",
        "pipelines.append(('ScaledGBM', Pipeline([('GBM', GradientBoostingClassifier())])))\n",
        "pipelines.append(('XGB', Pipeline([('XGB', XGBClassifier(n_estimators = 100, tree_method = \"gpu_hist\"))])))\n",
        "pipelines.append(('LGBM', Pipeline([('LGBM', LGBMClassifier(n_estimators=100, tree_method = \"gpu_hist\"))])))\n",
        "\n",
        "results = []\n",
        "names = []\n",
        "for name, model in pipelines:\n",
        "    kfold = KFold(n_splits=10)\n",
        "    cv_results = cross_val_score(model, X, y, cv=kfold, scoring='accuracy')\n",
        "    results.append(cv_results)\n",
        "    names.append(name)\n",
        "    msg = \"%s: %f\" % (name, cv_results.mean())\n",
        "    print(msg)\n",
        "    print(cv_results)\n",
        "    print(\"\")"
      ],
      "execution_count": 85,
      "outputs": [
        {
          "output_type": "stream",
          "name": "stdout",
          "text": [
            "LR: 0.580582\n",
            "[0.58314584 0.58314584 0.58265139 0.5814239  0.57324059 0.58653846\n",
            " 0.57774141 0.58510638 0.5801964  0.57262684]\n",
            "\n",
            "RF: 0.694693\n",
            "[0.69727961 0.69462058 0.69251227 0.69496727 0.69558101 0.70090016\n",
            " 0.69394435 0.68412439 0.70417349 0.68882979]\n",
            "\n",
            "EXT: 0.675668\n",
            "[0.68337083 0.67498466 0.65814239 0.67655483 0.67982815 0.68126023\n",
            " 0.67246318 0.67021277 0.67982815 0.68003273]\n",
            "\n",
            "ScaledGBM: 0.683339\n",
            "[0.68152997 0.68500716 0.68207856 0.68576105 0.68207856 0.68698854\n",
            " 0.68473813 0.67287234 0.69169394 0.68064648]\n",
            "\n",
            "XGB: 0.687615\n",
            "[0.68684803 0.69052976 0.67900982 0.69230769 0.68678396 0.69271686\n",
            " 0.69517185 0.67880524 0.69333061 0.68064648]\n",
            "\n",
            "LGBM: 0.701751\n",
            "[0.70096134 0.70607486 0.70192308 0.70417349 0.69946809 0.7064239\n",
            " 0.70887889 0.68698854 0.70417349 0.69844517]\n",
            "\n"
          ]
        }
      ]
    },
    {
      "cell_type": "markdown",
      "metadata": {
        "id": "XjvgFEn_6BDj"
      },
      "source": [
        "**Note: Method 2 gives better performance. So we will use this method for Hyperparameter Tuning**"
      ]
    },
    {
      "cell_type": "markdown",
      "metadata": {
        "id": "Y6E4tyNHL2Lr"
      },
      "source": [
        "## Hyperparameter Tuning"
      ]
    },
    {
      "cell_type": "markdown",
      "metadata": {
        "id": "KlIZ9DERYTM5"
      },
      "source": [
        "### n_estimators"
      ]
    },
    {
      "cell_type": "code",
      "metadata": {
        "colab": {
          "base_uri": "https://localhost:8080/"
        },
        "id": "otK0EvbUNPso",
        "outputId": "888e8a9a-e971-4609-ec0a-6179c55c86fd"
      },
      "source": [
        "X_train, X_test, y_train, y_test = train_test_split(X, y, test_size=0.20, random_state=50)\n",
        "Model = XGBClassifier(n_estimators = 100, tree_method = \"gpu_hist\")\n",
        "Model.fit(X_train, y_train)\n",
        "y_pred = Model.predict(X_test)\n",
        "score = accuracy_score(y_test,y_pred)\n",
        "print(\"XGB: \",score)\n",
        "\n",
        "X_train, X_test, y_train, y_test = train_test_split(X, y, test_size=0.20, random_state=50)\n",
        "Model = LGBMClassifier(n_estimators = 100, tree_method = \"gpu_hist\")\n",
        "Model.fit(X_train, y_train)\n",
        "y_pred = Model.predict(X_test)\n",
        "score = accuracy_score(y_test,y_pred)\n",
        "print(\"LGBMClassifier: \",score)\n",
        "\n",
        "X_train, X_test, y_train, y_test = train_test_split(X, y, test_size=0.20, random_state=50)\n",
        "Model = RandomForestClassifier(n_estimators = 100)\n",
        "Model.fit(X_train, y_train)\n",
        "y_pred = Model.predict(X_test)\n",
        "score = accuracy_score(y_test,y_pred)\n",
        "print(\"RandomForestClassifier: \",score)"
      ],
      "execution_count": 113,
      "outputs": [
        {
          "output_type": "stream",
          "name": "stdout",
          "text": [
            "XGB:  0.7020558453513348\n",
            "LGBMClassifier:  0.7145341106678941\n",
            "RandomForestClassifier:  0.7057379564283522\n"
          ]
        }
      ]
    },
    {
      "cell_type": "code",
      "metadata": {
        "id": "ZyqJD9E_Ooq5"
      },
      "source": [
        "X_train, X_test, y_train, y_test = train_test_split(X, y, test_size=0.20, random_state=50)\n",
        "accuracy_LGBM = []\n",
        "Model = LGBMClassifier(warm_start = True, tree_method = \"gpu_hist\")\n",
        "for i in [*range(1,300,1)]:\n",
        "  Model.n_estimators = i\n",
        "  Model.fit(X_train,y_train)\n",
        "  y_pred = Model.predict(X_test)\n",
        "  accuracy = accuracy_score(y_test,y_pred)\n",
        "  accuracy_LGBM.append(accuracy)"
      ],
      "execution_count": null,
      "outputs": []
    },
    {
      "cell_type": "code",
      "metadata": {
        "colab": {
          "base_uri": "https://localhost:8080/",
          "height": 534
        },
        "id": "Ebmnid2pRBQ0",
        "outputId": "680ebbe0-92cd-4d5e-ea20-58324ee6a579"
      },
      "source": [
        "p = [*range(1,300,1)]\n",
        "plt.plot(p, accuracy_LGBM)\n",
        "plt.xlabel(\"n_estimators\")\n",
        "plt.ylabel(\"Accuracy\")"
      ],
      "execution_count": 95,
      "outputs": [
        {
          "output_type": "execute_result",
          "data": {
            "text/plain": [
              "Text(0, 0.5, 'Accuracy')"
            ]
          },
          "metadata": {},
          "execution_count": 95
        },
        {
          "output_type": "display_data",
          "data": {
            "image/png": "[encoded data removed]",
            "text/plain": [
              "<Figure size 842.4x595.44 with 1 Axes>"
            ]
          },
          "metadata": {}
        }
      ]
    },
    {
      "cell_type": "code",
      "metadata": {
        "colab": {
          "base_uri": "https://localhost:8080/"
        },
        "id": "6zMFzyScQd3_",
        "outputId": "ccac5d51-2d77-403b-cf8d-adc35145435a"
      },
      "source": [
        "X_train, X_test, y_train, y_test = train_test_split(X, y, test_size=0.20, random_state=50)\n",
        "Model = LGBMClassifier(n_estimators = 135, tree_method = \"gpu_hist\")\n",
        "Model.fit(X_train, y_train)\n",
        "y_pred = Model.predict(X_test)\n",
        "score = accuracy_score(y_test,y_pred)\n",
        "print(\"LGBMClassifier: \",score)"
      ],
      "execution_count": 108,
      "outputs": [
        {
          "output_type": "stream",
          "name": "stdout",
          "text": [
            "LGBMClassifier:  0.7176025365654086\n"
          ]
        }
      ]
    },
    {
      "cell_type": "code",
      "metadata": {
        "id": "POkriA2OQwOD"
      },
      "source": [
        "X_train, X_test, y_train, y_test = train_test_split(X, y, test_size=0.20, random_state=50)\n",
        "accuracy_RF = []\n",
        "Model = RandomForestClassifier(warm_start = True,)\n",
        "for i in [*range(1,300,1)]:\n",
        "  Model.n_estimators = i\n",
        "  Model.fit(X_train,y_train)\n",
        "  y_pred = Model.predict(X_test)\n",
        "  accuracy = accuracy_score(y_test,y_pred)\n",
        "  accuracy_RF.append(accuracy)\n",
        "  print(i)\n",
        "  print(accuracy)"
      ],
      "execution_count": null,
      "outputs": []
    },
    {
      "cell_type": "code",
      "metadata": {
        "colab": {
          "base_uri": "https://localhost:8080/",
          "height": 534
        },
        "id": "nrAXxltMSYib",
        "outputId": "87826537-e657-4a2b-c0d6-82aa14ced338"
      },
      "source": [
        "p = [*range(1,300,1)]\n",
        "plt.plot(p, accuracy_RF)\n",
        "plt.xlabel(\"n_estimators\")\n",
        "plt.ylabel(\"Accuracy\")"
      ],
      "execution_count": 104,
      "outputs": [
        {
          "output_type": "execute_result",
          "data": {
            "text/plain": [
              "Text(0, 0.5, 'Accuracy')"
            ]
          },
          "metadata": {},
          "execution_count": 104
        },
        {
          "output_type": "display_data",
          "data": {
            "image/png": "[encoded data removed]",
            "text/plain": [
              "<Figure size 842.4x595.44 with 1 Axes>"
            ]
          },
          "metadata": {}
        }
      ]
    },
    {
      "cell_type": "code",
      "metadata": {
        "colab": {
          "base_uri": "https://localhost:8080/"
        },
        "id": "-SouRu4EXvhi",
        "outputId": "e95b5a0c-94e0-4ec9-b3fc-589d1a7d5012"
      },
      "source": [
        "print(\"RandomForestClassifier\", max(accuracy_RF))"
      ],
      "execution_count": 114,
      "outputs": [
        {
          "output_type": "stream",
          "name": "stdout",
          "text": [
            "RandomForestClassifier 0.710749718727626\n"
          ]
        }
      ]
    },
    {
      "cell_type": "code",
      "metadata": {
        "id": "Lq-c-tgQT0uf"
      },
      "source": [
        "X_train, X_test, y_train, y_test = train_test_split(X, y, test_size=0.20, random_state=50)\n",
        "accuracy_xgb = []\n",
        "Model = XGBClassifier(warm_start = True, tree_method = \"gpu_hist\")\n",
        "for i in [*range(100,600,1)]:\n",
        "  Model.n_estimators = i\n",
        "  Model.fit(X_train,y_train)\n",
        "  y_pred = Model.predict(X_test)\n",
        "  accuracy = accuracy_score(y_test,y_pred)\n",
        "  accuracy_xgb.append(accuracy)"
      ],
      "execution_count": null,
      "outputs": []
    },
    {
      "cell_type": "code",
      "metadata": {
        "colab": {
          "base_uri": "https://localhost:8080/",
          "height": 534
        },
        "id": "Tv4WUl9GUadd",
        "outputId": "375c6930-0655-4aa9-ae54-72268b445501"
      },
      "source": [
        "p = [*range(100,600,1)]\n",
        "plt.plot(p, accuracy_xgb)\n",
        "plt.xlabel(\"n_estimators\")\n",
        "plt.ylabel(\"Accuracy\")"
      ],
      "execution_count": 110,
      "outputs": [
        {
          "output_type": "execute_result",
          "data": {
            "text/plain": [
              "Text(0, 0.5, 'Accuracy')"
            ]
          },
          "metadata": {},
          "execution_count": 110
        },
        {
          "output_type": "display_data",
          "data": {
            "image/png": "[encoded data removed]",
            "text/plain": [
              "<Figure size 842.4x595.44 with 1 Axes>"
            ]
          },
          "metadata": {}
        }
      ]
    },
    {
      "cell_type": "code",
      "metadata": {
        "colab": {
          "base_uri": "https://localhost:8080/"
        },
        "id": "HSifZv_HXIpj",
        "outputId": "90589a77-14c8-4a10-a73f-283db2c543f5"
      },
      "source": [
        "X_train, X_test, y_train, y_test = train_test_split(X, y, test_size=0.20, random_state=50)\n",
        "Model = XGBClassifier(n_estimators = 554, tree_method = \"gpu_hist\")\n",
        "Model.fit(X_train, y_train)\n",
        "y_pred = Model.predict(X_test)\n",
        "score = accuracy_score(y_test,y_pred)\n",
        "print(\"XGB: \",score)"
      ],
      "execution_count": 112,
      "outputs": [
        {
          "output_type": "stream",
          "name": "stdout",
          "text": [
            "XGB:  0.718523064334663\n"
          ]
        }
      ]
    },
    {
      "cell_type": "markdown",
      "metadata": {
        "id": "6dQEBVVwYXNQ"
      },
      "source": [
        "### Regularization"
      ]
    },
    {
      "cell_type": "code",
      "metadata": {
        "id": "_VOR2Uz4XcxQ"
      },
      "source": [
        "reg = []\n",
        "for i in range(1,100,1):\n",
        "  i = i/100\n",
        "  X_train, X_test, y_train, y_test = train_test_split(X, y, test_size=0.20, random_state=50)\n",
        "  Model = XGBClassifier(n_estimators = 554, tree_method = \"gpu_hist\" ,max_depth=3, reg_alpha= i)\n",
        "  Model.fit(X_train, y_train)\n",
        "  y_pred = Model.predict(X_test)\n",
        "  score = accuracy_score(y_test,y_pred)\n",
        "  reg.append(score)"
      ],
      "execution_count": null,
      "outputs": []
    },
    {
      "cell_type": "code",
      "metadata": {
        "id": "s5iApKIda8UL"
      },
      "source": [
        "reg2 = []\n",
        "for i in range(1,101,1):\n",
        "  i = i/100\n",
        "  X_train, X_test, y_train, y_test = train_test_split(X, y, test_size=0.20, random_state=50)\n",
        "  Model = XGBClassifier(n_estimators = 554, tree_method = \"gpu_hist\" ,max_depth=3, reg_alpha= 0.12, reg_lambda= i)\n",
        "  Model.fit(X_train, y_train)\n",
        "  y_pred = Model.predict(X_test)\n",
        "  score = accuracy_score(y_test,y_pred)\n",
        "  reg2.append(score)"
      ],
      "execution_count": null,
      "outputs": []
    },
    {
      "cell_type": "code",
      "metadata": {
        "colab": {
          "base_uri": "https://localhost:8080/"
        },
        "id": "Q6A0CcbCb71j",
        "outputId": "4be83502-ce59-4e85-f4a9-ce20f0c686d2"
      },
      "source": [
        "max(reg2)"
      ],
      "execution_count": 126,
      "outputs": [
        {
          "output_type": "execute_result",
          "data": {
            "text/plain": [
              "0.7189321877876649"
            ]
          },
          "metadata": {},
          "execution_count": 126
        }
      ]
    },
    {
      "cell_type": "code",
      "metadata": {
        "colab": {
          "base_uri": "https://localhost:8080/"
        },
        "id": "mWeVEH6PYxiB",
        "outputId": "80ba1952-633c-43bb-8b85-9995fbf3aa70"
      },
      "source": [
        "X_train, X_test, y_train, y_test = train_test_split(X, y, test_size=0.20, random_state=50)\n",
        "Model = XGBClassifier(n_estimators = 554, tree_method = \"gpu_hist\", max_depth=3, reg_alpha= 0.12, reg_lambda = 1)\n",
        "Model.fit(X_train, y_train)\n",
        "y_pred = Model.predict(X_test)\n",
        "score = accuracy_score(y_test,y_pred)\n",
        "print(\"XGB: \",score)"
      ],
      "execution_count": 131,
      "outputs": [
        {
          "output_type": "stream",
          "name": "stdout",
          "text": [
            "XGB:  0.7194435921039174\n"
          ]
        }
      ]
    },
    {
      "cell_type": "code",
      "metadata": {
        "id": "WeZqVcgYc_2z"
      },
      "source": [
        "reg_LGBM = []\n",
        "for i in range(1,100,1):\n",
        "  i = i/100\n",
        "  X_train, X_test, y_train, y_test = train_test_split(X, y, test_size=0.20, random_state=50)\n",
        "  Model = LGBMClassifier(n_estimators = 135, tree_method = \"gpu_hist\" , reg_alpha= i )\n",
        "  Model.fit(X_train, y_train)\n",
        "  y_pred = Model.predict(X_test)\n",
        "  score = accuracy_score(y_test,y_pred)\n",
        "  reg_LGBM.append(score)"
      ],
      "execution_count": null,
      "outputs": []
    },
    {
      "cell_type": "code",
      "metadata": {
        "id": "NKxaw2lWdJMa"
      },
      "source": [
        "reg_LGBM2 = []\n",
        "for i in range(1,100,1):\n",
        "  i = i/100\n",
        "  X_train, X_test, y_train, y_test = train_test_split(X, y, test_size=0.20, random_state=50)\n",
        "  Model = LGBMClassifier(n_estimators = 135, tree_method = \"gpu_hist\" , reg_alpha= 0.15, reg_lambda= i )\n",
        "  Model.fit(X_train, y_train)\n",
        "  y_pred = Model.predict(X_test)\n",
        "  score = accuracy_score(y_test,y_pred)\n",
        "  reg_LGBM2.append(score)"
      ],
      "execution_count": 134,
      "outputs": []
    },
    {
      "cell_type": "code",
      "metadata": {
        "colab": {
          "base_uri": "https://localhost:8080/"
        },
        "id": "-e3CENJ-dXBa",
        "outputId": "cd1bdaf3-bc3f-46c0-f5b3-a6cce9dcff9a"
      },
      "source": [
        "X_train, X_test, y_train, y_test = train_test_split(X, y, test_size=0.20, random_state=50)\n",
        "Model = LGBMClassifier(n_estimators = 135, tree_method = \"gpu_hist\", reg_alpha= 0.15, reg_lambda= 0.34)\n",
        "Model.fit(X_train, y_train)\n",
        "y_pred = Model.predict(X_test)\n",
        "score = accuracy_score(y_test,y_pred)\n",
        "print(\"LGBMClassifier: \",score)"
      ],
      "execution_count": 135,
      "outputs": [
        {
          "output_type": "stream",
          "name": "stdout",
          "text": [
            "LGBMClassifier:  0.7190344686509154\n"
          ]
        }
      ]
    },
    {
      "cell_type": "markdown",
      "metadata": {
        "id": "yVV8sc4ydurc"
      },
      "source": [
        "## Learning cureve for Overfitting and Underfitting"
      ]
    },
    {
      "cell_type": "code",
      "metadata": {
        "id": "NwO2LKwJduNk"
      },
      "source": [
        "# learning cureve to identify overfitting and underfitting \n",
        "from sklearn.model_selection import learning_curve\n",
        "train_sizes = [10000, 15000, 20000, 25000, 30000, 35000, 39105]\n",
        "features = list(X.columns)\n",
        "\n",
        "model = LGBMClassifier(n_estimators = 135, tree_method = \"gpu_hist\", reg_alpha= 0.15, reg_lambda= 0.34)\n",
        "\n",
        "train_sizes, train_scores, validation_scores = learning_curve(\n",
        "model, X[features], y, train_sizes =\n",
        "train_sizes,cv = 5, scoring = 'accuracy')\n",
        "train_scores_mean = train_scores.mean(axis = 1)\n",
        "validation_scores_mean = validation_scores.mean(axis = 1)\n",
        "\n",
        "\n"
      ],
      "execution_count": 143,
      "outputs": []
    },
    {
      "cell_type": "code",
      "metadata": {
        "colab": {
          "base_uri": "https://localhost:8080/",
          "height": 365
        },
        "id": "wWvwvxSldckw",
        "outputId": "5706a6b3-f8d4-4384-e6e9-2f098668cc25"
      },
      "source": [
        "plt.figure(figsize = (8,5))\n",
        "plt.plot(train_sizes, train_scores_mean, label = 'Training accuracy')\n",
        "plt.plot(train_sizes, validation_scores_mean, label = 'Testing accuracy')\n",
        "\n",
        "plt.ylabel('Accuracy', fontsize = 13)\n",
        "plt.xlabel('Training set size', fontsize = 13)\n",
        "title = 'Learning curves for a ' + str(Model).split('(')[0] + ' model'\n",
        "plt.title(title, fontsize = 16, y = 1.03)\n",
        "plt.legend()\n",
        "plt.show()"
      ],
      "execution_count": 144,
      "outputs": [
        {
          "output_type": "display_data",
          "data": {
            "image/png": "[encoded data removed]",
            "text/plain": [
              "<Figure size 576x360 with 1 Axes>"
            ]
          },
          "metadata": {}
        }
      ]
    },
    {
      "cell_type": "code",
      "metadata": {
        "id": "Ls0kwHLvds_r"
      },
      "source": [
        "# learning cureve to identify overfitting and underfitting \n",
        "from sklearn.model_selection import learning_curve\n",
        "train_sizes = [10000, 15000, 20000, 25000, 30000, 35000, 39105]\n",
        "features = list(X.columns)\n",
        "\n",
        "model = XGBClassifier(n_estimators = 554, tree_method = \"gpu_hist\", max_depth=3, reg_alpha= 0.12, reg_lambda = 1)\n",
        "\n",
        "train_sizes, train_scores, validation_scores = learning_curve(\n",
        "model, X[features], y, train_sizes =\n",
        "train_sizes,cv = 5, scoring = 'accuracy')\n",
        "train_scores_mean = train_scores.mean(axis = 1)\n",
        "validation_scores_mean = validation_scores.mean(axis = 1)\n"
      ],
      "execution_count": 140,
      "outputs": []
    },
    {
      "cell_type": "code",
      "metadata": {
        "colab": {
          "base_uri": "https://localhost:8080/",
          "height": 365
        },
        "id": "npi6nj-AfUHW",
        "outputId": "8e3d4df8-cacf-47ca-9642-6eb6ed018f9a"
      },
      "source": [
        "plt.figure(figsize = (8,5))\n",
        "plt.plot(train_sizes, train_scores_mean, label = 'Training accuracy')\n",
        "plt.plot(train_sizes, validation_scores_mean, label = 'Testing accuracy')\n",
        "\n",
        "plt.ylabel('Accuracy', fontsize = 13)\n",
        "plt.xlabel('Training set size', fontsize = 13)\n",
        "title = 'Learning curves for a ' + str(Model).split('(')[0] + ' model'\n",
        "plt.title(title, fontsize = 16, y = 1.03)\n",
        "plt.legend()\n",
        "plt.show()"
      ],
      "execution_count": 142,
      "outputs": [
        {
          "output_type": "display_data",
          "data": {
            "image/png": "[encoded data removed]",
            "text/plain": [
              "<Figure size 576x360 with 1 Axes>"
            ]
          },
          "metadata": {}
        }
      ]
    },
    {
      "cell_type": "markdown",
      "metadata": {
        "id": "g0RQJuS7gMaS"
      },
      "source": [
        "\n",
        "\n",
        "1.   As training set size increases testing accuracy increases. Therefore adding more data will increase the perforamce\n",
        "2.   Training accuracy is high, so our model has low baise\n",
        "3.   Gap between the two curve indicates variance.Generally, the more narrow the gap, the lower the variance. The opposite is also true: the wider the gap, the greater the variance. here we have high variance\n",
        "4.  This high variance problem can be solve by adding more data, as we can see that, in the garph slope of test accuracy is more then train accuracy\n",
        "5.  Generally in low bias and high variance,  XGboost perform well\n",
        "\n"
      ]
    },
    {
      "cell_type": "markdown",
      "metadata": {
        "id": "65Z8Pa7yl9_b"
      },
      "source": [
        "## Confusion_matrix"
      ]
    },
    {
      "cell_type": "code",
      "metadata": {
        "colab": {
          "base_uri": "https://localhost:8080/",
          "height": 550
        },
        "id": "ahs7M2m4mChO",
        "outputId": "e81b4a6f-086e-46dc-c92c-db076969d67f"
      },
      "source": [
        "X_train, X_test, y_train, y_test = train_test_split(X, y, test_size=0.20, random_state=50)\n",
        "Model = LGBMClassifier(n_estimators = 135, tree_method = \"gpu_hist\", reg_alpha= 0.15, reg_lambda= 0.34)\n",
        "Model.fit(X_train, y_train)\n",
        "y_pred = Model.predict(X_test)\n",
        "score = accuracy_score(y_test,y_pred)\n",
        "print(\"LGBMClassifier: \",score)\n",
        "plot_confusion_matrix(Model, X_test,y_test, values_format = '', )\n",
        "plt.title(\"Confusion_matrix of LGBMClassifier\")\n",
        "plt.grid(False)\n",
        "plt.show()"
      ],
      "execution_count": 169,
      "outputs": [
        {
          "output_type": "stream",
          "name": "stdout",
          "text": [
            "LGBMClassifier:  0.7190344686509154\n"
          ]
        },
        {
          "output_type": "display_data",
          "data": {
            "image/png": "[encoded data removed]",
            "text/plain": [
              "<Figure size 842.4x595.44 with 2 Axes>"
            ]
          },
          "metadata": {}
        }
      ]
    },
    {
      "cell_type": "code",
      "metadata": {
        "colab": {
          "base_uri": "https://localhost:8080/",
          "height": 550
        },
        "id": "fZ4pncPXnLDk",
        "outputId": "04da3ed2-10d6-4c18-a749-5b993bf046e4"
      },
      "source": [
        "X_train, X_test, y_train, y_test = train_test_split(X, y, test_size=0.20, random_state=50)\n",
        "Model = XGBClassifier(n_estimators = 554, tree_method = \"gpu_hist\", max_depth=3, reg_alpha= 0.12, reg_lambda = 1)\n",
        "Model.fit(X_train, y_train)\n",
        "y_pred = Model.predict(X_test)\n",
        "score = accuracy_score(y_test,y_pred)\n",
        "print(\"XGBClassifier: \",score)\n",
        "plot_confusion_matrix(Model, X_test,y_test, values_format = '')\n",
        "plt.title(\"Confusion_matrix of XGBClassifier\")\n",
        "plt.grid(False)\n",
        "plt.show()"
      ],
      "execution_count": 170,
      "outputs": [
        {
          "output_type": "stream",
          "name": "stdout",
          "text": [
            "XGBClassifier:  0.7194435921039174\n"
          ]
        },
        {
          "output_type": "display_data",
          "data": {
            "image/png": "[encoded data removed]",
            "text/plain": [
              "<Figure size 842.4x595.44 with 2 Axes>"
            ]
          },
          "metadata": {}
        }
      ]
    },
    {
      "cell_type": "markdown",
      "metadata": {
        "id": "AyDKn55owg2F"
      },
      "source": [
        "# Result:"
      ]
    },
    {
      "cell_type": "markdown",
      "metadata": {
        "id": "L5JZ2eX7wo7R"
      },
      "source": [
        "## **EDA:** \n",
        "\n",
        "\n",
        "1.   From Countplot we can see that the Given dataset is balanced. So we will use Accuracy as our evaluation matrix\n",
        "2.   mentee_major has closed to 1800 missing values,mentor_major has closed to 1200 missing values, mentee_help_topics has closed to 16000 missing values, mentor_help_topics has closed to 1400 missing values\n",
        "3.   Top 3 skills selected by mentees in college are: 1) Business administration 2) Computer networks and cybersecurity 3) Psychology\n",
        "4.   Top 3 skills selected by mentors in college are: 1) Business administration 2) Computer networks and cybersecurity 3) Information system management\n",
        "5.   Top 3 topics in which mentees are seeking help: 1) Career planning 2)  Career / industry trends 3) General networking\n",
        "6.   Top 3 topics in which mentors are willing to help: 1) Leadership skills 2)  Career / industry trends 3) Management\n",
        "7.   Top 3 domains in which mentees are looking to build\n",
        " expertise: 1) computer - it services 2)  Cybersecurity 3) Business services\n",
        "8.   Top 3 domain in which mentors has expertise: 1) computer - it services 2)  government / public admin 3) Business services\n",
        "\n",
        "## **Method_1: Using Word Mover’s Distance**\n",
        "In this method we have performed the following steps:\n",
        "\n",
        "\n",
        "1.   Pre_processing: Removing Stop words, Square brackets, single quotes, Converting into lowercase\n",
        "2.   Creating Vocabulary from the given dataset and adding it to Word2vec models\n",
        "3.   Feature Engineering: Getting the similarity Score between mentee & mentor using Word Mover’s Distance\n",
        "4.   Handling the Infinity values\n",
        "5.   Multicollinearity check\n",
        "6.   Model selection via cross-validation: Best performing models using this method are\n",
        "            XGBClassifier  -> CV_score = 0.667731\n",
        "            LGBMClassifier -> CV_score = 0.647682\n",
        "\n",
        "\n",
        "\n",
        "\n",
        "## **Method 2: Using pre_trained models(Hugging Face)**\n",
        "In this method we have performed the following steps:\n",
        "\n",
        "\n",
        "1.   Pre_processing: Removing Stop words, Square brackets, single quotes, Converting into lowercase\n",
        "2.   Loading the pre_trained model\n",
        "3.   Feature Engineering: Embedding & Cosine similarity\n",
        "4.   Handling the Infinity values\n",
        "5.   Multicollinearity check\n",
        "6.   Model selection via cross-validation: Best performing models using this method are\n",
        "            XGBClassifier          -> CV_score = 0.687615\n",
        "            LGBMClassifier         -> CV_score = 0.701751\n",
        "            RandomForestClassifier -> CV_score = 0.694693\n",
        "**Note: Method 2 gives better performance. So we will use this method for Hyperparameter Tuning**\n",
        "\n",
        "7.   Hyperparameter Tuning: After this step\n",
        "            XGBClassifier          -> score = 0.7194\n",
        "            LGBMClassifier         -> score = 0.7190\n",
        "8.   Learning curve for Overfitting and Underfitting\n",
        "            1.   As training set size increases testing accuracy increases. Therefore adding more data will increase the performance\n",
        "            2.   Training accuracy is high, so our model has a low bias\n",
        "            3.   Gap between the two curves indicates variance. Generally, the more narrow the gap, the lower the variance. \n",
        "            The opposite is also true: the wider the gap, the greater the variance. here we have a high variance\n",
        "            4.  This high variance problem can be solved by adding more data, as we can see that, in the graph slope of \n",
        "            the test accuracy is more than train accuracy\n",
        "            5.  Generally in low bias and high variance,  XGboost perform well"
      ]
    },
    {
      "cell_type": "code",
      "metadata": {
        "id": "ZbKQhH_UNg6w"
      },
      "source": [
        ""
      ],
      "execution_count": null,
      "outputs": []
    }
  ]
}